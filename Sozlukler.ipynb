{
 "cells": [
  {
   "cell_type": "code",
   "execution_count": 1,
   "id": "c747279c-03d6-45f5-9e86-6377d9e24aa7",
   "metadata": {},
   "outputs": [],
   "source": [
    "benimListem=[1,2,3]"
   ]
  },
  {
   "cell_type": "code",
   "execution_count": 3,
   "id": "09305612-be87-4744-b772-b43e4256a31a",
   "metadata": {},
   "outputs": [
    {
     "data": {
      "text/plain": [
       "1"
      ]
     },
     "execution_count": 3,
     "metadata": {},
     "output_type": "execute_result"
    }
   ],
   "source": [
    "benimListem[0]"
   ]
  },
  {
   "cell_type": "code",
   "execution_count": 5,
   "id": "512700d3-8184-459a-8836-7f5276831964",
   "metadata": {},
   "outputs": [],
   "source": [
    "#key- value pairing (anahtar kelime- değer eşleşmesi)"
   ]
  },
  {
   "cell_type": "code",
   "execution_count": 7,
   "id": "921df221-4865-4ad5-a76e-880763e36981",
   "metadata": {},
   "outputs": [],
   "source": [
    "benimYemeklerim=[\"elma\",\"karuz\",\"muz\"]"
   ]
  },
  {
   "cell_type": "code",
   "execution_count": 11,
   "id": "ea8d8a18-a3e8-49bc-b01d-523b56000902",
   "metadata": {},
   "outputs": [],
   "source": [
    "benimKalorilerim=[100,200,300]"
   ]
  },
  {
   "cell_type": "code",
   "execution_count": 15,
   "id": "720c00cd-9966-4817-9411-f8b3126996eb",
   "metadata": {},
   "outputs": [],
   "source": [
    "benimSozluk={\"anahtarkelime\":\"deger\"}"
   ]
  },
  {
   "cell_type": "code",
   "execution_count": 17,
   "id": "4bb50b23-d44a-403d-b4f6-b318b01b42a1",
   "metadata": {},
   "outputs": [
    {
     "data": {
      "text/plain": [
       "dict"
      ]
     },
     "execution_count": 17,
     "metadata": {},
     "output_type": "execute_result"
    }
   ],
   "source": [
    "type(benimSozluk)"
   ]
  },
  {
   "cell_type": "code",
   "execution_count": 21,
   "id": "49643699-1300-4fad-8dc9-3cb96c83d24d",
   "metadata": {},
   "outputs": [
    {
     "data": {
      "text/plain": [
       "'deger'"
      ]
     },
     "execution_count": 21,
     "metadata": {},
     "output_type": "execute_result"
    }
   ],
   "source": [
    "benimSozluk[\"anahtarkelime\"]"
   ]
  },
  {
   "cell_type": "code",
   "execution_count": 23,
   "id": "a7f4e20e-2eba-4e4d-a2a9-86a3defbf829",
   "metadata": {},
   "outputs": [],
   "source": [
    "benimyemekkalorisozlugum={\"elma\":100,\"karpuz\":200}"
   ]
  },
  {
   "cell_type": "code",
   "execution_count": 25,
   "id": "eda5a881-28fc-4a9d-bc02-f64c44cc5f4b",
   "metadata": {},
   "outputs": [
    {
     "data": {
      "text/plain": [
       "100"
      ]
     },
     "execution_count": 25,
     "metadata": {},
     "output_type": "execute_result"
    }
   ],
   "source": [
    "benimyemekkalorisozlugum[\"elma\"]"
   ]
  },
  {
   "cell_type": "code",
   "execution_count": 27,
   "id": "577e7d9f-4a5c-4188-9ac3-06b2678645a9",
   "metadata": {},
   "outputs": [],
   "source": [
    "benimyemekkalorisozlugum[\"elma\"]=200"
   ]
  },
  {
   "cell_type": "code",
   "execution_count": 29,
   "id": "fb0708b8-1978-4d0e-931e-2b43d5398d02",
   "metadata": {},
   "outputs": [
    {
     "data": {
      "text/plain": [
       "{'elma': 200, 'karpuz': 200}"
      ]
     },
     "execution_count": 29,
     "metadata": {},
     "output_type": "execute_result"
    }
   ],
   "source": [
    "benimyemekkalorisozlugum"
   ]
  },
  {
   "cell_type": "code",
   "execution_count": 31,
   "id": "c5e5b333-7ae5-4ddb-b525-0665ddd73687",
   "metadata": {},
   "outputs": [],
   "source": [
    "yeniDictionary={\"anahtar\":100,\"anahtar2\":[10,20,30,40,4.5,\"atıl\"],\"anahtar3\":{\"anahtar9\":4}}"
   ]
  },
  {
   "cell_type": "code",
   "execution_count": 33,
   "id": "01573299-1541-4d6b-9bbf-52b6ab55e813",
   "metadata": {},
   "outputs": [
    {
     "data": {
      "text/plain": [
       "dict_keys(['anahtar', 'anahtar2', 'anahtar3'])"
      ]
     },
     "execution_count": 33,
     "metadata": {},
     "output_type": "execute_result"
    }
   ],
   "source": [
    "yeniDictionary.keys()"
   ]
  },
  {
   "cell_type": "code",
   "execution_count": 37,
   "id": "8b559f9c-37ea-4c13-81cb-76519a5814ea",
   "metadata": {},
   "outputs": [
    {
     "data": {
      "text/plain": [
       "dict_values([100, [10, 20, 30, 40, 4.5, 'atıl'], {'anahtar9': 4}])"
      ]
     },
     "execution_count": 37,
     "metadata": {},
     "output_type": "execute_result"
    }
   ],
   "source": [
    "yeniDictionary.values()"
   ]
  },
  {
   "cell_type": "code",
   "execution_count": 39,
   "id": "011c80b8-c1c3-4cd5-9a18-edf970352b4c",
   "metadata": {},
   "outputs": [
    {
     "data": {
      "text/plain": [
       "'atıl'"
      ]
     },
     "execution_count": 39,
     "metadata": {},
     "output_type": "execute_result"
    }
   ],
   "source": [
    "yeniDictionary[\"anahtar2\"][5]"
   ]
  },
  {
   "cell_type": "code",
   "execution_count": 41,
   "id": "d9334247-c85c-44c0-9c4a-c80954a5ecab",
   "metadata": {},
   "outputs": [
    {
     "data": {
      "text/plain": [
       "4"
      ]
     },
     "execution_count": 41,
     "metadata": {},
     "output_type": "execute_result"
    }
   ],
   "source": [
    "yeniDictionary[\"anahtar3\"][\"anahtar9\"]"
   ]
  },
  {
   "cell_type": "code",
   "execution_count": null,
   "id": "3c9b9f6b-2b65-4abc-a74e-7cbe78fbe5b3",
   "metadata": {},
   "outputs": [],
   "source": []
  }
 ],
 "metadata": {
  "kernelspec": {
   "display_name": "anaconda-panel-2023.05-py310",
   "language": "python",
   "name": "conda-env-anaconda-panel-2023.05-py310-py"
  },
  "language_info": {
   "codemirror_mode": {
    "name": "ipython",
    "version": 3
   },
   "file_extension": ".py",
   "mimetype": "text/x-python",
   "name": "python",
   "nbconvert_exporter": "python",
   "pygments_lexer": "ipython3",
   "version": "3.11.5"
  }
 },
 "nbformat": 4,
 "nbformat_minor": 5
}
