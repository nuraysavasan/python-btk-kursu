{
 "cells": [
  {
   "cell_type": "code",
   "execution_count": 1,
   "id": "88349fb9-4f9a-4f93-9423-516579ebd0f9",
   "metadata": {},
   "outputs": [],
   "source": [
    "benimListem=list()"
   ]
  },
  {
   "cell_type": "code",
   "execution_count": 3,
   "id": "7bb7ee28-1b6a-42b6-98af-72aaad6f22b6",
   "metadata": {},
   "outputs": [
    {
     "data": {
      "text/plain": [
       "list"
      ]
     },
     "execution_count": 3,
     "metadata": {},
     "output_type": "execute_result"
    }
   ],
   "source": [
    "type(benimListem)"
   ]
  },
  {
   "cell_type": "code",
   "execution_count": 5,
   "id": "186bbbd3-b99f-4549-b415-3bc17cf35f04",
   "metadata": {},
   "outputs": [],
   "source": [
    "#İNSTANCE & ATTRİBUTE"
   ]
  },
  {
   "cell_type": "code",
   "execution_count": 59,
   "id": "4e63622e-1cb8-4666-bafc-ecf06de75e49",
   "metadata": {},
   "outputs": [],
   "source": [
    "class SuperKahraman():\n",
    "    ozelGuc=\"gorunmezlik\"\n",
    "    def __init__(self,isimInput,yasInput,meslekInput):\n",
    "        print(\"init çağırıldı\")\n",
    "        self.isim=isimInput\n",
    "        self.yas=yasInput\n",
    "        self.meslek=meslekInput\n",
    "    def OrnekMethod(self):\n",
    "        print(f\"ben süperkahramaınm ve mesleğim {self.meslek}\")\n",
    "        "
   ]
  },
  {
   "cell_type": "code",
   "execution_count": 61,
   "id": "596ba9b3-406a-4f7c-8ab6-5c7fff1261d5",
   "metadata": {},
   "outputs": [
    {
     "name": "stdout",
     "output_type": "stream",
     "text": [
      "init çağırıldı\n"
     ]
    }
   ],
   "source": [
    "superman=SuperKahraman(\"superman\",30,\"gazeteci\")\n"
   ]
  },
  {
   "cell_type": "code",
   "execution_count": 63,
   "id": "42dc34e4-664f-4568-8931-8a477e568512",
   "metadata": {},
   "outputs": [
    {
     "data": {
      "text/plain": [
       "'clart'"
      ]
     },
     "execution_count": 63,
     "metadata": {},
     "output_type": "execute_result"
    }
   ],
   "source": [
    "superman.isim=\"clart\"\n",
    "superman.isim"
   ]
  },
  {
   "cell_type": "code",
   "execution_count": 65,
   "id": "ad5255c4-56d0-445f-987b-d5aaa11f1e9f",
   "metadata": {},
   "outputs": [
    {
     "data": {
      "text/plain": [
       "'uçmak'"
      ]
     },
     "execution_count": 65,
     "metadata": {},
     "output_type": "execute_result"
    }
   ],
   "source": [
    "superman.ozelGuc=\"uçmak\"\n",
    "superman.ozelGuc"
   ]
  },
  {
   "cell_type": "code",
   "execution_count": 67,
   "id": "589dc2aa-7bab-4770-9101-440d824047f5",
   "metadata": {},
   "outputs": [
    {
     "name": "stdout",
     "output_type": "stream",
     "text": [
      "ben süperkahramaınm ve mesleğim gazeteci\n"
     ]
    }
   ],
   "source": [
    "superman.OrnekMethod()"
   ]
  },
  {
   "cell_type": "code",
   "execution_count": 89,
   "id": "c33291e5-ec6b-4fa9-bcd1-7677c3c07747",
   "metadata": {},
   "outputs": [],
   "source": [
    "class Kopek():\n",
    "    def __init__(self,yas=5):\n",
    "        self.yas=yas*7"
   ]
  },
  {
   "cell_type": "code",
   "execution_count": 91,
   "id": "72b3ede4-aecf-459a-8294-2b39762d8266",
   "metadata": {},
   "outputs": [],
   "source": [
    "benimKopek=Kopek(3)"
   ]
  },
  {
   "cell_type": "code",
   "execution_count": 93,
   "id": "c6115c55-4c50-43b0-8456-c88f0ced7324",
   "metadata": {},
   "outputs": [
    {
     "data": {
      "text/plain": [
       "21"
      ]
     },
     "execution_count": 93,
     "metadata": {},
     "output_type": "execute_result"
    }
   ],
   "source": [
    "benimKopek.yas"
   ]
  },
  {
   "cell_type": "code",
   "execution_count": 11,
   "id": "ee3fe578-c6bd-4b58-a6ab-a8f45f4ba229",
   "metadata": {},
   "outputs": [],
   "source": [
    "class Hayvan():\n",
    "    def __init__(self):\n",
    "        print(\"hayvan sınıfı init cağrıldı\")\n",
    "    def method1(self):\n",
    "        print(\"hayvan sınıfı methd1\")\n",
    "    def method2(self):\n",
    "        printt(\"hayvan sınıfı metthıd2 çağırıldı\")"
   ]
  },
  {
   "cell_type": "code",
   "execution_count": 12,
   "id": "a435ff93-1fe7-471f-b975-e32723662aba",
   "metadata": {},
   "outputs": [
    {
     "name": "stdout",
     "output_type": "stream",
     "text": [
      "hayvan sınıfı init cağrıldı\n"
     ]
    }
   ],
   "source": [
    "benimHayvanim=Hayvan()"
   ]
  },
  {
   "cell_type": "code",
   "execution_count": 13,
   "id": "ef0ce88a-aebf-4dfd-976b-edae50afb70b",
   "metadata": {},
   "outputs": [
    {
     "name": "stdout",
     "output_type": "stream",
     "text": [
      "hayvan sınıfı methd1\n"
     ]
    }
   ],
   "source": [
    "benimHayvanim.method1()"
   ]
  },
  {
   "cell_type": "code",
   "execution_count": 17,
   "id": "c07a517b-37b2-4e73-b3b9-299ed57176d5",
   "metadata": {},
   "outputs": [],
   "source": [
    "class Kedi(Hayvan):\n",
    "    def __init__(self):\n",
    "        Hayvan.__init__(self)\n",
    "        print(\"kedi sınıfı init çağırıldı\")\n",
    "    def miyavla(self):\n",
    "        print(\"miyav\")\n",
    "        \n",
    "        #override\n",
    "    def method1(self):\n",
    "        print(\"kedi sınıfındaki method1 çağırıldı\")"
   ]
  },
  {
   "cell_type": "code",
   "execution_count": 18,
   "id": "c10102d2-0636-40a9-a9bb-84cc5a851d4d",
   "metadata": {},
   "outputs": [
    {
     "name": "stdout",
     "output_type": "stream",
     "text": [
      "hayvan sınıfı init cağrıldı\n",
      "kedi sınıfı init çağırıldı\n"
     ]
    }
   ],
   "source": [
    "benimKedi=Kedi()"
   ]
  },
  {
   "cell_type": "code",
   "execution_count": 19,
   "id": "abf8046a-6824-4787-9989-d08ea422d23f",
   "metadata": {},
   "outputs": [
    {
     "name": "stdout",
     "output_type": "stream",
     "text": [
      "kedi sınıfındaki method1 çağırıldı\n"
     ]
    }
   ],
   "source": [
    "benimKedi.method1()"
   ]
  },
  {
   "cell_type": "code",
   "execution_count": 20,
   "id": "58e1ea1f-d1c8-46b8-afdf-813fc98b35e2",
   "metadata": {},
   "outputs": [
    {
     "name": "stdout",
     "output_type": "stream",
     "text": [
      "miyav\n"
     ]
    }
   ],
   "source": [
    "benimKedi.miyavla()"
   ]
  },
  {
   "cell_type": "code",
   "execution_count": 21,
   "id": "7a310493-73ea-4859-9789-13d2e5bd1ba2",
   "metadata": {},
   "outputs": [
    {
     "name": "stdout",
     "output_type": "stream",
     "text": [
      "hayvan sınıfı init cağrıldı\n"
     ]
    }
   ],
   "source": [
    "digerHayvan=Hayvan()"
   ]
  },
  {
   "cell_type": "code",
   "execution_count": 22,
   "id": "6654d44d-c9f9-41b5-9892-d070ca15c9ba",
   "metadata": {},
   "outputs": [
    {
     "name": "stdout",
     "output_type": "stream",
     "text": [
      "hayvan sınıfı methd1\n"
     ]
    }
   ],
   "source": [
    "digerHayvan.method1()"
   ]
  },
  {
   "cell_type": "code",
   "execution_count": 23,
   "id": "1d0b47a0-730d-4949-bacf-2ca6c18de9f8",
   "metadata": {},
   "outputs": [
    {
     "name": "stdout",
     "output_type": "stream",
     "text": [
      "hayvan sınıfı init cağrıldı\n",
      "kedi sınıfı init çağırıldı\n"
     ]
    }
   ],
   "source": [
    "digerKedi=Kedi()"
   ]
  },
  {
   "cell_type": "code",
   "execution_count": 24,
   "id": "fddbee67-36e2-403b-be94-baa5e6310d23",
   "metadata": {},
   "outputs": [
    {
     "name": "stdout",
     "output_type": "stream",
     "text": [
      "kedi sınıfındaki method1 çağırıldı\n"
     ]
    }
   ],
   "source": [
    "digerKedi.method1()"
   ]
  },
  {
   "cell_type": "markdown",
   "id": "d1b415dd-e8de-414e-94a7-3ed504d521ac",
   "metadata": {},
   "source": [
    "#POLİMORFİZM"
   ]
  },
  {
   "cell_type": "code",
   "execution_count": 26,
   "id": "0521fe69-acfd-494f-aa44-6beee657f033",
   "metadata": {},
   "outputs": [],
   "source": [
    "class Elma():\n",
    "    def __init__(self,isim):\n",
    "        self.isim=isim\n",
    "    def bilgiVer(self):\n",
    "        return self.isim+\"100 kaloridir\""
   ]
  },
  {
   "cell_type": "code",
   "execution_count": 27,
   "id": "2253d45c-9198-48ae-b1c8-f2c5b2a6cd0a",
   "metadata": {},
   "outputs": [],
   "source": [
    "class Muz():\n",
    "    def __init__(self,isim):\n",
    "        self.isim=isim\n",
    "    def bilgiVer(self):\n",
    "        return self.isim+\"150 kaloridir\""
   ]
  },
  {
   "cell_type": "code",
   "execution_count": 28,
   "id": "755fc145-47b1-4c3f-9dcd-b878224b18d0",
   "metadata": {},
   "outputs": [],
   "source": [
    "elma=Elma(\"elma\")"
   ]
  },
  {
   "cell_type": "code",
   "execution_count": 29,
   "id": "35550d29-b1a2-4e71-8190-a7c38b892896",
   "metadata": {},
   "outputs": [
    {
     "data": {
      "text/plain": [
       "'elma100 kaloridir'"
      ]
     },
     "execution_count": 29,
     "metadata": {},
     "output_type": "execute_result"
    }
   ],
   "source": [
    "elma.bilgiVer()"
   ]
  },
  {
   "cell_type": "code",
   "execution_count": 31,
   "id": "446c5d80-815e-4595-a7e3-d20fa70d93f9",
   "metadata": {},
   "outputs": [
    {
     "data": {
      "text/plain": [
       "'muz150 kaloridir'"
      ]
     },
     "execution_count": 31,
     "metadata": {},
     "output_type": "execute_result"
    }
   ],
   "source": [
    "muz=Muz(\"muz\")\n",
    "muz.bilgiVer()"
   ]
  },
  {
   "cell_type": "code",
   "execution_count": 32,
   "id": "e8594f88-65bd-472e-8a33-ae969931fb8c",
   "metadata": {},
   "outputs": [],
   "source": [
    "meyveListesi=[elma,muz]"
   ]
  },
  {
   "cell_type": "code",
   "execution_count": 33,
   "id": "5490d675-4273-497d-9b03-b622cc61a8c4",
   "metadata": {},
   "outputs": [
    {
     "name": "stdout",
     "output_type": "stream",
     "text": [
      "elma100 kaloridir\n",
      "muz150 kaloridir\n"
     ]
    }
   ],
   "source": [
    "for meyve in meyveListesi:\n",
    "    print(meyve.bilgiVer())"
   ]
  },
  {
   "cell_type": "code",
   "execution_count": 34,
   "id": "1cc3912f-f454-4161-adbf-4b3b0f694197",
   "metadata": {},
   "outputs": [],
   "source": [
    "def bilgiAl(meyve):\n",
    "    print(meyve.bilgiVer())"
   ]
  },
  {
   "cell_type": "code",
   "execution_count": 35,
   "id": "24c08da5-a766-4631-829b-d629116974dd",
   "metadata": {},
   "outputs": [
    {
     "name": "stdout",
     "output_type": "stream",
     "text": [
      "muz150 kaloridir\n"
     ]
    }
   ],
   "source": [
    "bilgiAl(muz)"
   ]
  },
  {
   "cell_type": "code",
   "execution_count": 36,
   "id": "35bbb560-fa51-4eff-8937-d93f5e76cedc",
   "metadata": {},
   "outputs": [
    {
     "name": "stdout",
     "output_type": "stream",
     "text": [
      "elma100 kaloridir\n"
     ]
    }
   ],
   "source": [
    "bilgiAl(elma)"
   ]
  },
  {
   "cell_type": "code",
   "execution_count": null,
   "id": "5c832660-8c57-4a1b-919c-4b10d49ae86a",
   "metadata": {},
   "outputs": [],
   "source": []
  }
 ],
 "metadata": {
  "kernelspec": {
   "display_name": "anaconda-panel-2023.05-py310",
   "language": "python",
   "name": "conda-env-anaconda-panel-2023.05-py310-py"
  },
  "language_info": {
   "codemirror_mode": {
    "name": "ipython",
    "version": 3
   },
   "file_extension": ".py",
   "mimetype": "text/x-python",
   "name": "python",
   "nbconvert_exporter": "python",
   "pygments_lexer": "ipython3",
   "version": "3.11.5"
  }
 },
 "nbformat": 4,
 "nbformat_minor": 5
}
