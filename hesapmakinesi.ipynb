{
 "cells": [
  {
   "cell_type": "code",
   "execution_count": null,
   "id": "dfd3a176-02bf-4dcb-ba8c-ef1497e5bacd",
   "metadata": {},
   "outputs": [],
   "source": [
    "def hesapla(a,b,islem):\n",
    "    if islem not in\"+-*/\":\n",
    "        print(\"lütfen şunlardan birini seç +-*/\")\n",
    "    if islem==\"+\":\n",
    "        return (str(a)+\"+\"+str(b)+\"=\"+str(a+b))\n",
    "    elif islem==\"-\":\n",
    "        return (str(a)+\"-\"+str(b)+\"=\"+str(a-b))\n",
    "    elif islem==\"*\":\n",
    "        return (str(a)+\"*\"+str(b)+\"=\"+str(a*b))\n",
    "    elif islem==\"/\":\n",
    "        return (str(a)+\"/\"+str(b)+\"=\"+str(a/b))\n",
    "while True:   \n",
    "    try:\n",
    "        a=int(input(\"ilk sayi:\"))\n",
    "        b=int(input(\"ikinci sayi:\"))\n",
    "        islem=input(\"işlem ne \")\n",
    "        print(hesapla(a,b,islem))\n",
    "    except:\n",
    "        print(\"lütfen sayilari düzgün gir\")\n",
    "\n"
   ]
  },
  {
   "cell_type": "code",
   "execution_count": null,
   "id": "e2649d5e-ac6b-45dd-bd30-a2cf43c20455",
   "metadata": {},
   "outputs": [],
   "source": []
  },
  {
   "cell_type": "code",
   "execution_count": null,
   "id": "2a035878-4a4c-4491-98e8-6633d37e76c6",
   "metadata": {},
   "outputs": [],
   "source": []
  }
 ],
 "metadata": {
  "kernelspec": {
   "display_name": "anaconda-panel-2023.05-py310",
   "language": "python",
   "name": "conda-env-anaconda-panel-2023.05-py310-py"
  },
  "language_info": {
   "codemirror_mode": {
    "name": "ipython",
    "version": 3
   },
   "file_extension": ".py",
   "mimetype": "text/x-python",
   "name": "python",
   "nbconvert_exporter": "python",
   "pygments_lexer": "ipython3",
   "version": "3.11.5"
  }
 },
 "nbformat": 4,
 "nbformat_minor": 5
}
