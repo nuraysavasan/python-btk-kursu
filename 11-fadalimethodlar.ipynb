{
 "cells": [
  {
   "cell_type": "code",
   "execution_count": 2,
   "id": "13ce1a49-28f1-427c-bbed-a7b96c04951c",
   "metadata": {},
   "outputs": [
    {
     "data": {
      "text/plain": [
       "range"
      ]
     },
     "execution_count": 2,
     "metadata": {},
     "output_type": "execute_result"
    }
   ],
   "source": [
    "range"
   ]
  },
  {
   "cell_type": "code",
   "execution_count": 4,
   "id": "a75e3774-ff5b-4225-bb8b-b74b33369201",
   "metadata": {},
   "outputs": [
    {
     "data": {
      "text/plain": [
       "range(0, 15)"
      ]
     },
     "execution_count": 4,
     "metadata": {},
     "output_type": "execute_result"
    }
   ],
   "source": [
    "range(15)"
   ]
  },
  {
   "cell_type": "code",
   "execution_count": 6,
   "id": "8f26e59a-8eba-4f56-a6f1-cd18214e6977",
   "metadata": {},
   "outputs": [
    {
     "data": {
      "text/plain": [
       "[0, 1, 2, 3, 4, 5, 6, 7, 8, 9, 10, 11, 12, 13, 14]"
      ]
     },
     "execution_count": 6,
     "metadata": {},
     "output_type": "execute_result"
    }
   ],
   "source": [
    "list(range(15))"
   ]
  },
  {
   "cell_type": "code",
   "execution_count": 8,
   "id": "7809e54a-b0db-4f20-95fe-6027901350f9",
   "metadata": {},
   "outputs": [
    {
     "data": {
      "text/plain": [
       "[5, 9, 13, 17]"
      ]
     },
     "execution_count": 8,
     "metadata": {},
     "output_type": "execute_result"
    }
   ],
   "source": [
    "list(range(5,21,4))"
   ]
  },
  {
   "cell_type": "code",
   "execution_count": 10,
   "id": "8dbeccea-47cc-444d-8534-7c98d7e15e64",
   "metadata": {},
   "outputs": [],
   "source": [
    "##enumerate"
   ]
  },
  {
   "cell_type": "code",
   "execution_count": 16,
   "id": "20593726-d371-47a9-9146-1d909a24568b",
   "metadata": {},
   "outputs": [
    {
     "name": "stdout",
     "output_type": "stream",
     "text": [
      "guncel numara:5 güncel index: 0\n",
      "guncel numara:6 güncel index: 1\n",
      "guncel numara:7 güncel index: 2\n",
      "guncel numara:8 güncel index: 3\n",
      "guncel numara:9 güncel index: 4\n",
      "guncel numara:10 güncel index: 5\n",
      "guncel numara:11 güncel index: 6\n",
      "guncel numara:12 güncel index: 7\n",
      "guncel numara:13 güncel index: 8\n",
      "guncel numara:14 güncel index: 9\n"
     ]
    }
   ],
   "source": [
    "index=0\n",
    "for numara in list(range(5,15)):\n",
    "    print(f\"guncel numara:{numara} güncel index: {index}\")\n",
    "    index=index+1"
   ]
  },
  {
   "cell_type": "code",
   "execution_count": 18,
   "id": "99589654-cea1-4079-b349-f751cda47710",
   "metadata": {},
   "outputs": [
    {
     "name": "stdout",
     "output_type": "stream",
     "text": [
      "(0, 5)\n",
      "(1, 6)\n",
      "(2, 7)\n",
      "(3, 8)\n",
      "(4, 9)\n",
      "(5, 10)\n",
      "(6, 11)\n",
      "(7, 12)\n",
      "(8, 13)\n",
      "(9, 14)\n"
     ]
    }
   ],
   "source": [
    "for eleman in enumerate(list(range(5,15))):\n",
    "    print(eleman)"
   ]
  },
  {
   "cell_type": "code",
   "execution_count": 20,
   "id": "f7f2843f-2159-4e00-b63d-f9018f7eeced",
   "metadata": {},
   "outputs": [
    {
     "name": "stdout",
     "output_type": "stream",
     "text": [
      "0\n",
      "1\n",
      "2\n",
      "3\n",
      "4\n",
      "5\n",
      "6\n",
      "7\n",
      "8\n",
      "9\n"
     ]
    }
   ],
   "source": [
    "for (index, numara) in enumerate(list(range(5,15))):\n",
    "    print(index)"
   ]
  },
  {
   "cell_type": "code",
   "execution_count": 22,
   "id": "c014dc12-54a0-4e95-b7aa-e82963e3e385",
   "metadata": {},
   "outputs": [],
   "source": [
    "#RANDOM"
   ]
  },
  {
   "cell_type": "code",
   "execution_count": 24,
   "id": "09907623-36a2-4f79-8cf5-b08360e3283c",
   "metadata": {},
   "outputs": [],
   "source": [
    "from random import randint"
   ]
  },
  {
   "cell_type": "code",
   "execution_count": 26,
   "id": "9cf2e85c-b792-4c50-8f6f-72bd22027f66",
   "metadata": {},
   "outputs": [
    {
     "data": {
      "text/plain": [
       "52"
      ]
     },
     "execution_count": 26,
     "metadata": {},
     "output_type": "execute_result"
    }
   ],
   "source": [
    "randint(0,100)"
   ]
  },
  {
   "cell_type": "code",
   "execution_count": 32,
   "id": "58966c44-8c26-41c7-82dc-ba1210b6de64",
   "metadata": {},
   "outputs": [],
   "source": [
    "yeniListe=list(range(0,10))"
   ]
  },
  {
   "cell_type": "code",
   "execution_count": 34,
   "id": "ad5dd668-8e91-4637-ad50-08a88d42701b",
   "metadata": {},
   "outputs": [
    {
     "data": {
      "text/plain": [
       "[0, 1, 2, 3, 4, 5, 6, 7, 8, 9]"
      ]
     },
     "execution_count": 34,
     "metadata": {},
     "output_type": "execute_result"
    }
   ],
   "source": [
    "yeniListe"
   ]
  },
  {
   "cell_type": "markdown",
   "id": "a49fa065-c170-4eed-bb36-5d0339a8ae0d",
   "metadata": {},
   "source": [
    "from random import shuffle"
   ]
  },
  {
   "cell_type": "code",
   "execution_count": 47,
   "id": "b3112df9-8690-492e-bc5b-c02177642daf",
   "metadata": {},
   "outputs": [],
   "source": [
    "from random import shuffle\n",
    "shuffle(yeniListe)"
   ]
  },
  {
   "cell_type": "code",
   "execution_count": 49,
   "id": "a9a8c8b8-fb7c-47b7-85fd-beef2a47420d",
   "metadata": {},
   "outputs": [],
   "source": [
    "#ZİP"
   ]
  },
  {
   "cell_type": "code",
   "execution_count": 57,
   "id": "35eaa39b-11e7-46d6-b910-030d60974703",
   "metadata": {},
   "outputs": [],
   "source": [
    "yemekListesi=[\"muz\",\"ananas\",\"elma\"]\n",
    "kaloriListesi=[100,200,300]\n",
    "gunListesi=[\"pazartesi\",\"salı\",\"çarşamba\"]              "
   ]
  },
  {
   "cell_type": "code",
   "execution_count": 61,
   "id": "f58b20bc-dddb-4685-b673-3695078c61cb",
   "metadata": {},
   "outputs": [],
   "source": [
    "ziplenmisListe=list(zip(yemekListesi,kaloriListesi,gunListesi))"
   ]
  },
  {
   "cell_type": "code",
   "execution_count": 63,
   "id": "347cc39c-693a-45e4-8622-e3054672a102",
   "metadata": {},
   "outputs": [
    {
     "name": "stdout",
     "output_type": "stream",
     "text": [
      "<class 'tuple'>\n",
      "<class 'tuple'>\n",
      "<class 'tuple'>\n"
     ]
    }
   ],
   "source": [
    "for eleman in ziplenmisListe:\n",
    "    print(type(eleman))"
   ]
  },
  {
   "cell_type": "code",
   "execution_count": 65,
   "id": "5e144ca7-749f-43ff-9341-b522c5e9d4b0",
   "metadata": {},
   "outputs": [],
   "source": [
    "#LİSTELER İLERİ SEVİYE"
   ]
  },
  {
   "cell_type": "code",
   "execution_count": 75,
   "id": "68292ff6-dcee-4685-9a08-3462ca39fb81",
   "metadata": {},
   "outputs": [],
   "source": [
    "listeOrnegi=[]\n",
    "benimString=\"nuray\"\n",
    "\n",
    "for harf in benimString:\n",
    "    listeOrnegi.append(harf)"
   ]
  },
  {
   "cell_type": "code",
   "execution_count": 78,
   "id": "a6649df0-aa2b-4374-b1da-dc9be4e36b13",
   "metadata": {},
   "outputs": [
    {
     "data": {
      "text/plain": [
       "['n', 'u', 'r', 'a', 'y']"
      ]
     },
     "execution_count": 78,
     "metadata": {},
     "output_type": "execute_result"
    }
   ],
   "source": [
    "listeOrnegi"
   ]
  },
  {
   "cell_type": "code",
   "execution_count": 82,
   "id": "dbb990e0-2515-41ae-88f1-c66a12c49c9a",
   "metadata": {},
   "outputs": [
    {
     "data": {
      "text/plain": [
       "['n', 'u', 'r', 'a', 'y']"
      ]
     },
     "execution_count": 82,
     "metadata": {},
     "output_type": "execute_result"
    }
   ],
   "source": [
    "yeniString=\"nuray\"\n",
    "yeniListeOrnegi=[eleman for eleman in yeniString]\n",
    "yeniListeOrnegi"
   ]
  },
  {
   "cell_type": "code",
   "execution_count": 88,
   "id": "29afc1c7-d87c-4b76-a0ad-304749028752",
   "metadata": {},
   "outputs": [],
   "source": [
    "ikinciListeOrnegi=[numara**5 for numara in list(range(0,10))]"
   ]
  },
  {
   "cell_type": "code",
   "execution_count": 90,
   "id": "0340c8f1-07aa-4494-8689-8db39acf1628",
   "metadata": {},
   "outputs": [
    {
     "data": {
      "text/plain": [
       "[0, 1, 32, 243, 1024, 3125, 7776, 16807, 32768, 59049]"
      ]
     },
     "execution_count": 90,
     "metadata": {},
     "output_type": "execute_result"
    }
   ],
   "source": [
    "ikinciListeOrnegi"
   ]
  },
  {
   "cell_type": "code",
   "execution_count": null,
   "id": "e7799260-7ac8-4bd2-809a-9bd93745c5c6",
   "metadata": {},
   "outputs": [],
   "source": []
  }
 ],
 "metadata": {
  "kernelspec": {
   "display_name": "anaconda-panel-2023.05-py310",
   "language": "python",
   "name": "conda-env-anaconda-panel-2023.05-py310-py"
  },
  "language_info": {
   "codemirror_mode": {
    "name": "ipython",
    "version": 3
   },
   "file_extension": ".py",
   "mimetype": "text/x-python",
   "name": "python",
   "nbconvert_exporter": "python",
   "pygments_lexer": "ipython3",
   "version": "3.11.5"
  }
 },
 "nbformat": 4,
 "nbformat_minor": 5
}
