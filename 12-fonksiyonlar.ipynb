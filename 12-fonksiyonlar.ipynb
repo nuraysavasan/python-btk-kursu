{
 "cells": [
  {
   "cell_type": "code",
   "execution_count": 1,
   "id": "ad6e53fa-6cc2-487d-8190-1d5a9c0c7cc3",
   "metadata": {},
   "outputs": [],
   "source": [
    "benimAdim=\"nuray savasan\""
   ]
  },
  {
   "cell_type": "code",
   "execution_count": 14,
   "id": "5616fa64-b8df-4461-802a-393bc7ed6f63",
   "metadata": {},
   "outputs": [],
   "source": [
    "benimAdimBuyuk=benimAdim.upper() \n"
   ]
  },
  {
   "cell_type": "code",
   "execution_count": 15,
   "id": "29ee852d-d0c9-4a99-a77d-78e13bd171cc",
   "metadata": {},
   "outputs": [
    {
     "data": {
      "text/plain": [
       "'NURAY SAVASAN'"
      ]
     },
     "execution_count": 15,
     "metadata": {},
     "output_type": "execute_result"
    }
   ],
   "source": [
    "benimAdimBuyuk"
   ]
  },
  {
   "cell_type": "code",
   "execution_count": 18,
   "id": "324898dc-121c-46db-a93e-b1d183042867",
   "metadata": {},
   "outputs": [],
   "source": [
    "def ilkFonksiyon():\n",
    "    print(\"ilk fonksiyonm\")"
   ]
  },
  {
   "cell_type": "code",
   "execution_count": 20,
   "id": "f0106965-baba-40cb-a3d2-aab9e9ea90b3",
   "metadata": {},
   "outputs": [
    {
     "name": "stdout",
     "output_type": "stream",
     "text": [
      "ilk fonksiyonm\n"
     ]
    }
   ],
   "source": [
    "ilkFonksiyon()"
   ]
  },
  {
   "cell_type": "code",
   "execution_count": 22,
   "id": "0ef1f328-736d-4618-9867-8cf46083e48e",
   "metadata": {},
   "outputs": [],
   "source": [
    "#input & return"
   ]
  },
  {
   "cell_type": "code",
   "execution_count": 34,
   "id": "2810cbd5-bdbd-4c33-9324-9ee05f09fb1c",
   "metadata": {},
   "outputs": [],
   "source": [
    "def merhabaDunya(yardirilacakIsim):\n",
    "    print(\"merhaba dünya\")\n",
    "    print(yardirilacakIsim)"
   ]
  },
  {
   "cell_type": "code",
   "execution_count": 36,
   "id": "7655d990-19e4-40ef-88af-4a7da64689f7",
   "metadata": {},
   "outputs": [
    {
     "name": "stdout",
     "output_type": "stream",
     "text": [
      "merhaba dünya\n",
      "nuray\n"
     ]
    }
   ],
   "source": [
    "merhabaDunya(\"nuray\")"
   ]
  },
  {
   "cell_type": "code",
   "execution_count": 38,
   "id": "22705ced-1132-4571-ac45-aa32fff889c4",
   "metadata": {},
   "outputs": [],
   "source": [
    "def merhaba(isim=\"nuar\"):\n",
    "    print(\"merhaba\")\n",
    "    print(isim)"
   ]
  },
  {
   "cell_type": "code",
   "execution_count": 40,
   "id": "b9efa80e-aa00-4096-9f33-03272e66ce42",
   "metadata": {},
   "outputs": [
    {
     "name": "stdout",
     "output_type": "stream",
     "text": [
      "merhaba\n",
      "nuar\n"
     ]
    }
   ],
   "source": [
    "merhaba()"
   ]
  },
  {
   "cell_type": "code",
   "execution_count": 42,
   "id": "8ccda662-15e3-4715-953d-033c4243ec99",
   "metadata": {},
   "outputs": [
    {
     "name": "stdout",
     "output_type": "stream",
     "text": [
      "merhaba\n",
      "oytun\n"
     ]
    }
   ],
   "source": [
    "merhaba(\"oytun\")"
   ]
  },
  {
   "cell_type": "code",
   "execution_count": 48,
   "id": "2766190b-6abf-449d-8fb2-05d3b5d1ddc6",
   "metadata": {},
   "outputs": [],
   "source": [
    "def toplama(numara1,numara2):\n",
    "    sonuc=numara1+numara2\n",
    "    print(sonuc)"
   ]
  },
  {
   "cell_type": "code",
   "execution_count": 50,
   "id": "e2309914-b2d9-43f4-9fa6-9364a10e026b",
   "metadata": {},
   "outputs": [
    {
     "name": "stdout",
     "output_type": "stream",
     "text": [
      "11\n"
     ]
    }
   ],
   "source": [
    "toplama(4,7)"
   ]
  },
  {
   "cell_type": "code",
   "execution_count": 54,
   "id": "7eb1e787-5fc0-43ea-9b10-6a718c8041b3",
   "metadata": {},
   "outputs": [
    {
     "name": "stdout",
     "output_type": "stream",
     "text": [
      "30\n"
     ]
    }
   ],
   "source": [
    "yeniDegisken=toplama(10,20)"
   ]
  },
  {
   "cell_type": "code",
   "execution_count": 56,
   "id": "2b68cf51-13cb-4319-8069-72cb6980ff71",
   "metadata": {},
   "outputs": [
    {
     "data": {
      "text/plain": [
       "NoneType"
      ]
     },
     "execution_count": 56,
     "metadata": {},
     "output_type": "execute_result"
    }
   ],
   "source": [
    "type(yeniDegisken)"
   ]
  },
  {
   "cell_type": "code",
   "execution_count": 58,
   "id": "21d82aca-25ce-451e-a6ad-766253bbd469",
   "metadata": {},
   "outputs": [],
   "source": [
    "def dondurmaliToplama(num1,num2):\n",
    "    return num1+num2\n",
    " "
   ]
  },
  {
   "cell_type": "code",
   "execution_count": 60,
   "id": "a4aecd2f-5b53-4cfd-9495-ad3c7c0f0f56",
   "metadata": {},
   "outputs": [
    {
     "data": {
      "text/plain": [
       "80"
      ]
     },
     "execution_count": 60,
     "metadata": {},
     "output_type": "execute_result"
    }
   ],
   "source": [
    "dondurmaliToplama(40,40)"
   ]
  },
  {
   "cell_type": "code",
   "execution_count": 64,
   "id": "7a162f63-c824-488c-9bfa-0154fc494e33",
   "metadata": {},
   "outputs": [
    {
     "data": {
      "text/plain": [
       "int"
      ]
     },
     "execution_count": 64,
     "metadata": {},
     "output_type": "execute_result"
    }
   ],
   "source": [
    "yeniSonuc=dondurmaliToplama(40,40)\n",
    "type(yeniSonuc)"
   ]
  },
  {
   "cell_type": "code",
   "execution_count": 66,
   "id": "0a0047b4-af77-45ef-aa57-e384deb993b7",
   "metadata": {},
   "outputs": [],
   "source": [
    "def kontrolFonksiyon(s):\n",
    "    if s==\"nuray\":\n",
    "        print(\"yes\")\n",
    "    else:\n",
    "        print(\"no\")"
   ]
  },
  {
   "cell_type": "code",
   "execution_count": 68,
   "id": "c3f792b8-fda1-4845-80ef-95f14692ba9f",
   "metadata": {},
   "outputs": [
    {
     "name": "stdout",
     "output_type": "stream",
     "text": [
      "yes\n"
     ]
    }
   ],
   "source": [
    "kontrolFonksiyon(\"nuray\")"
   ]
  },
  {
   "cell_type": "code",
   "execution_count": 70,
   "id": "0b47e9cc-5537-4bac-8b0d-610426e36675",
   "metadata": {},
   "outputs": [],
   "source": [
    "#ARGS & KWARGS"
   ]
  },
  {
   "cell_type": "code",
   "execution_count": 72,
   "id": "b8deec7c-ad5e-4871-9100-c15aa50a1de7",
   "metadata": {},
   "outputs": [],
   "source": [
    "def yeniToplam(*args):\n",
    "    return sum(args)"
   ]
  },
  {
   "cell_type": "code",
   "execution_count": 76,
   "id": "66c8bb02-d31b-4155-a821-db61ccccd003",
   "metadata": {},
   "outputs": [
    {
     "data": {
      "text/plain": [
       "60"
      ]
     },
     "execution_count": 76,
     "metadata": {},
     "output_type": "execute_result"
    }
   ],
   "source": [
    "yeniToplam(10,20,30)"
   ]
  },
  {
   "cell_type": "code",
   "execution_count": 82,
   "id": "f672878a-c05f-401f-8cfe-b44f23f9e02d",
   "metadata": {},
   "outputs": [],
   "source": [
    "def benimFonksiyonum(*args):\n",
    "       return args"
   ]
  },
  {
   "cell_type": "code",
   "execution_count": 84,
   "id": "0cd8407c-044d-4198-802a-4111ea5d3f0d",
   "metadata": {},
   "outputs": [
    {
     "data": {
      "text/plain": [
       "(20, 30, 40)"
      ]
     },
     "execution_count": 84,
     "metadata": {},
     "output_type": "execute_result"
    }
   ],
   "source": [
    "benimFonksiyonum(20,30,40)"
   ]
  },
  {
   "cell_type": "code",
   "execution_count": 95,
   "id": "eca717ef-2b15-4ed3-95b7-7e253701c3b1",
   "metadata": {},
   "outputs": [
    {
     "name": "stdout",
     "output_type": "stream",
     "text": [
      "{'muz': 100, 'elma': 200}\n"
     ]
    },
    {
     "data": {
      "text/plain": [
       "NoneType"
      ]
     },
     "execution_count": 95,
     "metadata": {},
     "output_type": "execute_result"
    }
   ],
   "source": [
    "def ornekFonksiyon(**kwargs):\n",
    "    print(kwargs)\n",
    "type(ornekFonksiyon(muz=100,elma=200))\n",
    "    "
   ]
  },
  {
   "cell_type": "code",
   "execution_count": 98,
   "id": "ec584ecb-55c5-49cc-b2ce-77a9d1fe7173",
   "metadata": {},
   "outputs": [],
   "source": [
    "def kywordKontrolu(**kwargs):\n",
    "    if \"nuray\" in kwargs:\n",
    "        print(\"nuray var\")\n",
    "    else:\n",
    "        print(\"nuray yok\")\n",
    "        "
   ]
  },
  {
   "cell_type": "code",
   "execution_count": 100,
   "id": "105ea645-73bf-4cfd-b1ae-6e008952608f",
   "metadata": {},
   "outputs": [
    {
     "name": "stdout",
     "output_type": "stream",
     "text": [
      "nuray var\n"
     ]
    }
   ],
   "source": [
    "kywordKontrolu(nuray=21,oytun=20)"
   ]
  },
  {
   "cell_type": "code",
   "execution_count": 102,
   "id": "d5256793-a7b5-438c-808d-0142d2f41398",
   "metadata": {},
   "outputs": [],
   "source": [
    "def bolmeIslemi(numara):\n",
    "    return numara/2"
   ]
  },
  {
   "cell_type": "code",
   "execution_count": 106,
   "id": "df722759-4745-4bb0-8430-6c5d38fed51d",
   "metadata": {},
   "outputs": [
    {
     "data": {
      "text/plain": [
       "10.0"
      ]
     },
     "execution_count": 106,
     "metadata": {},
     "output_type": "execute_result"
    }
   ],
   "source": [
    "bolmeIslemi(20)"
   ]
  },
  {
   "cell_type": "code",
   "execution_count": 108,
   "id": "f1cbd935-4c2a-4e6c-ade4-318a42e8e13f",
   "metadata": {},
   "outputs": [],
   "source": [
    "benimListem=[1,2,3,4,5,6,7,8,9,10]"
   ]
  },
  {
   "cell_type": "code",
   "execution_count": 110,
   "id": "8506b50e-fc05-4ab9-83f8-ce5e987fa1da",
   "metadata": {},
   "outputs": [],
   "source": [
    "yeniListe=[]\n",
    "for eleman in benimListem:\n",
    "    yeniListe.append(bolmeIslemi(eleman))"
   ]
  },
  {
   "cell_type": "code",
   "execution_count": 112,
   "id": "966b8847-3734-45e2-b0af-d992511c45d6",
   "metadata": {},
   "outputs": [
    {
     "data": {
      "text/plain": [
       "[0.5, 1.0, 1.5, 2.0, 2.5, 3.0, 3.5, 4.0, 4.5, 5.0]"
      ]
     },
     "execution_count": 112,
     "metadata": {},
     "output_type": "execute_result"
    }
   ],
   "source": [
    "yeniListe"
   ]
  },
  {
   "cell_type": "code",
   "execution_count": 114,
   "id": "963034d0-9ec1-4c8d-bdff-64894e543fdf",
   "metadata": {},
   "outputs": [],
   "source": [
    "#MAP"
   ]
  },
  {
   "cell_type": "code",
   "execution_count": 118,
   "id": "b5be73f6-e766-49d1-9e60-2c9b7ea70014",
   "metadata": {},
   "outputs": [
    {
     "data": {
      "text/plain": [
       "[0.5, 1.0, 1.5, 2.0, 2.5, 3.0, 3.5, 4.0, 4.5, 5.0]"
      ]
     },
     "execution_count": 118,
     "metadata": {},
     "output_type": "execute_result"
    }
   ],
   "source": [
    "list(map(bolmeIslemi,benimListem))"
   ]
  },
  {
   "cell_type": "code",
   "execution_count": 120,
   "id": "64df5998-ad15-4ae2-ad4a-58318a7eb59c",
   "metadata": {},
   "outputs": [],
   "source": [
    "def kontrolFonksiyonu(string):\n",
    "    return \"a\" in string"
   ]
  },
  {
   "cell_type": "code",
   "execution_count": 124,
   "id": "de0ce9e8-2651-41cf-96b3-4e9beab8f859",
   "metadata": {},
   "outputs": [
    {
     "data": {
      "text/plain": [
       "True"
      ]
     },
     "execution_count": 124,
     "metadata": {},
     "output_type": "execute_result"
    }
   ],
   "source": [
    "kontrolFonksiyonu(\"nuray\")"
   ]
  },
  {
   "cell_type": "code",
   "execution_count": 126,
   "id": "33f0dd1c-d12e-4804-b700-9446f326edbf",
   "metadata": {},
   "outputs": [],
   "source": [
    "stringListesi=[\"nuray\",\"oytun\"]"
   ]
  },
  {
   "cell_type": "code",
   "execution_count": 132,
   "id": "f10d0022-0a2a-4dd0-8a15-c1d4928481c9",
   "metadata": {},
   "outputs": [],
   "source": [
    "sonucListesi=list(map(kontrolFonksiyonu,stringListesi))\n"
   ]
  },
  {
   "cell_type": "code",
   "execution_count": 134,
   "id": "e7cf2286-6743-487f-a30a-02b82eeb08e8",
   "metadata": {},
   "outputs": [
    {
     "data": {
      "text/plain": [
       "[True, False]"
      ]
     },
     "execution_count": 134,
     "metadata": {},
     "output_type": "execute_result"
    }
   ],
   "source": [
    "sonucListesi"
   ]
  },
  {
   "cell_type": "code",
   "execution_count": 140,
   "id": "eb0535cd-5d80-4c99-9087-27f7388b6b5d",
   "metadata": {},
   "outputs": [
    {
     "data": {
      "text/plain": [
       "1"
      ]
     },
     "execution_count": 140,
     "metadata": {},
     "output_type": "execute_result"
    }
   ],
   "source": [
    "sonucListesi.count(True)"
   ]
  },
  {
   "cell_type": "code",
   "execution_count": 142,
   "id": "a1cd9611-ad7f-4774-88c1-133685afc8bb",
   "metadata": {},
   "outputs": [],
   "source": [
    "#FİLTER"
   ]
  },
  {
   "cell_type": "code",
   "execution_count": 144,
   "id": "c13b0907-0f96-4da0-a010-3e0efbe7c634",
   "metadata": {},
   "outputs": [
    {
     "data": {
      "text/plain": [
       "['nuray']"
      ]
     },
     "execution_count": 144,
     "metadata": {},
     "output_type": "execute_result"
    }
   ],
   "source": [
    "list(filter(kontrolFonksiyonu,stringListesi))"
   ]
  },
  {
   "cell_type": "code",
   "execution_count": 146,
   "id": "480c7c28-73f0-4697-8462-57ef21e904ef",
   "metadata": {},
   "outputs": [],
   "source": [
    "#LAMBDA"
   ]
  },
  {
   "cell_type": "code",
   "execution_count": 166,
   "id": "4aaa0496-059e-4084-a2b7-e614f1ee8178",
   "metadata": {},
   "outputs": [
    {
     "data": {
      "text/plain": [
       "[30, 102, 168, 15]"
      ]
     },
     "execution_count": 166,
     "metadata": {},
     "output_type": "execute_result"
    }
   ],
   "source": [
    "ornekListesi=[10,34,56,5]\n",
    "list(map(lambda numara : numara*3 , ornekListesi))"
   ]
  },
  {
   "cell_type": "code",
   "execution_count": 168,
   "id": "3829903e-c998-4b10-b4a2-b13bf43b7d38",
   "metadata": {},
   "outputs": [
    {
     "data": {
      "text/plain": [
       "30"
      ]
     },
     "execution_count": 168,
     "metadata": {},
     "output_type": "execute_result"
    }
   ],
   "source": [
    "carpma(10)"
   ]
  },
  {
   "cell_type": "code",
   "execution_count": null,
   "id": "bda3b1c0-5417-4e1b-af21-37946ef31606",
   "metadata": {},
   "outputs": [],
   "source": []
  }
 ],
 "metadata": {
  "kernelspec": {
   "display_name": "anaconda-panel-2023.05-py310",
   "language": "python",
   "name": "conda-env-anaconda-panel-2023.05-py310-py"
  },
  "language_info": {
   "codemirror_mode": {
    "name": "ipython",
    "version": 3
   },
   "file_extension": ".py",
   "mimetype": "text/x-python",
   "name": "python",
   "nbconvert_exporter": "python",
   "pygments_lexer": "ipython3",
   "version": "3.11.5"
  }
 },
 "nbformat": 4,
 "nbformat_minor": 5
}
