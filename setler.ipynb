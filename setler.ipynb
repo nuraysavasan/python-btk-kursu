{
 "cells": [
  {
   "cell_type": "code",
   "execution_count": 1,
   "id": "ce15354e-5e43-476a-9077-a203deeee68e",
   "metadata": {},
   "outputs": [],
   "source": [
    "benimListem=[1,2,3,1,2,3]"
   ]
  },
  {
   "cell_type": "code",
   "execution_count": 2,
   "id": "5fa514bb-6022-4f07-8ee3-23176de5c0ad",
   "metadata": {},
   "outputs": [
    {
     "data": {
      "text/plain": [
       "1"
      ]
     },
     "execution_count": 2,
     "metadata": {},
     "output_type": "execute_result"
    }
   ],
   "source": [
    "benimListem[0]"
   ]
  },
  {
   "cell_type": "code",
   "execution_count": 3,
   "id": "febbea22-36ef-4297-81c3-8c10e19d12ec",
   "metadata": {},
   "outputs": [],
   "source": [
    "benimListeSetim=set(benimListem)"
   ]
  },
  {
   "cell_type": "code",
   "execution_count": 4,
   "id": "bcdb2dbe-d5b4-4275-8752-5c0e995e5b81",
   "metadata": {},
   "outputs": [
    {
     "data": {
      "text/plain": [
       "list"
      ]
     },
     "execution_count": 4,
     "metadata": {},
     "output_type": "execute_result"
    }
   ],
   "source": [
    "type(benimListem)"
   ]
  },
  {
   "cell_type": "code",
   "execution_count": 5,
   "id": "7d58c5ba-b906-4404-aea9-9533ee013952",
   "metadata": {},
   "outputs": [
    {
     "data": {
      "text/plain": [
       "set"
      ]
     },
     "execution_count": 5,
     "metadata": {},
     "output_type": "execute_result"
    }
   ],
   "source": [
    "type(benimListeSetim)"
   ]
  },
  {
   "cell_type": "code",
   "execution_count": 6,
   "id": "95d4404d-903a-435d-8b09-e1c0982e3f3d",
   "metadata": {},
   "outputs": [
    {
     "data": {
      "text/plain": [
       "{1, 2, 3}"
      ]
     },
     "execution_count": 6,
     "metadata": {},
     "output_type": "execute_result"
    }
   ],
   "source": [
    "benimListeSetim"
   ]
  },
  {
   "cell_type": "code",
   "execution_count": 7,
   "id": "ba38929f-c458-476f-9a80-f1cfeb171160",
   "metadata": {},
   "outputs": [],
   "source": [
    "benimSet={\"a\",\"b\",\"c\"}"
   ]
  },
  {
   "cell_type": "code",
   "execution_count": 8,
   "id": "04a5e668-ef10-4c60-a029-a5cc41bf168a",
   "metadata": {},
   "outputs": [
    {
     "data": {
      "text/plain": [
       "set"
      ]
     },
     "execution_count": 8,
     "metadata": {},
     "output_type": "execute_result"
    }
   ],
   "source": [
    "type(benimSet)"
   ]
  },
  {
   "cell_type": "code",
   "execution_count": 9,
   "id": "9dc42693-d1d0-42c1-9655-d3af2027792e",
   "metadata": {},
   "outputs": [
    {
     "data": {
      "text/plain": [
       "{'a', 'b', 'c'}"
      ]
     },
     "execution_count": 9,
     "metadata": {},
     "output_type": "execute_result"
    }
   ],
   "source": [
    "benimSet"
   ]
  },
  {
   "cell_type": "code",
   "execution_count": 10,
   "id": "ae937de2-9138-4e93-9326-964fa08a040a",
   "metadata": {},
   "outputs": [],
   "source": [
    "bosListe=[]"
   ]
  },
  {
   "cell_type": "code",
   "execution_count": 11,
   "id": "25b1a715-4613-4c97-b4c9-672749c91175",
   "metadata": {},
   "outputs": [
    {
     "data": {
      "text/plain": [
       "[]"
      ]
     },
     "execution_count": 11,
     "metadata": {},
     "output_type": "execute_result"
    }
   ],
   "source": [
    "bosListe"
   ]
  },
  {
   "cell_type": "code",
   "execution_count": 12,
   "id": "766f6f48-44e3-488f-90a0-64dc61425d56",
   "metadata": {},
   "outputs": [],
   "source": [
    "bosListe.append(1)"
   ]
  },
  {
   "cell_type": "code",
   "execution_count": 13,
   "id": "58c04396-cb5c-439b-9134-461fcac1c9fc",
   "metadata": {},
   "outputs": [
    {
     "data": {
      "text/plain": [
       "[1]"
      ]
     },
     "execution_count": 13,
     "metadata": {},
     "output_type": "execute_result"
    }
   ],
   "source": [
    "bosListe"
   ]
  },
  {
   "cell_type": "code",
   "execution_count": 14,
   "id": "63cfaae3-9726-4249-b0be-5c154b3e37a2",
   "metadata": {},
   "outputs": [],
   "source": [
    "bosSet={}"
   ]
  },
  {
   "cell_type": "code",
   "execution_count": 15,
   "id": "4dfeebdc-e119-4784-96b7-91131c04eba2",
   "metadata": {},
   "outputs": [
    {
     "data": {
      "text/plain": [
       "dict"
      ]
     },
     "execution_count": 15,
     "metadata": {},
     "output_type": "execute_result"
    }
   ],
   "source": [
    "type(bosSet)"
   ]
  },
  {
   "cell_type": "code",
   "execution_count": 16,
   "id": "dc46111e-d295-4c59-b706-9b44ae6e170f",
   "metadata": {},
   "outputs": [],
   "source": [
    " benimBosSetim=set()"
   ]
  },
  {
   "cell_type": "code",
   "execution_count": 17,
   "id": "bb83c1dc-f7d7-409c-bd36-c13d11f72035",
   "metadata": {},
   "outputs": [
    {
     "data": {
      "text/plain": [
       "set()"
      ]
     },
     "execution_count": 17,
     "metadata": {},
     "output_type": "execute_result"
    }
   ],
   "source": [
    "benimBosSetim"
   ]
  },
  {
   "cell_type": "code",
   "execution_count": 18,
   "id": "67259dd7-2741-4779-bf64-474d40bfe966",
   "metadata": {},
   "outputs": [],
   "source": [
    "benimBosSetim.add(10)"
   ]
  },
  {
   "cell_type": "code",
   "execution_count": 19,
   "id": "994898e7-2fda-4e19-8e5c-f823ae30c28f",
   "metadata": {},
   "outputs": [],
   "source": [
    "benimBosSetim.add(10)"
   ]
  },
  {
   "cell_type": "code",
   "execution_count": 20,
   "id": "3d875d74-ba9d-4d70-8898-584b38bcc1cc",
   "metadata": {},
   "outputs": [],
   "source": [
    "benimBosSetim.add(20)"
   ]
  },
  {
   "cell_type": "code",
   "execution_count": 21,
   "id": "99bd966a-cdc9-407b-b0ad-4d961dc00e7e",
   "metadata": {},
   "outputs": [
    {
     "data": {
      "text/plain": [
       "{10, 20}"
      ]
     },
     "execution_count": 21,
     "metadata": {},
     "output_type": "execute_result"
    }
   ],
   "source": [
    "benimBosSetim"
   ]
  },
  {
   "cell_type": "code",
   "execution_count": 22,
   "id": "74a70a0a-ca65-4f52-ab31-39e337c81550",
   "metadata": {},
   "outputs": [],
   "source": [
    "benimBosListem=list()"
   ]
  },
  {
   "cell_type": "code",
   "execution_count": 23,
   "id": "0908fca2-6909-4b5e-8ac0-40952475b444",
   "metadata": {},
   "outputs": [],
   "source": [
    "benimBosListem.append(10)"
   ]
  },
  {
   "cell_type": "code",
   "execution_count": 24,
   "id": "978164a4-3cae-42c3-983c-414bb3b5e60e",
   "metadata": {},
   "outputs": [
    {
     "data": {
      "text/plain": [
       "[10]"
      ]
     },
     "execution_count": 24,
     "metadata": {},
     "output_type": "execute_result"
    }
   ],
   "source": [
    "benimBosListem"
   ]
  },
  {
   "cell_type": "code",
   "execution_count": 25,
   "id": "2ff31d31-f2df-4b29-b98a-2f73770c33aa",
   "metadata": {},
   "outputs": [],
   "source": [
    "benimBosSozlugum=dict()"
   ]
  },
  {
   "cell_type": "code",
   "execution_count": 26,
   "id": "81731c77-6311-4c57-9ff1-38a7f2141a44",
   "metadata": {},
   "outputs": [],
   "source": [
    "benimBosSozlugum[\"key\"]=123"
   ]
  },
  {
   "cell_type": "code",
   "execution_count": 27,
   "id": "2912cfcf-e7e5-46be-9c8f-94855d7eb663",
   "metadata": {},
   "outputs": [
    {
     "data": {
      "text/plain": [
       "{'key': 123}"
      ]
     },
     "execution_count": 27,
     "metadata": {},
     "output_type": "execute_result"
    }
   ],
   "source": [
    "benimBosSozlugum"
   ]
  },
  {
   "cell_type": "code",
   "execution_count": null,
   "id": "bc3f5149-0061-49d4-9a39-6db7c39be7f1",
   "metadata": {},
   "outputs": [],
   "source": []
  }
 ],
 "metadata": {
  "kernelspec": {
   "display_name": "anaconda-panel-2023.05-py310",
   "language": "python",
   "name": "conda-env-anaconda-panel-2023.05-py310-py"
  },
  "language_info": {
   "codemirror_mode": {
    "name": "ipython",
    "version": 3
   },
   "file_extension": ".py",
   "mimetype": "text/x-python",
   "name": "python",
   "nbconvert_exporter": "python",
   "pygments_lexer": "ipython3",
   "version": "3.11.5"
  }
 },
 "nbformat": 4,
 "nbformat_minor": 5
}
