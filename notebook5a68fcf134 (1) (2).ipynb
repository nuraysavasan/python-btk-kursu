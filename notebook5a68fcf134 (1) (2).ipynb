{
 "cells": [
  {
   "cell_type": "code",
   "execution_count": 1,
   "metadata": {},
   "outputs": [],
   "source": [
    "#1. Uyarıları kapatınız\n",
    "\n",
    "\n"
   ]
  },
  {
   "cell_type": "code",
   "execution_count": 2,
   "metadata": {
    "tags": []
   },
   "outputs": [
    {
     "data": {
      "text/plain": [
       "array([[ 5, 18],\n",
       "       [ 9, 19],\n",
       "       [16, 14],\n",
       "       [ 6,  3],\n",
       "       [10,  5],\n",
       "       [ 8,  4],\n",
       "       [ 8, 19],\n",
       "       [ 4, 16],\n",
       "       [15,  6],\n",
       "       [19,  1]])"
      ]
     },
     "execution_count": 2,
     "metadata": {},
     "output_type": "execute_result"
    }
   ],
   "source": [
    "#2.   0 ile 20 arasında rasgele sayılar alan 10 satır ve 2 sutundan oluşan bir \n",
    "# matris oluşturun\n",
    "import numpy as np\n",
    "\n",
    "m=np.random.randint(20,size=(10,2))\n",
    "m\n",
    "\n"
   ]
  },
  {
   "cell_type": "code",
   "execution_count": 3,
   "metadata": {
    "tags": []
   },
   "outputs": [
    {
     "data": {
      "text/plain": [
       "array([[ 5],\n",
       "       [11],\n",
       "       [17],\n",
       "       [23],\n",
       "       [29]])"
      ]
     },
     "execution_count": 3,
     "metadata": {},
     "output_type": "execute_result"
    }
   ],
   "source": [
    "#3.  Aşağıdaki komut sonrası oluşturulan ikiboyutlu matrisi 2 ve 4 nolu \n",
    "# sutunlardan ayrıştırarak 3 adet a, b ve c martislerine dönüştürün. \n",
    "import numpy as np\n",
    "\n",
    "m = np.arange(30).reshape(5,6)\n",
    "m\n",
    "a=m[:,:2]\n",
    "a\n",
    "b=m[:,3:4]\n",
    "b\n",
    "c=m[:,5:]\n",
    "c"
   ]
  },
  {
   "cell_type": "code",
   "execution_count": 4,
   "metadata": {
    "tags": []
   },
   "outputs": [
    {
     "data": {
      "text/plain": [
       "array([[18, 19, 20, 21, 22, 23],\n",
       "       [24, 25, 26, 27, 28, 29]])"
      ]
     },
     "execution_count": 4,
     "metadata": {},
     "output_type": "execute_result"
    }
   ],
   "source": [
    "#4.   Aşağıdaki komut sonrası oluşturulan ikiboyutlu matrisi 3 nolu satırdan \n",
    "# ayrıştırarak 2 adet a ve b martislerine dönüştürün\n",
    "m = np.arange(30).reshape(5,6)\n",
    "m\n",
    "a=m[:2,:]\n",
    "a\n",
    "b=m[3:,:]\n",
    "b"
   ]
  },
  {
   "cell_type": "code",
   "execution_count": 5,
   "metadata": {
    "tags": []
   },
   "outputs": [
    {
     "data": {
      "text/html": [
       "<div>\n",
       "<style scoped>\n",
       "    .dataframe tbody tr th:only-of-type {\n",
       "        vertical-align: middle;\n",
       "    }\n",
       "\n",
       "    .dataframe tbody tr th {\n",
       "        vertical-align: top;\n",
       "    }\n",
       "\n",
       "    .dataframe thead th {\n",
       "        text-align: right;\n",
       "    }\n",
       "</style>\n",
       "<table border=\"1\" class=\"dataframe\">\n",
       "  <thead>\n",
       "    <tr style=\"text-align: right;\">\n",
       "      <th></th>\n",
       "      <th>sutun1</th>\n",
       "      <th>sutun2</th>\n",
       "    </tr>\n",
       "  </thead>\n",
       "  <tbody>\n",
       "    <tr>\n",
       "      <th>0</th>\n",
       "      <td>15</td>\n",
       "      <td>8</td>\n",
       "    </tr>\n",
       "    <tr>\n",
       "      <th>1</th>\n",
       "      <td>13</td>\n",
       "      <td>8</td>\n",
       "    </tr>\n",
       "    <tr>\n",
       "      <th>2</th>\n",
       "      <td>5</td>\n",
       "      <td>5</td>\n",
       "    </tr>\n",
       "    <tr>\n",
       "      <th>3</th>\n",
       "      <td>12</td>\n",
       "      <td>19</td>\n",
       "    </tr>\n",
       "    <tr>\n",
       "      <th>4</th>\n",
       "      <td>14</td>\n",
       "      <td>4</td>\n",
       "    </tr>\n",
       "  </tbody>\n",
       "</table>\n",
       "</div>"
      ],
      "text/plain": [
       "   sutun1  sutun2\n",
       "0      15       8\n",
       "1      13       8\n",
       "2       5       5\n",
       "3      12      19\n",
       "4      14       4"
      ]
     },
     "execution_count": 5,
     "metadata": {},
     "output_type": "execute_result"
    }
   ],
   "source": [
    "#5.  Aşağıdaki komutlar sonrası oluşturulan a matrisini colon adları “sutun1”,\n",
    "#  ”sutun2” olan dataframe'e dönüştürün.\n",
    "import numpy as np\n",
    "import pandas as pd\n",
    "a=np.random.randint(0,20,(10,2))\n",
    "a\n",
    "df=pd.DataFrame(a ,columns=(\"sutun1\" , \"sutun2\"))\n",
    "\n",
    "df.head()\n",
    "\n"
   ]
  },
  {
   "cell_type": "code",
   "execution_count": 6,
   "metadata": {
    "tags": []
   },
   "outputs": [
    {
     "data": {
      "text/html": [
       "<div>\n",
       "<style scoped>\n",
       "    .dataframe tbody tr th:only-of-type {\n",
       "        vertical-align: middle;\n",
       "    }\n",
       "\n",
       "    .dataframe tbody tr th {\n",
       "        vertical-align: top;\n",
       "    }\n",
       "\n",
       "    .dataframe thead th {\n",
       "        text-align: right;\n",
       "    }\n",
       "</style>\n",
       "<table border=\"1\" class=\"dataframe\">\n",
       "  <thead>\n",
       "    <tr style=\"text-align: right;\">\n",
       "      <th></th>\n",
       "      <th>sutun1</th>\n",
       "      <th>sutun2</th>\n",
       "    </tr>\n",
       "  </thead>\n",
       "  <tbody>\n",
       "    <tr>\n",
       "      <th>i1</th>\n",
       "      <td>3</td>\n",
       "      <td>3</td>\n",
       "    </tr>\n",
       "    <tr>\n",
       "      <th>i2</th>\n",
       "      <td>12</td>\n",
       "      <td>16</td>\n",
       "    </tr>\n",
       "    <tr>\n",
       "      <th>i3</th>\n",
       "      <td>2</td>\n",
       "      <td>14</td>\n",
       "    </tr>\n",
       "    <tr>\n",
       "      <th>i4</th>\n",
       "      <td>7</td>\n",
       "      <td>7</td>\n",
       "    </tr>\n",
       "    <tr>\n",
       "      <th>i5</th>\n",
       "      <td>8</td>\n",
       "      <td>7</td>\n",
       "    </tr>\n",
       "  </tbody>\n",
       "</table>\n",
       "</div>"
      ],
      "text/plain": [
       "    sutun1  sutun2\n",
       "i1       3       3\n",
       "i2      12      16\n",
       "i3       2      14\n",
       "i4       7       7\n",
       "i5       8       7"
      ]
     },
     "execution_count": 6,
     "metadata": {},
     "output_type": "execute_result"
    }
   ],
   "source": [
    "#6. Önceki soruda oluşturulan dataframe’in index’lerini “i1”,”i2”,...,”i10” \n",
    "# olarak değiştiriniz\n",
    "import numpy as np\n",
    "import pandas as pd\n",
    "a=np.random.randint(0,20,(10,2))\n",
    "df=pd.DataFrame(a ,columns=(\"sutun1\" , \"sutun2\"),index=['i1','i2','i3','i4','i5','i6','i7','i8','i9','i10'])\n",
    "\n",
    "df.head()\n",
    "\n"
   ]
  },
  {
   "cell_type": "code",
   "execution_count": 7,
   "metadata": {
    "tags": []
   },
   "outputs": [
    {
     "name": "stdout",
     "output_type": "stream",
     "text": [
      "{'A': {'D': [1, 2]}, 'B': {'E': [3, 100, 5]}, 'C': ['F', 6]}\n"
     ]
    }
   ],
   "source": [
    "#7. Aşağıdaki sözlük yapısındaki 99 değerini 100 olarak değiştirmek için \n",
    "# komutu yazınız. \n",
    "sozluk = {\"A\" : {\"D\":[1,2]},  \"B\" : {\"E\": [3,99,5]},  \"C\" : [\"F\",6]}\n",
    "\n",
    "sozluk['B']['E'][1]=100\n",
    "print(sozluk)\n"
   ]
  },
  {
   "cell_type": "code",
   "execution_count": 8,
   "metadata": {
    "tags": []
   },
   "outputs": [
    {
     "data": {
      "text/plain": [
       "array([[ 1,  2],\n",
       "       [ 3,  4],\n",
       "       [ 5,  6],\n",
       "       [ 7,  8],\n",
       "       [ 9, 10]])"
      ]
     },
     "execution_count": 8,
     "metadata": {},
     "output_type": "execute_result"
    }
   ],
   "source": [
    "#8. 1 ile 10 dahil ardışık tam sayılardan oluşan bir numpy dizisi oluşturun \n",
    "# ve bu diziyi 5 satır ve 2 sutundan oluşan bir matrise dönüştürün. \n",
    "\n",
    "import numpy as np\n",
    "\n",
    "a=np.arange(1,11).reshape(5,2)\n",
    "a\n"
   ]
  },
  {
   "cell_type": "code",
   "execution_count": 10,
   "metadata": {
    "tags": []
   },
   "outputs": [
    {
     "name": "stdout",
     "output_type": "stream",
     "text": [
      "   sutun1  sutun2  toplam\n",
      "0       1       2       3\n",
      "1       3       4       7\n",
      "2       5       6      11\n",
      "3       7       8      15\n",
      "4       9      10      19\n"
     ]
    }
   ],
   "source": [
    "#9. Önceki soruda oluşturulan matrisi bir dataframe!e dönüştürün ve bu dataframe’e \n",
    "# ilk 2 sutun toplamlarından oluşan yeni bir “toplam” adlı sutun ekleyin. \n",
    "\n",
    "import numpy as np\n",
    "import pandas as pd\n",
    "a=np.arange(1,11).reshape(5,2)\n",
    "df=pd.DataFrame(a ,columns=(\"sutun1\" , \"sutun2\"))\n",
    "df.head()\n",
    "\n",
    "df[\"toplam\"]= df[\"sutun1\"] +df[\"sutun2\"]\n",
    "print(df)"
   ]
  },
  {
   "cell_type": "code",
   "execution_count": 13,
   "metadata": {
    "tags": []
   },
   "outputs": [
    {
     "name": "stdout",
     "output_type": "stream",
     "text": [
      "[[1 2 3 4]\n",
      " [5 6 7 8]]\n"
     ]
    }
   ],
   "source": [
    "#10. İki adet a = [1,2,3,4] ve b = [5,6,7,8] numpy dizisi oluşturun ve bu dizileri \n",
    "# içeren yeni bir 2 boyutlu c numpy matrisi oluşturun. \n",
    "\n",
    "\n",
    "import numpy as np\n",
    "\n",
    "a=[1,2,3,4]\n",
    "b=[5,6,7,8]\n",
    "numpya=np.array(a)\n",
    "numpyb=np.array(b)\n",
    "matris=np.array([a,b])\n",
    "numpya\n",
    "numpyb\n",
    "print(matris)\n",
    "\n"
   ]
  },
  {
   "cell_type": "code",
   "execution_count": 14,
   "metadata": {
    "tags": []
   },
   "outputs": [
    {
     "data": {
      "text/plain": [
       "[18, 17, 20, 18]"
      ]
     },
     "execution_count": 14,
     "metadata": {},
     "output_type": "execute_result"
    }
   ],
   "source": [
    "#11. 10 ile 20 arasında 10 adet rasgele tam sayıdan oluşan bir numpy dizisi oluşturun \n",
    "# ve bu dizinin ortalamasından büyük olan sayılardan oluşan listeyi yazdırınız. \n",
    "\n",
    "import numpy as np\n",
    "\n",
    "rastgele_dizi=np.random.randint(10,21,10)\n",
    "rastgele_dizi\n",
    "#ortalama=sum(rastgele_dizi)/len(rastgele_dizi)\n",
    "ortalama=np.mean(rastgele_dizi) \n",
    "\n",
    "#yenidizi=[num for num in rastgele_dizi if num>ortalama]\n",
    "yenidizi=[]\n",
    "for i in rastgele_dizi:\n",
    "    if i>ortalama:\n",
    "        yenidizi.append(i)\n",
    "\n",
    "yenidizi    "
   ]
  },
  {
   "cell_type": "code",
   "execution_count": 15,
   "metadata": {
    "tags": []
   },
   "outputs": [
    {
     "data": {
      "text/plain": [
       "array([-1.42421656,  0.37821519,  1.14646479,  1.14646479,  0.58505162,\n",
       "        0.43731131, -1.42421656, -1.33557238,  0.85098417, -0.36048635])"
      ]
     },
     "execution_count": 15,
     "metadata": {},
     "output_type": "execute_result"
    }
   ],
   "source": [
    "#12. -50 ile 50 arası rasgele sayılardan oluşan 10 elemanlık bir numpy dizisi oluşturun. \n",
    "# Bu elemanların Z-score normalleştirilmiş değerlerinden oluşan b dizisi oluşturunuz\n",
    "\n",
    "import numpy as np\n",
    "\n",
    "rastgele_dizi=np.random.randint(-50,51,10)\n",
    "\n",
    "\n",
    "\n",
    "ort = np.mean(rastgele_dizi)\n",
    "standartSapma = np.std(rastgele_dizi)\n",
    "\n",
    "b = (rastgele_dizi - ort)/standartSapma   \n",
    "b"
   ]
  },
  {
   "cell_type": "code",
   "execution_count": 16,
   "metadata": {
    "tags": []
   },
   "outputs": [
    {
     "name": "stdout",
     "output_type": "stream",
     "text": [
      "         veri\n",
      "gruplar      \n",
      "A        16.5\n",
      "B        27.0\n",
      "C        53.5\n"
     ]
    }
   ],
   "source": [
    "#13. Aşağıdaki şekilde bir dataframe oluşturulmuştur. Bu dataframe’in gruplara göre \n",
    "# veri ortalamalarını yansıtan tabloyu yazdıran komutu yazınız.\n",
    "import pandas as pd\n",
    "df = pd.DataFrame({'gruplar': ['A', 'B', 'C', 'A', 'B', 'C'],\n",
    "                   'veri': [10,11,52,23,43,55]}, columns=['gruplar', 'veri'])\n",
    "\n",
    "ortalamalar = df.groupby('gruplar').mean()\n",
    "print(ortalamalar)\n",
    "\n"
   ]
  },
  {
   "cell_type": "code",
   "execution_count": 44,
   "metadata": {
    "tags": []
   },
   "outputs": [
    {
     "ename": "SyntaxError",
     "evalue": "invalid syntax (1761728750.py, line 7)",
     "output_type": "error",
     "traceback": [
      "\u001b[0;36m  Input \u001b[0;32mIn [44]\u001b[0;36m\u001b[0m\n\u001b[0;31m    df = pd.read_csv('veri.csv'; sep=';')\u001b[0m\n\u001b[0m                               ^\u001b[0m\n\u001b[0;31mSyntaxError\u001b[0m\u001b[0;31m:\u001b[0m invalid syntax\n"
     ]
    }
   ],
   "source": [
    "#14. “;” karakterleri ile ayrılmış veriler içeren dış kaynaklı “veri.csv” dosyasını \n",
    "# bir dataframe’e okumak için komutu yazınız\n",
    "\n",
    "\n",
    "\n",
    "import pandas as pd\n",
    "df = pd.read_csv('veri.csv'; sep=';')\n",
    "\n",
    "print(df)"
   ]
  },
  {
   "cell_type": "code",
   "execution_count": 46,
   "metadata": {
    "tags": []
   },
   "outputs": [
    {
     "data": {
      "text/plain": [
       "'NURAY'"
      ]
     },
     "execution_count": 46,
     "metadata": {},
     "output_type": "execute_result"
    }
   ],
   "source": [
    "#15. Parametre olarak aldığı bir kelimeyi tümüyle büyük karakterlere dönüştürerek \n",
    "# geri döndüren \"funk\" adlı bir fonksiyonun tanımını yazınız. \n",
    "\n",
    "def funk(kelime):\n",
    "    return kelime.upper()\n",
    "funk(\"nuray\")\n",
    "\n",
    "\n"
   ]
  },
  {
   "cell_type": "code",
   "execution_count": 48,
   "metadata": {
    "tags": []
   },
   "outputs": [
    {
     "name": "stdout",
     "output_type": "stream",
     "text": [
      "<class 'pandas.core.frame.DataFrame'>\n",
      "RangeIndex: 398 entries, 0 to 397\n",
      "Data columns (total 9 columns):\n",
      " #   Column        Non-Null Count  Dtype  \n",
      "---  ------        --------------  -----  \n",
      " 0   mpg           398 non-null    float64\n",
      " 1   cylinders     398 non-null    int64  \n",
      " 2   displacement  398 non-null    float64\n",
      " 3   horsepower    392 non-null    float64\n",
      " 4   weight        398 non-null    int64  \n",
      " 5   acceleration  398 non-null    float64\n",
      " 6   model_year    398 non-null    int64  \n",
      " 7   origin        398 non-null    object \n",
      " 8   name          398 non-null    object \n",
      "dtypes: float64(4), int64(3), object(2)\n",
      "memory usage: 28.1+ KB\n",
      "None\n",
      "    mpg  cylinders  displacement  horsepower  weight  acceleration  \\\n",
      "0  18.0          8         307.0       130.0    3504          12.0   \n",
      "1  15.0          8         350.0       165.0    3693          11.5   \n",
      "2  18.0          8         318.0       150.0    3436          11.0   \n",
      "3  16.0          8         304.0       150.0    3433          12.0   \n",
      "4  17.0          8         302.0       140.0    3449          10.5   \n",
      "5  15.0          8         429.0       198.0    4341          10.0   \n",
      "6  14.0          8         454.0       220.0    4354           9.0   \n",
      "7  14.0          8         440.0       215.0    4312           8.5   \n",
      "8  14.0          8         455.0       225.0    4425          10.0   \n",
      "9  15.0          8         390.0       190.0    3850           8.5   \n",
      "\n",
      "   model_year origin                       name  \n",
      "0          70    usa  chevrolet chevelle malibu  \n",
      "1          70    usa          buick skylark 320  \n",
      "2          70    usa         plymouth satellite  \n",
      "3          70    usa              amc rebel sst  \n",
      "4          70    usa                ford torino  \n",
      "5          70    usa           ford galaxie 500  \n",
      "6          70    usa           chevrolet impala  \n",
      "7          70    usa          plymouth fury iii  \n",
      "8          70    usa           pontiac catalina  \n",
      "9          70    usa         amc ambassador dpl  \n"
     ]
    }
   ],
   "source": [
    "#16. Python’da “seaborn” kütüphanesinden “mpg.csv” veri setini indiriniz, \n",
    "# veri seti bilgilerini yazdırınız (info),\n",
    "# veri setinin ilk 10 satrını ekrana yazdırınız\n",
    "\n",
    "\n",
    "import seaborn as sns\n",
    "\n",
    "mpg = sns.load_dataset(\"mpg\")\n",
    "\n",
    "\n",
    "\n",
    "print(mpg.info())\n",
    "\n",
    "\n",
    "print(mpg.head(10))\n"
   ]
  },
  {
   "cell_type": "code",
   "execution_count": 50,
   "metadata": {
    "tags": []
   },
   "outputs": [],
   "source": [
    "#17. veri setinin uygun atributlraına göre ortalama, varyans, min, max, vs. \n",
    "# değerleri yazdırınız,\n",
    "\n",
    "mpgOrtalamasi=mpg['mpg'].mean() #23.514572864321607\n",
    "mpgVaryansı=mpg['mpg'].var()      #61.089610774274405\n",
    "mpgMin=mpg['mpg'].min()         #9.0\n",
    "mpgMax=mpg['mpg'].max()       #46.6"
   ]
  },
  {
   "cell_type": "code",
   "execution_count": 52,
   "metadata": {},
   "outputs": [
    {
     "data": {
      "text/plain": [
       "<AxesSubplot:xlabel='horsepower', ylabel='weight'>"
      ]
     },
     "execution_count": 52,
     "metadata": {},
     "output_type": "execute_result"
    },
    {
     "data": {
      "image/png": "[encoded data removed]",
      "text/plain": [
       "<Figure size 432x288 with 1 Axes>"
      ]
     },
     "metadata": {
      "needs_background": "light"
     },
     "output_type": "display_data"
    }
   ],
   "source": [
    "#18. “horsepower” ve “weight” atributları için, “origin” kırılımına (hue) \n",
    "# göre “scatter plot” grafiğini oluşturunuz\n",
    "\n",
    "sns.scatterplot(data=mpg,x=\"horsepower\",y=\"weight\",hue=\"origin\")\n"
   ]
  },
  {
   "cell_type": "code",
   "execution_count": 53,
   "metadata": {
    "tags": []
   },
   "outputs": [
    {
     "data": {
      "text/plain": [
       "0.30109590846759365"
      ]
     },
     "execution_count": 53,
     "metadata": {},
     "output_type": "execute_result"
    }
   ],
   "source": [
    "#19. “mpg” ve “acceleration” değişkenleri arasında Kendall \n",
    "# korelasyon katsayısını hesaplamalı ve yazdırmalı.\n",
    "from scipy.stats import kendalltau\n",
    "\n",
    "kendalKorelasyon,_=kendalltau(mpg['mpg'],mpg['acceleration'])   \n",
    "kendalKorelasyon  #0.30109590846759365\n"
   ]
  },
  {
   "cell_type": "code",
   "execution_count": 54,
   "metadata": {},
   "outputs": [
    {
     "name": "stdout",
     "output_type": "stream",
     "text": [
      "mpg             0\n",
      "cylinders       0\n",
      "displacement    0\n",
      "horsepower      6\n",
      "weight          0\n",
      "acceleration    0\n",
      "model_year      0\n",
      "origin          0\n",
      "name            0\n",
      "dtype: int64\n"
     ]
    },
    {
     "data": {
      "text/plain": [
       "array([-0.04749562, -0.00206566, -0.0057894 ])"
      ]
     },
     "execution_count": 54,
     "metadata": {},
     "output_type": "execute_result"
    }
   ],
   "source": [
    "#20. “horsepower”, “acceleration” ve “weight” değişkenlerine göre \n",
    "# “mpg” değerinin tahmini için \n",
    "# LinearRegression() modeli oluşturunuz\n",
    "# Modelin intercept ve katsayılarını yazdırınız\n",
    "# NOT: kayıp veriler olabilir. Gerekirse kayıp verileri siliniz.\n",
    "\n",
    "\n",
    "import seaborn as sns\n",
    "from sklearn.linear_model import LinearRegression\n",
    "mpg = sns.load_dataset(\"mpg\")\n",
    "\n",
    "print(mpg.isnull().sum())\n",
    "\n",
    "mpg.dropna(subset=['horsepower', 'acceleration', 'weight', 'mpg'], inplace=True)\n",
    "\n",
    "model = LinearRegression()\n",
    "\n",
    "a = mpg[['horsepower', 'acceleration', 'weight']]\n",
    "b = mpg['mpg']\n",
    "model.fit(a, b)\n",
    "\n",
    "model.intercept_\n",
    "model.coef_\n",
    "\n",
    "\n",
    "\n",
    "“Seaborn” kütüphanesinden “mpg.csv” veri setini indirin.\n",
    " Bu veri seti üzerinde algoritmayı çalıştırın. Girdi olarak “horsepower”, “acceleration” ve “weight” atributlarını, hedef değişkeni olarak “mpg” atributunu kullanın.\n",
    " horsepower = 130, acceleration=13, weight=3500 olan bir otomobilin “mpg” değerini tahmin edin.\n",
    "Programın kodunu içeren .py dosyasını ve ayrıca, program kodunu ve sonuç ekran çıktılarını içeren “Rapor.docx” dosyasını SAKAIye yükleyin.\n",
    "Ödev için ek kaynaklar\n",
    "\n",
    "\n",
    "\n"
   ]
  },
  {
   "cell_type": "code",
   "execution_count": 58,
   "metadata": {},
   "outputs": [
    {
     "data": {
      "text/plain": [
       "0.7063754859981903"
      ]
     },
     "execution_count": 58,
     "metadata": {},
     "output_type": "execute_result"
    }
   ],
   "source": [
    "#21. Oluşturulan modelin R-squared değerini yazdırınız\n",
    "\n",
    "\n",
    "from sklearn.metrics import r2_score\n",
    "\n",
    "bYeni = model.predict(a)\n",
    "rSquared = r2_score(b, bYeni)\n",
    "rSquared\n",
    "\n",
    "\n"
   ]
  },
  {
   "cell_type": "code",
   "execution_count": 64,
   "metadata": {},
   "outputs": [
    {
     "name": "stdout",
     "output_type": "stream",
     "text": [
      "mpg             0\n",
      "cylinders       0\n",
      "displacement    0\n",
      "horsepower      6\n",
      "weight          0\n",
      "acceleration    0\n",
      "model_year      0\n",
      "origin          0\n",
      "name            0\n",
      "dtype: int64\n"
     ]
    },
    {
     "name": "stderr",
     "output_type": "stream",
     "text": [
      "/opt/conda/envs/anaconda-2022.05-py39/lib/python3.9/site-packages/sklearn/base.py:450: UserWarning: X does not have valid feature names, but LinearRegression was fitted with feature names\n",
      "  warnings.warn(\n"
     ]
    },
    {
     "ename": "ValueError",
     "evalue": "Input contains NaN, infinity or a value too large for dtype('float64').",
     "output_type": "error",
     "traceback": [
      "\u001b[0;31m---------------------------------------------------------------------------\u001b[0m",
      "\u001b[0;31mValueError\u001b[0m                                Traceback (most recent call last)",
      "Input \u001b[0;32mIn [64]\u001b[0m, in \u001b[0;36m<cell line: 37>\u001b[0;34m()\u001b[0m\n\u001b[1;32m     34\u001b[0m feature_names \u001b[38;5;241m=\u001b[39m [\u001b[38;5;124m'\u001b[39m\u001b[38;5;124mhorsepower\u001b[39m\u001b[38;5;124m'\u001b[39m, \u001b[38;5;124m'\u001b[39m\u001b[38;5;124macceleration\u001b[39m\u001b[38;5;124m'\u001b[39m, \u001b[38;5;124m'\u001b[39m\u001b[38;5;124mweight\u001b[39m\u001b[38;5;124m'\u001b[39m]\n\u001b[1;32m     36\u001b[0m model \u001b[38;5;241m=\u001b[39m LinearRegression()\n\u001b[0;32m---> 37\u001b[0m \u001b[43mmodel\u001b[49m\u001b[38;5;241;43m.\u001b[39;49m\u001b[43mfit\u001b[49m\u001b[43m(\u001b[49m\u001b[43mmpg\u001b[49m\u001b[43m[\u001b[49m\u001b[43mfeature_names\u001b[49m\u001b[43m]\u001b[49m\u001b[43m,\u001b[49m\u001b[43m \u001b[49m\u001b[43mmpg\u001b[49m\u001b[43m[\u001b[49m\u001b[38;5;124;43m'\u001b[39;49m\u001b[38;5;124;43mmpg\u001b[39;49m\u001b[38;5;124;43m'\u001b[39;49m\u001b[43m]\u001b[49m\u001b[43m)\u001b[49m\n\u001b[1;32m     39\u001b[0m \u001b[38;5;66;03m# Modelin katsayılarına ve özellik isimlerine erişim\u001b[39;00m\n\u001b[1;32m     40\u001b[0m coefficients \u001b[38;5;241m=\u001b[39m model\u001b[38;5;241m.\u001b[39mcoef_\n",
      "File \u001b[0;32m/opt/conda/envs/anaconda-2022.05-py39/lib/python3.9/site-packages/sklearn/linear_model/_base.py:662\u001b[0m, in \u001b[0;36mLinearRegression.fit\u001b[0;34m(self, X, y, sample_weight)\u001b[0m\n\u001b[1;32m    658\u001b[0m n_jobs_ \u001b[38;5;241m=\u001b[39m \u001b[38;5;28mself\u001b[39m\u001b[38;5;241m.\u001b[39mn_jobs\n\u001b[1;32m    660\u001b[0m accept_sparse \u001b[38;5;241m=\u001b[39m \u001b[38;5;28;01mFalse\u001b[39;00m \u001b[38;5;28;01mif\u001b[39;00m \u001b[38;5;28mself\u001b[39m\u001b[38;5;241m.\u001b[39mpositive \u001b[38;5;28;01melse\u001b[39;00m [\u001b[38;5;124m\"\u001b[39m\u001b[38;5;124mcsr\u001b[39m\u001b[38;5;124m\"\u001b[39m, \u001b[38;5;124m\"\u001b[39m\u001b[38;5;124mcsc\u001b[39m\u001b[38;5;124m\"\u001b[39m, \u001b[38;5;124m\"\u001b[39m\u001b[38;5;124mcoo\u001b[39m\u001b[38;5;124m\"\u001b[39m]\n\u001b[0;32m--> 662\u001b[0m X, y \u001b[38;5;241m=\u001b[39m \u001b[38;5;28;43mself\u001b[39;49m\u001b[38;5;241;43m.\u001b[39;49m\u001b[43m_validate_data\u001b[49m\u001b[43m(\u001b[49m\n\u001b[1;32m    663\u001b[0m \u001b[43m    \u001b[49m\u001b[43mX\u001b[49m\u001b[43m,\u001b[49m\u001b[43m \u001b[49m\u001b[43my\u001b[49m\u001b[43m,\u001b[49m\u001b[43m \u001b[49m\u001b[43maccept_sparse\u001b[49m\u001b[38;5;241;43m=\u001b[39;49m\u001b[43maccept_sparse\u001b[49m\u001b[43m,\u001b[49m\u001b[43m \u001b[49m\u001b[43my_numeric\u001b[49m\u001b[38;5;241;43m=\u001b[39;49m\u001b[38;5;28;43;01mTrue\u001b[39;49;00m\u001b[43m,\u001b[49m\u001b[43m \u001b[49m\u001b[43mmulti_output\u001b[49m\u001b[38;5;241;43m=\u001b[39;49m\u001b[38;5;28;43;01mTrue\u001b[39;49;00m\n\u001b[1;32m    664\u001b[0m \u001b[43m\u001b[49m\u001b[43m)\u001b[49m\n\u001b[1;32m    666\u001b[0m \u001b[38;5;28;01mif\u001b[39;00m sample_weight \u001b[38;5;129;01mis\u001b[39;00m \u001b[38;5;129;01mnot\u001b[39;00m \u001b[38;5;28;01mNone\u001b[39;00m:\n\u001b[1;32m    667\u001b[0m     sample_weight \u001b[38;5;241m=\u001b[39m _check_sample_weight(sample_weight, X, dtype\u001b[38;5;241m=\u001b[39mX\u001b[38;5;241m.\u001b[39mdtype)\n",
      "File \u001b[0;32m/opt/conda/envs/anaconda-2022.05-py39/lib/python3.9/site-packages/sklearn/base.py:581\u001b[0m, in \u001b[0;36mBaseEstimator._validate_data\u001b[0;34m(self, X, y, reset, validate_separately, **check_params)\u001b[0m\n\u001b[1;32m    579\u001b[0m         y \u001b[38;5;241m=\u001b[39m check_array(y, \u001b[38;5;241m*\u001b[39m\u001b[38;5;241m*\u001b[39mcheck_y_params)\n\u001b[1;32m    580\u001b[0m     \u001b[38;5;28;01melse\u001b[39;00m:\n\u001b[0;32m--> 581\u001b[0m         X, y \u001b[38;5;241m=\u001b[39m \u001b[43mcheck_X_y\u001b[49m\u001b[43m(\u001b[49m\u001b[43mX\u001b[49m\u001b[43m,\u001b[49m\u001b[43m \u001b[49m\u001b[43my\u001b[49m\u001b[43m,\u001b[49m\u001b[43m \u001b[49m\u001b[38;5;241;43m*\u001b[39;49m\u001b[38;5;241;43m*\u001b[39;49m\u001b[43mcheck_params\u001b[49m\u001b[43m)\u001b[49m\n\u001b[1;32m    582\u001b[0m     out \u001b[38;5;241m=\u001b[39m X, y\n\u001b[1;32m    584\u001b[0m \u001b[38;5;28;01mif\u001b[39;00m \u001b[38;5;129;01mnot\u001b[39;00m no_val_X \u001b[38;5;129;01mand\u001b[39;00m check_params\u001b[38;5;241m.\u001b[39mget(\u001b[38;5;124m\"\u001b[39m\u001b[38;5;124mensure_2d\u001b[39m\u001b[38;5;124m\"\u001b[39m, \u001b[38;5;28;01mTrue\u001b[39;00m):\n",
      "File \u001b[0;32m/opt/conda/envs/anaconda-2022.05-py39/lib/python3.9/site-packages/sklearn/utils/validation.py:964\u001b[0m, in \u001b[0;36mcheck_X_y\u001b[0;34m(X, y, accept_sparse, accept_large_sparse, dtype, order, copy, force_all_finite, ensure_2d, allow_nd, multi_output, ensure_min_samples, ensure_min_features, y_numeric, estimator)\u001b[0m\n\u001b[1;32m    961\u001b[0m \u001b[38;5;28;01mif\u001b[39;00m y \u001b[38;5;129;01mis\u001b[39;00m \u001b[38;5;28;01mNone\u001b[39;00m:\n\u001b[1;32m    962\u001b[0m     \u001b[38;5;28;01mraise\u001b[39;00m \u001b[38;5;167;01mValueError\u001b[39;00m(\u001b[38;5;124m\"\u001b[39m\u001b[38;5;124my cannot be None\u001b[39m\u001b[38;5;124m\"\u001b[39m)\n\u001b[0;32m--> 964\u001b[0m X \u001b[38;5;241m=\u001b[39m \u001b[43mcheck_array\u001b[49m\u001b[43m(\u001b[49m\n\u001b[1;32m    965\u001b[0m \u001b[43m    \u001b[49m\u001b[43mX\u001b[49m\u001b[43m,\u001b[49m\n\u001b[1;32m    966\u001b[0m \u001b[43m    \u001b[49m\u001b[43maccept_sparse\u001b[49m\u001b[38;5;241;43m=\u001b[39;49m\u001b[43maccept_sparse\u001b[49m\u001b[43m,\u001b[49m\n\u001b[1;32m    967\u001b[0m \u001b[43m    \u001b[49m\u001b[43maccept_large_sparse\u001b[49m\u001b[38;5;241;43m=\u001b[39;49m\u001b[43maccept_large_sparse\u001b[49m\u001b[43m,\u001b[49m\n\u001b[1;32m    968\u001b[0m \u001b[43m    \u001b[49m\u001b[43mdtype\u001b[49m\u001b[38;5;241;43m=\u001b[39;49m\u001b[43mdtype\u001b[49m\u001b[43m,\u001b[49m\n\u001b[1;32m    969\u001b[0m \u001b[43m    \u001b[49m\u001b[43morder\u001b[49m\u001b[38;5;241;43m=\u001b[39;49m\u001b[43morder\u001b[49m\u001b[43m,\u001b[49m\n\u001b[1;32m    970\u001b[0m \u001b[43m    \u001b[49m\u001b[43mcopy\u001b[49m\u001b[38;5;241;43m=\u001b[39;49m\u001b[43mcopy\u001b[49m\u001b[43m,\u001b[49m\n\u001b[1;32m    971\u001b[0m \u001b[43m    \u001b[49m\u001b[43mforce_all_finite\u001b[49m\u001b[38;5;241;43m=\u001b[39;49m\u001b[43mforce_all_finite\u001b[49m\u001b[43m,\u001b[49m\n\u001b[1;32m    972\u001b[0m \u001b[43m    \u001b[49m\u001b[43mensure_2d\u001b[49m\u001b[38;5;241;43m=\u001b[39;49m\u001b[43mensure_2d\u001b[49m\u001b[43m,\u001b[49m\n\u001b[1;32m    973\u001b[0m \u001b[43m    \u001b[49m\u001b[43mallow_nd\u001b[49m\u001b[38;5;241;43m=\u001b[39;49m\u001b[43mallow_nd\u001b[49m\u001b[43m,\u001b[49m\n\u001b[1;32m    974\u001b[0m \u001b[43m    \u001b[49m\u001b[43mensure_min_samples\u001b[49m\u001b[38;5;241;43m=\u001b[39;49m\u001b[43mensure_min_samples\u001b[49m\u001b[43m,\u001b[49m\n\u001b[1;32m    975\u001b[0m \u001b[43m    \u001b[49m\u001b[43mensure_min_features\u001b[49m\u001b[38;5;241;43m=\u001b[39;49m\u001b[43mensure_min_features\u001b[49m\u001b[43m,\u001b[49m\n\u001b[1;32m    976\u001b[0m \u001b[43m    \u001b[49m\u001b[43mestimator\u001b[49m\u001b[38;5;241;43m=\u001b[39;49m\u001b[43mestimator\u001b[49m\u001b[43m,\u001b[49m\n\u001b[1;32m    977\u001b[0m \u001b[43m\u001b[49m\u001b[43m)\u001b[49m\n\u001b[1;32m    979\u001b[0m y \u001b[38;5;241m=\u001b[39m _check_y(y, multi_output\u001b[38;5;241m=\u001b[39mmulti_output, y_numeric\u001b[38;5;241m=\u001b[39my_numeric)\n\u001b[1;32m    981\u001b[0m check_consistent_length(X, y)\n",
      "File \u001b[0;32m/opt/conda/envs/anaconda-2022.05-py39/lib/python3.9/site-packages/sklearn/utils/validation.py:800\u001b[0m, in \u001b[0;36mcheck_array\u001b[0;34m(array, accept_sparse, accept_large_sparse, dtype, order, copy, force_all_finite, ensure_2d, allow_nd, ensure_min_samples, ensure_min_features, estimator)\u001b[0m\n\u001b[1;32m    794\u001b[0m         \u001b[38;5;28;01mraise\u001b[39;00m \u001b[38;5;167;01mValueError\u001b[39;00m(\n\u001b[1;32m    795\u001b[0m             \u001b[38;5;124m\"\u001b[39m\u001b[38;5;124mFound array with dim \u001b[39m\u001b[38;5;132;01m%d\u001b[39;00m\u001b[38;5;124m. \u001b[39m\u001b[38;5;132;01m%s\u001b[39;00m\u001b[38;5;124m expected <= 2.\u001b[39m\u001b[38;5;124m\"\u001b[39m\n\u001b[1;32m    796\u001b[0m             \u001b[38;5;241m%\u001b[39m (array\u001b[38;5;241m.\u001b[39mndim, estimator_name)\n\u001b[1;32m    797\u001b[0m         )\n\u001b[1;32m    799\u001b[0m     \u001b[38;5;28;01mif\u001b[39;00m force_all_finite:\n\u001b[0;32m--> 800\u001b[0m         \u001b[43m_assert_all_finite\u001b[49m\u001b[43m(\u001b[49m\u001b[43marray\u001b[49m\u001b[43m,\u001b[49m\u001b[43m \u001b[49m\u001b[43mallow_nan\u001b[49m\u001b[38;5;241;43m=\u001b[39;49m\u001b[43mforce_all_finite\u001b[49m\u001b[43m \u001b[49m\u001b[38;5;241;43m==\u001b[39;49m\u001b[43m \u001b[49m\u001b[38;5;124;43m\"\u001b[39;49m\u001b[38;5;124;43mallow-nan\u001b[39;49m\u001b[38;5;124;43m\"\u001b[39;49m\u001b[43m)\u001b[49m\n\u001b[1;32m    802\u001b[0m \u001b[38;5;28;01mif\u001b[39;00m ensure_min_samples \u001b[38;5;241m>\u001b[39m \u001b[38;5;241m0\u001b[39m:\n\u001b[1;32m    803\u001b[0m     n_samples \u001b[38;5;241m=\u001b[39m _num_samples(array)\n",
      "File \u001b[0;32m/opt/conda/envs/anaconda-2022.05-py39/lib/python3.9/site-packages/sklearn/utils/validation.py:114\u001b[0m, in \u001b[0;36m_assert_all_finite\u001b[0;34m(X, allow_nan, msg_dtype)\u001b[0m\n\u001b[1;32m    107\u001b[0m     \u001b[38;5;28;01mif\u001b[39;00m (\n\u001b[1;32m    108\u001b[0m         allow_nan\n\u001b[1;32m    109\u001b[0m         \u001b[38;5;129;01mand\u001b[39;00m np\u001b[38;5;241m.\u001b[39misinf(X)\u001b[38;5;241m.\u001b[39many()\n\u001b[1;32m    110\u001b[0m         \u001b[38;5;129;01mor\u001b[39;00m \u001b[38;5;129;01mnot\u001b[39;00m allow_nan\n\u001b[1;32m    111\u001b[0m         \u001b[38;5;129;01mand\u001b[39;00m \u001b[38;5;129;01mnot\u001b[39;00m np\u001b[38;5;241m.\u001b[39misfinite(X)\u001b[38;5;241m.\u001b[39mall()\n\u001b[1;32m    112\u001b[0m     ):\n\u001b[1;32m    113\u001b[0m         type_err \u001b[38;5;241m=\u001b[39m \u001b[38;5;124m\"\u001b[39m\u001b[38;5;124minfinity\u001b[39m\u001b[38;5;124m\"\u001b[39m \u001b[38;5;28;01mif\u001b[39;00m allow_nan \u001b[38;5;28;01melse\u001b[39;00m \u001b[38;5;124m\"\u001b[39m\u001b[38;5;124mNaN, infinity\u001b[39m\u001b[38;5;124m\"\u001b[39m\n\u001b[0;32m--> 114\u001b[0m         \u001b[38;5;28;01mraise\u001b[39;00m \u001b[38;5;167;01mValueError\u001b[39;00m(\n\u001b[1;32m    115\u001b[0m             msg_err\u001b[38;5;241m.\u001b[39mformat(\n\u001b[1;32m    116\u001b[0m                 type_err, msg_dtype \u001b[38;5;28;01mif\u001b[39;00m msg_dtype \u001b[38;5;129;01mis\u001b[39;00m \u001b[38;5;129;01mnot\u001b[39;00m \u001b[38;5;28;01mNone\u001b[39;00m \u001b[38;5;28;01melse\u001b[39;00m X\u001b[38;5;241m.\u001b[39mdtype\n\u001b[1;32m    117\u001b[0m             )\n\u001b[1;32m    118\u001b[0m         )\n\u001b[1;32m    119\u001b[0m \u001b[38;5;66;03m# for object dtype data, we only check for NaNs (GH-13254)\u001b[39;00m\n\u001b[1;32m    120\u001b[0m \u001b[38;5;28;01melif\u001b[39;00m X\u001b[38;5;241m.\u001b[39mdtype \u001b[38;5;241m==\u001b[39m np\u001b[38;5;241m.\u001b[39mdtype(\u001b[38;5;124m\"\u001b[39m\u001b[38;5;124mobject\u001b[39m\u001b[38;5;124m\"\u001b[39m) \u001b[38;5;129;01mand\u001b[39;00m \u001b[38;5;129;01mnot\u001b[39;00m allow_nan:\n",
      "\u001b[0;31mValueError\u001b[0m: Input contains NaN, infinity or a value too large for dtype('float64')."
     ]
    }
   ],
   "source": [
    "#22. horsepower = 130, acceleration=13, weight=3500 olan bir \n",
    "# otomobilin “mpg” değerini tahmin ediniz.\n",
    "import seaborn as sns\n",
    "from sklearn.linear_model import LinearRegression\n",
    "mpg = sns.load_dataset(\"mpg\")\n",
    "\n",
    "print(mpg.isnull().sum())\n",
    "\n",
    "mpg.dropna(subset=['horsepower', 'acceleration', 'weight', 'mpg'], inplace=True)\n",
    "\n",
    "model = LinearRegression()\n",
    "\n",
    "a = mpg[['horsepower', 'acceleration', 'weight']]\n",
    "b = mpg['mpg']\n",
    "model.fit(a, b)\n",
    "horsepower = 130\n",
    "acceleration = 13\n",
    "weight = 3500\n",
    "dizi = [[horsepower, acceleration, weight]]\n",
    "mpgTahmin = model.predict(dizi)\n",
    "mpgTahmin[0]\n",
    "\n",
    "\n",
    "\n",
    "import numpy as np\n",
    "import seaborn as sns\n",
    "from sklearn.linear_model import LinearRegression\n",
    "\n",
    "mpg = sns.load_dataset(\"mpg\")\n",
    "\n",
    "# ... (veri setini temizleme ve model eğitme kısmı)\n",
    "\n",
    "# Modeli eğitirken kullanılan sütun isimlerini kaydedin\n",
    "feature_names = ['horsepower', 'acceleration', 'weight']\n",
    "\n",
    "model = LinearRegression()\n",
    "model.fit(mpg[feature_names], mpg['mpg'])\n",
    "\n",
    "# Modelin katsayılarına ve özellik isimlerine erişim\n",
    "coefficients = model.coef_\n",
    "feature_names = np.array(feature_names)\n",
    "\n",
    "print(\"Katsayılar:\", dict(zip(feature_names, coefficients)))"
   ]
  },
  {
   "cell_type": "code",
   "execution_count": 66,
   "metadata": {},
   "outputs": [
    {
     "name": "stdout",
     "output_type": "stream",
     "text": [
      "mpg             0\n",
      "cylinders       0\n",
      "displacement    0\n",
      "horsepower      6\n",
      "weight          0\n",
      "acceleration    0\n",
      "model_year      0\n",
      "origin          0\n",
      "name            0\n",
      "dtype: int64\n",
      "Tahmini MPG Değeri: 19.214100258794932\n"
     ]
    },
    {
     "name": "stderr",
     "output_type": "stream",
     "text": [
      "/opt/conda/envs/anaconda-2022.05-py39/lib/python3.9/site-packages/sklearn/base.py:450: UserWarning: X does not have valid feature names, but LinearRegression was fitted with feature names\n",
      "  warnings.warn(\n"
     ]
    }
   ],
   "source": [
    "#23. “mpg.csv” veri setini, “mpg”, “displacement”,”horsepower”,”weight” \n",
    "# ve “acceleration” değişkenlerine göre \n",
    "# “origin” değerinin tahmini için %20 test,%80 eğitim oranında ayrıştırınız. Eğitim setini kullanarak \n",
    "# RandomForest sınıflandırma modeli oluşturunuz\n",
    "\n",
    "\n",
    "\n",
    "import seaborn as sns\n",
    "from sklearn.linear_model import LinearRegression\n",
    "\n",
    "mpg = sns.load_dataset(\"mpg\")\n",
    "\n",
    "# Veri setindeki eksik değerleri kontrol edin\n",
    "print(mpg.isnull().sum())\n",
    "\n",
    "# Eksik değerleri olan satırları temizleyin\n",
    "mpg.dropna(inplace=True)\n",
    "\n",
    "# Modeli oluşturun ve eğitin\n",
    "model = LinearRegression()\n",
    "features = ['horsepower', 'acceleration', 'weight']\n",
    "target = 'mpg'\n",
    "\n",
    "X = mpg[features]\n",
    "y = mpg[target]\n",
    "\n",
    "model.fit(X, y)\n",
    "\n",
    "# Tahmin etmek istediğiniz değerleri belirleyin\n",
    "horsepower = 130\n",
    "acceleration = 13\n",
    "weight = 3500\n",
    "\n",
    "# Tahmin yapın\n",
    "new_data = [[horsepower, acceleration, weight]]\n",
    "mpg_prediction = model.predict(new_data)\n",
    "print(\"Tahmini MPG Değeri:\", mpg_prediction[0])\n",
    "\n",
    "\n",
    "\n",
    "\n",
    "\n",
    "\n",
    "\n",
    "\n",
    "\n",
    "\n"
   ]
  },
  {
   "cell_type": "code",
   "execution_count": 23,
   "metadata": {},
   "outputs": [],
   "source": [
    "#24. Oluşturulan modelin test seti üzerinde doğruluk (accuracy) skorunu hesaplayınız,\n",
    "\n",
    "\n",
    "\n",
    "\n",
    "\n"
   ]
  },
  {
   "cell_type": "code",
   "execution_count": 24,
   "metadata": {},
   "outputs": [],
   "source": [
    "#25.Değişkenlerin önem derecelerini (Importance) yazdırınız.\n",
    "\n",
    "\n",
    "\n",
    "\n",
    "\n",
    "\n",
    "\n",
    "\n",
    "\n",
    "\n",
    "\n"
   ]
  },
  {
   "cell_type": "code",
   "execution_count": null,
   "metadata": {},
   "outputs": [],
   "source": []
  }
 ],
 "metadata": {
  "kaggle": {
   "accelerator": "none",
   "dataSources": [],
   "dockerImageVersionId": 30587,
   "isGpuEnabled": false,
   "isInternetEnabled": false,
   "language": "python",
   "sourceType": "notebook"
  },
  "kernelspec": {
   "display_name": "anaconda-2022.05-py39",
   "language": "python",
   "name": "conda-env-anaconda-2022.05-py39-py"
  },
  "language_info": {
   "codemirror_mode": {
    "name": "ipython",
    "version": 3
   },
   "file_extension": ".py",
   "mimetype": "text/x-python",
   "name": "python",
   "nbconvert_exporter": "python",
   "pygments_lexer": "ipython3",
   "version": "3.9.12"
  }
 },
 "nbformat": 4,
 "nbformat_minor": 4
}
