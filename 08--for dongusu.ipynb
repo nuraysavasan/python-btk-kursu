{
 "cells": [
  {
   "cell_type": "code",
   "execution_count": 1,
   "id": "ec7e80a8-901e-46b6-8a6a-ff523eacb3d5",
   "metadata": {},
   "outputs": [],
   "source": [
    "benimListem=[10,20,30,40]\n"
   ]
  },
  {
   "cell_type": "code",
   "execution_count": 5,
   "id": "bf52bd30-f15e-4627-9486-04d9a9928379",
   "metadata": {},
   "outputs": [
    {
     "name": "stdout",
     "output_type": "stream",
     "text": [
      "var\n"
     ]
    }
   ],
   "source": [
    "if 10 in benimListem:\n",
    "    print(\"var\")"
   ]
  },
  {
   "cell_type": "code",
   "execution_count": 7,
   "id": "ee0dba73-b7d5-4887-86a3-5d849db44d32",
   "metadata": {},
   "outputs": [
    {
     "name": "stdout",
     "output_type": "stream",
     "text": [
      "10\n",
      "20\n",
      "30\n",
      "40\n"
     ]
    }
   ],
   "source": [
    "for numara in benimListem:\n",
    "    print(numara)"
   ]
  },
  {
   "cell_type": "code",
   "execution_count": 9,
   "id": "44de2601-4dd8-4fdb-a4ef-c59e9288150c",
   "metadata": {},
   "outputs": [
    {
     "name": "stdout",
     "output_type": "stream",
     "text": [
      "16.666666666666668\n",
      "33.333333333333336\n",
      "50.0\n",
      "66.66666666666667\n"
     ]
    }
   ],
   "source": [
    "for num in benimListem:\n",
    "    yeniNumara=num*5/3\n",
    "    print(yeniNumara)"
   ]
  },
  {
   "cell_type": "code",
   "execution_count": 11,
   "id": "5bf06c87-e6fe-42b3-8441-cb4994ab3ee8",
   "metadata": {},
   "outputs": [],
   "source": [
    "yeniListe=[1,2,3,4,5,6]"
   ]
  },
  {
   "cell_type": "code",
   "execution_count": 13,
   "id": "a69f375b-7532-49aa-a19f-643cba4abf98",
   "metadata": {},
   "outputs": [
    {
     "name": "stdout",
     "output_type": "stream",
     "text": [
      "2\n",
      "4\n",
      "6\n"
     ]
    }
   ],
   "source": [
    "for rakam  in yeniListe:\n",
    "    if rakam%2==0:\n",
    "        print(rakam)"
   ]
  },
  {
   "cell_type": "code",
   "execution_count": 15,
   "id": "cdf886a7-b2b4-4731-a921-54ccad94296c",
   "metadata": {},
   "outputs": [],
   "source": [
    "yeniString=\"nuray savasan\""
   ]
  },
  {
   "cell_type": "code",
   "execution_count": 17,
   "id": "0a8859e4-f0a0-4873-a19f-2756203407ac",
   "metadata": {},
   "outputs": [
    {
     "name": "stdout",
     "output_type": "stream",
     "text": [
      "n\n",
      "u\n",
      "r\n",
      "a\n",
      "y\n",
      " \n",
      "s\n",
      "a\n",
      "v\n",
      "a\n",
      "s\n",
      "a\n",
      "n\n"
     ]
    }
   ],
   "source": [
    "for harf in yeniString:\n",
    "    print(harf)"
   ]
  },
  {
   "cell_type": "code",
   "execution_count": 19,
   "id": "cdfffab5-c4a6-4cf8-8d9e-8f2bd780a5b1",
   "metadata": {},
   "outputs": [],
   "source": [
    "benimTupple=(1,2,3,4,5)"
   ]
  },
  {
   "cell_type": "code",
   "execution_count": 21,
   "id": "4460a327-ba86-48da-a51c-fde6c584fce6",
   "metadata": {},
   "outputs": [
    {
     "name": "stdout",
     "output_type": "stream",
     "text": [
      "-9\n",
      "-8\n",
      "-7\n",
      "-6\n",
      "-5\n"
     ]
    }
   ],
   "source": [
    "for eleman in benimTupple:\n",
    "    print(eleman-10)"
   ]
  },
  {
   "cell_type": "code",
   "execution_count": 23,
   "id": "23ecd780-7b37-4383-9499-b57ddee82635",
   "metadata": {},
   "outputs": [],
   "source": [
    "koordinatListesi=[(10.2,15.2),(32.4,34.5)]"
   ]
  },
  {
   "cell_type": "code",
   "execution_count": 27,
   "id": "21e99b9b-adc2-461e-a4e3-000f46f778ad",
   "metadata": {},
   "outputs": [
    {
     "data": {
      "text/plain": [
       "list"
      ]
     },
     "execution_count": 27,
     "metadata": {},
     "output_type": "execute_result"
    }
   ],
   "source": [
    "type(koordinatListesi)"
   ]
  },
  {
   "cell_type": "code",
   "execution_count": 29,
   "id": "990110ad-a5db-4d54-ade6-584e808eaeaa",
   "metadata": {},
   "outputs": [
    {
     "name": "stdout",
     "output_type": "stream",
     "text": [
      "(10.2, 15.2)\n",
      "(32.4, 34.5)\n"
     ]
    }
   ],
   "source": [
    "for eleman in koordinatListesi:\n",
    "    print(eleman)"
   ]
  },
  {
   "cell_type": "code",
   "execution_count": 31,
   "id": "cb620e36-507e-40b2-ad0f-93f93f3f8c4b",
   "metadata": {},
   "outputs": [
    {
     "name": "stdout",
     "output_type": "stream",
     "text": [
      "15.2\n",
      "34.5\n"
     ]
    }
   ],
   "source": [
    "for(x,y) in koordinatListesi:\n",
    "    print(y)"
   ]
  },
  {
   "cell_type": "code",
   "execution_count": 33,
   "id": "be8c96a0-8592-425d-aea1-5b58cf9684dd",
   "metadata": {},
   "outputs": [],
   "source": [
    "benimGaripListem=[(1,2,3),(4,5,6)]"
   ]
  },
  {
   "cell_type": "code",
   "execution_count": 37,
   "id": "5349e5c9-94e9-47b6-b60f-8d20043153e5",
   "metadata": {},
   "outputs": [
    {
     "name": "stdout",
     "output_type": "stream",
     "text": [
      "3\n",
      "6\n"
     ]
    }
   ],
   "source": [
    "for(x,y,z) in benimGaripListem:\n",
    "    print(z)"
   ]
  },
  {
   "cell_type": "code",
   "execution_count": 39,
   "id": "86bbece6-432f-4165-9802-81ac5dc0a388",
   "metadata": {},
   "outputs": [],
   "source": [
    "benimSozluk={\"muz\":150,\"elma\":400}"
   ]
  },
  {
   "cell_type": "code",
   "execution_count": 41,
   "id": "52e0d3a0-92c7-43d9-8932-1c03483a8348",
   "metadata": {},
   "outputs": [
    {
     "data": {
      "text/plain": [
       "dict_items"
      ]
     },
     "execution_count": 41,
     "metadata": {},
     "output_type": "execute_result"
    }
   ],
   "source": [
    "type(benimSozluk.items())"
   ]
  },
  {
   "cell_type": "code",
   "execution_count": 45,
   "id": "deb64cc1-bd91-45f2-aa62-022087e6fb24",
   "metadata": {},
   "outputs": [
    {
     "name": "stdout",
     "output_type": "stream",
     "text": [
      "150\n",
      "400\n"
     ]
    }
   ],
   "source": [
    "for (anahtar,deger) in benimSozluk.items():\n",
    "    print(deger)"
   ]
  },
  {
   "cell_type": "code",
   "execution_count": null,
   "id": "d3e2cdf5-6637-4da9-9d58-534587663e71",
   "metadata": {},
   "outputs": [],
   "source": []
  }
 ],
 "metadata": {
  "kernelspec": {
   "display_name": "anaconda-panel-2023.05-py310",
   "language": "python",
   "name": "conda-env-anaconda-panel-2023.05-py310-py"
  },
  "language_info": {
   "codemirror_mode": {
    "name": "ipython",
    "version": 3
   },
   "file_extension": ".py",
   "mimetype": "text/x-python",
   "name": "python",
   "nbconvert_exporter": "python",
   "pygments_lexer": "ipython3",
   "version": "3.11.5"
  }
 },
 "nbformat": 4,
 "nbformat_minor": 5
}
