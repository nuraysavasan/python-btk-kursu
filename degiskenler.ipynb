{
 "cells": [
  {
   "cell_type": "code",
   "execution_count": 1,
   "id": "7a1a048d-6cf1-4a8f-abae-35c3908d7c0d",
   "metadata": {},
   "outputs": [],
   "source": [
    "a=5\n",
    "b=4"
   ]
  },
  {
   "cell_type": "code",
   "execution_count": 3,
   "id": "9b29e799-d0ca-44ee-a0a6-663057cf5fb7",
   "metadata": {},
   "outputs": [
    {
     "data": {
      "text/plain": [
       "int"
      ]
     },
     "execution_count": 3,
     "metadata": {},
     "output_type": "execute_result"
    }
   ],
   "source": [
    "type(a)"
   ]
  },
  {
   "cell_type": "code",
   "execution_count": 5,
   "id": "0bac3246-a724-4ccd-8f59-40b847d4fc60",
   "metadata": {},
   "outputs": [],
   "source": [
    "c=a/b"
   ]
  },
  {
   "cell_type": "code",
   "execution_count": 7,
   "id": "e4a5954f-e6a7-43bc-8bb1-2d5864e81537",
   "metadata": {},
   "outputs": [
    {
     "data": {
      "text/plain": [
       "float"
      ]
     },
     "execution_count": 7,
     "metadata": {},
     "output_type": "execute_result"
    }
   ],
   "source": [
    "type(c)"
   ]
  },
  {
   "cell_type": "code",
   "execution_count": 9,
   "id": "c2d77742-cb57-4869-83e7-1232654ea2e7",
   "metadata": {},
   "outputs": [],
   "source": [
    "##2 tane yıldız üceri demek"
   ]
  },
  {
   "cell_type": "code",
   "execution_count": 11,
   "id": "5294cc29-7fa3-4d0d-831c-a44a18176ff0",
   "metadata": {},
   "outputs": [
    {
     "data": {
      "text/plain": [
       "625"
      ]
     },
     "execution_count": 11,
     "metadata": {},
     "output_type": "execute_result"
    }
   ],
   "source": [
    "a**4\n"
   ]
  },
  {
   "cell_type": "code",
   "execution_count": 15,
   "id": "04135da3-c3e2-4686-920f-e2df815b1e92",
   "metadata": {},
   "outputs": [
    {
     "name": "stdin",
     "output_type": "stream",
     "text": [
      "yaas gri: 1\n"
     ]
    },
    {
     "data": {
      "text/plain": [
       "'1'"
      ]
     },
     "execution_count": 15,
     "metadata": {},
     "output_type": "execute_result"
    }
   ],
   "source": [
    "yas=input(\"yaas gri:\")"
   ]
  },
  {
   "cell_type": "code",
   "execution_count": 17,
   "id": "45d066b2-5ca8-49fc-ad9d-0034a691e3b4",
   "metadata": {},
   "outputs": [
    {
     "data": {
      "text/plain": [
       "'merhaba'"
      ]
     },
     "execution_count": 17,
     "metadata": {},
     "output_type": "execute_result"
    }
   ],
   "source": [
    "\"merhaba\""
   ]
  },
  {
   "cell_type": "code",
   "execution_count": 19,
   "id": "06f212e0-7f95-479f-a0ec-9cb52134ed80",
   "metadata": {},
   "outputs": [],
   "source": [
    "x=\"merhaba\""
   ]
  },
  {
   "cell_type": "code",
   "execution_count": 21,
   "id": "56fa5371-b95c-4357-b1bb-ef6ceb1cf1b9",
   "metadata": {},
   "outputs": [],
   "source": [
    "x=10"
   ]
  },
  {
   "cell_type": "code",
   "execution_count": 23,
   "id": "fa8a7448-bb04-42cd-9e8f-e9bd17e82c58",
   "metadata": {},
   "outputs": [
    {
     "data": {
      "text/plain": [
       "int"
      ]
     },
     "execution_count": 23,
     "metadata": {},
     "output_type": "execute_result"
    }
   ],
   "source": [
    "type(x)"
   ]
  },
  {
   "cell_type": "code",
   "execution_count": 25,
   "id": "484f50ab-d6c6-498b-981e-713c8357530e",
   "metadata": {},
   "outputs": [],
   "source": [
    "x=\"selam\""
   ]
  },
  {
   "cell_type": "code",
   "execution_count": 27,
   "id": "d09b669d-069c-419f-9216-fd8a778d3de9",
   "metadata": {},
   "outputs": [
    {
     "data": {
      "text/plain": [
       "['selam']"
      ]
     },
     "execution_count": 27,
     "metadata": {},
     "output_type": "execute_result"
    }
   ],
   "source": [
    "x.split()"
   ]
  },
  {
   "cell_type": "code",
   "execution_count": 29,
   "id": "e82513a8-6f0e-461c-9119-64e6253d6910",
   "metadata": {},
   "outputs": [
    {
     "name": "stdin",
     "output_type": "stream",
     "text": [
      "yasınızı girin 33\n"
     ]
    }
   ],
   "source": [
    "benimınput=input(\"yasınızı girin\")"
   ]
  },
  {
   "cell_type": "code",
   "execution_count": 31,
   "id": "7855e943-658b-4b0f-af8b-c3e9b7788f50",
   "metadata": {},
   "outputs": [],
   "source": [
    "benimintimput=int(benimınput)"
   ]
  },
  {
   "cell_type": "code",
   "execution_count": 33,
   "id": "a083c4e4-504a-4d7b-9e89-a078ea046756",
   "metadata": {},
   "outputs": [
    {
     "data": {
      "text/plain": [
       "int"
      ]
     },
     "execution_count": 33,
     "metadata": {},
     "output_type": "execute_result"
    }
   ],
   "source": [
    "type(benimintimput)"
   ]
  },
  {
   "cell_type": "code",
   "execution_count": 35,
   "id": "e16e50d7-4350-48cf-9af6-bb6def8b6dbf",
   "metadata": {},
   "outputs": [],
   "source": [
    "isimstring=\"nuray savaşan\""
   ]
  },
  {
   "cell_type": "code",
   "execution_count": 37,
   "id": "a49f5ea0-359f-4cce-831d-8d3cb59a76ba",
   "metadata": {},
   "outputs": [
    {
     "data": {
      "text/plain": [
       "'nuray savaşan'"
      ]
     },
     "execution_count": 37,
     "metadata": {},
     "output_type": "execute_result"
    }
   ],
   "source": [
    "isimstring"
   ]
  },
  {
   "cell_type": "code",
   "execution_count": 39,
   "id": "f3e02797-bccb-496f-bc76-9fd054749f01",
   "metadata": {},
   "outputs": [],
   "source": [
    "##İNDEX"
   ]
  },
  {
   "cell_type": "code",
   "execution_count": 41,
   "id": "0b8a62a9-ccfc-4f43-b300-2fa3731eb365",
   "metadata": {},
   "outputs": [
    {
     "data": {
      "text/plain": [
       "'n'"
      ]
     },
     "execution_count": 41,
     "metadata": {},
     "output_type": "execute_result"
    }
   ],
   "source": [
    "isimstring[0]"
   ]
  },
  {
   "cell_type": "code",
   "execution_count": 45,
   "id": "d2d23a2c-b524-400d-980f-be43c6cb06d8",
   "metadata": {},
   "outputs": [
    {
     "data": {
      "text/plain": [
       "'ş'"
      ]
     },
     "execution_count": 45,
     "metadata": {},
     "output_type": "execute_result"
    }
   ],
   "source": [
    "isimstring[-3]"
   ]
  },
  {
   "cell_type": "code",
   "execution_count": 47,
   "id": "d8b34b79-5936-4f8f-a781-c63d787a6c63",
   "metadata": {},
   "outputs": [],
   "source": [
    "yenistring=\"0123456789\""
   ]
  },
  {
   "cell_type": "code",
   "execution_count": 51,
   "id": "f17589c0-a234-475a-ae30-996aeee6eeda",
   "metadata": {},
   "outputs": [
    {
     "data": {
      "text/plain": [
       "'23456789'"
      ]
     },
     "execution_count": 51,
     "metadata": {},
     "output_type": "execute_result"
    }
   ],
   "source": [
    "yenistring[2:]"
   ]
  },
  {
   "cell_type": "code",
   "execution_count": 53,
   "id": "152584fa-20e1-4c08-b21b-fcf8b84f22a6",
   "metadata": {},
   "outputs": [
    {
     "data": {
      "text/plain": [
       "'012'"
      ]
     },
     "execution_count": 53,
     "metadata": {},
     "output_type": "execute_result"
    }
   ],
   "source": [
    "yenistring[:3]"
   ]
  },
  {
   "cell_type": "code",
   "execution_count": 55,
   "id": "f850af4c-966c-48ca-8046-98e4235da98a",
   "metadata": {},
   "outputs": [],
   "source": [
    "gelenveri=\"ahmetinyaşı65\""
   ]
  },
  {
   "cell_type": "code",
   "execution_count": 57,
   "id": "c53521e1-7d2a-4dfd-b465-c5c657e27c12",
   "metadata": {},
   "outputs": [
    {
     "data": {
      "text/plain": [
       "'65'"
      ]
     },
     "execution_count": 57,
     "metadata": {},
     "output_type": "execute_result"
    }
   ],
   "source": [
    "gelenveri[-2:]"
   ]
  },
  {
   "cell_type": "code",
   "execution_count": 59,
   "id": "d0c474ec-c563-49b9-8cb5-d2f0d38be8eb",
   "metadata": {},
   "outputs": [
    {
     "data": {
      "text/plain": [
       "'me'"
      ]
     },
     "execution_count": 59,
     "metadata": {},
     "output_type": "execute_result"
    }
   ],
   "source": [
    "gelenveri[2:4]"
   ]
  },
  {
   "cell_type": "code",
   "execution_count": 67,
   "id": "15cdbedb-87bc-4c61-b80d-41b7c93afc25",
   "metadata": {},
   "outputs": [
    {
     "data": {
      "text/plain": [
       "'amtnaı5'"
      ]
     },
     "execution_count": 67,
     "metadata": {},
     "output_type": "execute_result"
    }
   ],
   "source": [
    "gelenveri[::2]"
   ]
  },
  {
   "cell_type": "code",
   "execution_count": 71,
   "id": "9784f75a-261e-4ed2-9ce4-1f161909ae92",
   "metadata": {},
   "outputs": [],
   "source": [
    "benimIsmim=\"nuray\""
   ]
  },
  {
   "cell_type": "code",
   "execution_count": 73,
   "id": "81647d05-311d-4e36-af6a-d6a20f8a5c1d",
   "metadata": {},
   "outputs": [
    {
     "data": {
      "text/plain": [
       "'Nuray'"
      ]
     },
     "execution_count": 73,
     "metadata": {},
     "output_type": "execute_result"
    }
   ],
   "source": [
    "benimIsmim.capitalize()"
   ]
  },
  {
   "cell_type": "code",
   "execution_count": 75,
   "id": "cc98219b-cbe3-40db-b34f-f8baac825ed3",
   "metadata": {},
   "outputs": [
    {
     "data": {
      "text/plain": [
       "'nuray'"
      ]
     },
     "execution_count": 75,
     "metadata": {},
     "output_type": "execute_result"
    }
   ],
   "source": [
    "benimIsmim"
   ]
  },
  {
   "cell_type": "code",
   "execution_count": 79,
   "id": "1a6d9ca0-15ed-4cc4-8104-f9126ec2ba4b",
   "metadata": {},
   "outputs": [],
   "source": [
    "benimYeniİsmim=benimIsmim.capitalize()"
   ]
  },
  {
   "cell_type": "code",
   "execution_count": 81,
   "id": "ce05f70b-5b31-4a13-9c43-8d66680d3504",
   "metadata": {},
   "outputs": [
    {
     "data": {
      "text/plain": [
       "'Nuray'"
      ]
     },
     "execution_count": 81,
     "metadata": {},
     "output_type": "execute_result"
    }
   ],
   "source": [
    "benimYeniİsmim"
   ]
  },
  {
   "cell_type": "code",
   "execution_count": 83,
   "id": "76d66066-cf6f-4d37-8c4c-c04f4987d964",
   "metadata": {},
   "outputs": [],
   "source": [
    "benimtamismim=\"Nuray Savaşan\""
   ]
  },
  {
   "cell_type": "code",
   "execution_count": 89,
   "id": "7185333d-fd9c-4241-a3c1-0f86febd01ca",
   "metadata": {},
   "outputs": [
    {
     "data": {
      "text/plain": [
       "['Nuray', 'Savaşan']"
      ]
     },
     "execution_count": 89,
     "metadata": {},
     "output_type": "execute_result"
    }
   ],
   "source": [
    "benimtamismim.split()"
   ]
  },
  {
   "cell_type": "code",
   "execution_count": 91,
   "id": "bf37567f-9195-4e2b-9a0a-be87b23efc65",
   "metadata": {},
   "outputs": [
    {
     "data": {
      "text/plain": [
       "'NURAY SAVAŞAN'"
      ]
     },
     "execution_count": 91,
     "metadata": {},
     "output_type": "execute_result"
    }
   ],
   "source": [
    "benimtamismim.upper()"
   ]
  },
  {
   "cell_type": "code",
   "execution_count": 93,
   "id": "8ee7822e-cf5e-4146-b27f-ab5c4a91a3ff",
   "metadata": {},
   "outputs": [
    {
     "data": {
      "text/plain": [
       "'nuraydır'"
      ]
     },
     "execution_count": 93,
     "metadata": {},
     "output_type": "execute_result"
    }
   ],
   "source": [
    "benimIsmim+\"dır\""
   ]
  },
  {
   "cell_type": "code",
   "execution_count": 99,
   "id": "801d651e-3f8d-41dc-a2e4-a572a8d6f529",
   "metadata": {},
   "outputs": [],
   "source": [
    "benimsoyismim=\"savaşan\""
   ]
  },
  {
   "cell_type": "code",
   "execution_count": 103,
   "id": "7ed9052e-c88f-42f5-8ef7-6b921fc5098a",
   "metadata": {},
   "outputs": [
    {
     "data": {
      "text/plain": [
       "'nuray savaşan'"
      ]
     },
     "execution_count": 103,
     "metadata": {},
     "output_type": "execute_result"
    }
   ],
   "source": [
    "benimIsmim + \" \"+ benimsoyismim"
   ]
  },
  {
   "cell_type": "code",
   "execution_count": null,
   "id": "bb4fc7d2-91e2-4e3a-9b87-bfc5f732ab44",
   "metadata": {},
   "outputs": [],
   "source": []
  }
 ],
 "metadata": {
  "kernelspec": {
   "display_name": "anaconda-panel-2023.05-py310",
   "language": "python",
   "name": "conda-env-anaconda-panel-2023.05-py310-py"
  },
  "language_info": {
   "codemirror_mode": {
    "name": "ipython",
    "version": 3
   },
   "file_extension": ".py",
   "mimetype": "text/x-python",
   "name": "python",
   "nbconvert_exporter": "python",
   "pygments_lexer": "ipython3",
   "version": "3.11.5"
  }
 },
 "nbformat": 4,
 "nbformat_minor": 5
}
