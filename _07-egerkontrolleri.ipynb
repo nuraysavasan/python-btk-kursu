{
 "cells": [
  {
   "cell_type": "code",
   "execution_count": 34,
   "id": "eacd9f12-1042-4f29-88f4-461f04cd00ef",
   "metadata": {},
   "outputs": [
    {
     "name": "stdout",
     "output_type": "stream",
     "text": [
      "nuray savasan\n"
     ]
    }
   ],
   "source": [
    " if 3>1:\n",
    "        print(\"nuray savasan\")"
   ]
  },
  {
   "cell_type": "code",
   "execution_count": 37,
   "id": "a6ce48eb-78df-4ad4-9780-7f46291d2e5c",
   "metadata": {},
   "outputs": [
    {
     "name": "stdout",
     "output_type": "stream",
     "text": [
      "y>x\n"
     ]
    }
   ],
   "source": [
    "x=1\n",
    "x=2\n",
    "if x>y:\n",
    "    print(\"x>y\")\n",
    "elif y>x:\n",
    "    print(\"y>x\")"
   ]
  },
  {
   "cell_type": "code",
   "execution_count": 38,
   "id": "9e45b251-3393-4e5d-b062-82e3ca1ff447",
   "metadata": {},
   "outputs": [
    {
     "name": "stdin",
     "output_type": "stream",
     "text": [
      "super kahraman seçiniz: batman\n"
     ]
    }
   ],
   "source": [
    "benimKahramanim=input(\"super kahraman seçiniz:\")"
   ]
  },
  {
   "cell_type": "code",
   "execution_count": 41,
   "id": "5c23fcbb-a83e-4946-b962-535408e20b8e",
   "metadata": {},
   "outputs": [
    {
     "name": "stdout",
     "output_type": "stream",
     "text": [
      "batmanı sectiniz\n"
     ]
    }
   ],
   "source": [
    "if benimKahramanim==\"batman\":\n",
    "    print(\"batmanı sectiniz\")\n",
    "else :\n",
    "    print(\"bu kimmm\")    "
   ]
  },
  {
   "cell_type": "code",
   "execution_count": 42,
   "id": "e99612cb-330f-4e02-afb0-9261233990f9",
   "metadata": {},
   "outputs": [],
   "source": [
    "a=10\n",
    "b=20\n",
    "c=30"
   ]
  },
  {
   "cell_type": "code",
   "execution_count": 43,
   "id": "785e6381-4920-4cfd-a24d-86eb8eb48e56",
   "metadata": {},
   "outputs": [
    {
     "name": "stdout",
     "output_type": "stream",
     "text": [
      "en büyük c\n"
     ]
    }
   ],
   "source": [
    "if a<b and b<c:\n",
    "     print(\"en büyük c\")"
   ]
  },
  {
   "cell_type": "code",
   "execution_count": 2,
   "id": "e27e17be-75c5-4bdf-b8df-6793f00fad14",
   "metadata": {},
   "outputs": [],
   "source": [
    " karakterCanli=True"
   ]
  },
  {
   "cell_type": "code",
   "execution_count": 4,
   "id": "3dc5c07b-6ab0-436d-b659-70181657d2fa",
   "metadata": {},
   "outputs": [
    {
     "name": "stdout",
     "output_type": "stream",
     "text": [
      "yaşıyor\n"
     ]
    }
   ],
   "source": [
    "if karakterCanli==True:\n",
    "    print(\"yaşıyor\")\n",
    "else:\n",
    "    print(\"yaşamıor\")"
   ]
  },
  {
   "cell_type": "code",
   "execution_count": 15,
   "id": "a16ddae1-25ec-460d-93d7-2bf21d14cebf",
   "metadata": {},
   "outputs": [
    {
     "name": "stdout",
     "output_type": "stream",
     "text": [
      "var\n"
     ]
    }
   ],
   "source": [
    "benimString=\"nuray savasan\"\n",
    "if \"savasan\" in benimString:\n",
    "    print(\"var\")"
   ]
  },
  {
   "cell_type": "code",
   "execution_count": 17,
   "id": "6e4f24f3-4674-4986-b676-9f16d50d5c3d",
   "metadata": {},
   "outputs": [],
   "source": [
    "benimListem=[10,20,30,40]"
   ]
  },
  {
   "cell_type": "code",
   "execution_count": 19,
   "id": "e29e9ac2-2108-4de0-84b2-8ef7d712fcfe",
   "metadata": {},
   "outputs": [
    {
     "name": "stdout",
     "output_type": "stream",
     "text": [
      "evet var\n"
     ]
    }
   ],
   "source": [
    "if 10 in benimListem:\n",
    "    print(\"evet var\")"
   ]
  },
  {
   "cell_type": "code",
   "execution_count": 21,
   "id": "4fd0a0b4-cfbc-407a-b14f-43bf5bd2213c",
   "metadata": {},
   "outputs": [],
   "source": [
    "benimSozluk={\"muz\":100,\"elma\":200}"
   ]
  },
  {
   "cell_type": "code",
   "execution_count": 27,
   "id": "84c2664b-80ea-4813-9366-0841dcf8318b",
   "metadata": {},
   "outputs": [
    {
     "name": "stdout",
     "output_type": "stream",
     "text": [
      "varmıs\n"
     ]
    }
   ],
   "source": [
    "if \"muz\" in benimSozluk.keys():\n",
    "    print(\"varmıs\")"
   ]
  },
  {
   "cell_type": "code",
   "execution_count": 29,
   "id": "3fc63cff-1a72-493a-b294-d176ad0713a3",
   "metadata": {},
   "outputs": [
    {
     "name": "stdout",
     "output_type": "stream",
     "text": [
      "varmıs\n"
     ]
    }
   ],
   "source": [
    "if 200 in benimSozluk.values():\n",
    "    print(\"varmıs\")"
   ]
  },
  {
   "cell_type": "code",
   "execution_count": null,
   "id": "c1a6c9e4-4ee8-4da0-9801-12d9744deb30",
   "metadata": {},
   "outputs": [],
   "source": [
    " "
   ]
  }
 ],
 "metadata": {
  "kernelspec": {
   "display_name": "anaconda-panel-2023.05-py310",
   "language": "python",
   "name": "conda-env-anaconda-panel-2023.05-py310-py"
  },
  "language_info": {
   "codemirror_mode": {
    "name": "ipython",
    "version": 3
   },
   "file_extension": ".py",
   "mimetype": "text/x-python",
   "name": "python",
   "nbconvert_exporter": "python",
   "pygments_lexer": "ipython3",
   "version": "3.11.5"
  }
 },
 "nbformat": 4,
 "nbformat_minor": 5
}
