{
 "cells": [
  {
   "cell_type": "code",
   "execution_count": 25,
   "id": "032b50cc-a10e-4cde-b85d-01c8de9059d3",
   "metadata": {},
   "outputs": [],
   "source": [
    "benimListem=[5,1,2,3,4,15,70,80]"
   ]
  },
  {
   "cell_type": "code",
   "execution_count": 27,
   "id": "992803bf-16db-4c7b-944a-2573702acbf2",
   "metadata": {},
   "outputs": [
    {
     "name": "stdout",
     "output_type": "stream",
     "text": [
      "1.0\n",
      "0.2\n",
      "0.4\n",
      "0.6\n",
      "0.8\n",
      "3.0\n",
      "14.0\n",
      "16.0\n"
     ]
    }
   ],
   "source": [
    "for numara in benimListem:\n",
    "    print(numara/5)"
   ]
  },
  {
   "cell_type": "code",
   "execution_count": 29,
   "id": "d8936ce5-c14b-480a-83ba-be76a792b905",
   "metadata": {},
   "outputs": [
    {
     "name": "stdout",
     "output_type": "stream",
     "text": [
      "5\n",
      "1\n",
      "2\n",
      "3\n",
      "4\n"
     ]
    }
   ],
   "source": [
    "for numara in benimListem:\n",
    "    if numara ==15:\n",
    "        break\n",
    "    print(numara)    "
   ]
  },
  {
   "cell_type": "code",
   "execution_count": 31,
   "id": "0b00f568-ed58-4262-8de2-0b9d0a94cd72",
   "metadata": {},
   "outputs": [
    {
     "name": "stdout",
     "output_type": "stream",
     "text": [
      "5\n",
      "1\n",
      "2\n",
      "3\n",
      "4\n",
      "70\n",
      "80\n"
     ]
    }
   ],
   "source": [
    "for numara in benimListem:\n",
    "    if numara==15:\n",
    "        continue\n",
    "    print(numara)    "
   ]
  },
  {
   "cell_type": "code",
   "execution_count": 33,
   "id": "907bc13f-cb83-4542-82c1-2b04460ee099",
   "metadata": {},
   "outputs": [],
   "source": [
    "for numara in benimListem:\n",
    "    pass"
   ]
  },
  {
   "cell_type": "code",
   "execution_count": 35,
   "id": "bf710e74-3843-4465-96e4-96d0886a32fa",
   "metadata": {},
   "outputs": [],
   "source": [
    "x=0"
   ]
  },
  {
   "cell_type": "code",
   "execution_count": 37,
   "id": "04b7dc06-5c1d-4574-8238-de185b7989e0",
   "metadata": {},
   "outputs": [
    {
     "name": "stdout",
     "output_type": "stream",
     "text": [
      "0\n",
      "1\n",
      "2\n",
      "3\n",
      "4\n",
      "5\n",
      "6\n",
      "7\n",
      "8\n",
      "9\n"
     ]
    }
   ],
   "source": [
    "while x<10:\n",
    "    print(x)\n",
    "    x=x+1"
   ]
  },
  {
   "cell_type": "code",
   "execution_count": 39,
   "id": "78aca8af-4c13-4f2e-b1b9-1834ef2aae55",
   "metadata": {},
   "outputs": [],
   "source": [
    "benimListem=[1,2,3,4,5]"
   ]
  },
  {
   "cell_type": "code",
   "execution_count": 43,
   "id": "48190ce2-288f-48f9-8639-897d73501260",
   "metadata": {},
   "outputs": [
    {
     "data": {
      "text/plain": [
       "[1, 2, 3, 4, 5]"
      ]
     },
     "execution_count": 43,
     "metadata": {},
     "output_type": "execute_result"
    }
   ],
   "source": [
    "benimListem"
   ]
  },
  {
   "cell_type": "code",
   "execution_count": 45,
   "id": "87254077-1586-45e2-8bd3-17c205e1587d",
   "metadata": {},
   "outputs": [
    {
     "data": {
      "text/plain": [
       "5"
      ]
     },
     "execution_count": 45,
     "metadata": {},
     "output_type": "execute_result"
    }
   ],
   "source": [
    "benimListem.pop()"
   ]
  },
  {
   "cell_type": "code",
   "execution_count": 47,
   "id": "9f23aa6e-e9cf-4d5f-9aad-9261abbcb2a0",
   "metadata": {},
   "outputs": [],
   "source": [
    "benimListem.append(5)"
   ]
  },
  {
   "cell_type": "code",
   "execution_count": 49,
   "id": "8cc1c299-1a17-4f01-bee7-0cb5c2e39ccc",
   "metadata": {},
   "outputs": [
    {
     "data": {
      "text/plain": [
       "[1, 2, 3, 4, 5]"
      ]
     },
     "execution_count": 49,
     "metadata": {},
     "output_type": "execute_result"
    }
   ],
   "source": [
    "benimListem"
   ]
  },
  {
   "cell_type": "code",
   "execution_count": 51,
   "id": "2c1b8ba5-c717-4d44-9da9-02bbbb53dfc2",
   "metadata": {},
   "outputs": [
    {
     "name": "stdout",
     "output_type": "stream",
     "text": [
      "3 hala burada\n",
      "3 hala burada\n",
      "3 hala burada\n"
     ]
    }
   ],
   "source": [
    "while 3 in benimListem:\n",
    "    print(\"3 hala burada\")\n",
    "    benimListem.pop()"
   ]
  },
  {
   "cell_type": "code",
   "execution_count": 53,
   "id": "f8df9177-ddcc-4d68-8766-6ba44cff6f12",
   "metadata": {},
   "outputs": [],
   "source": [
    "numara=0"
   ]
  },
  {
   "cell_type": "code",
   "execution_count": null,
   "id": "38fc40a9-5dab-443d-8ba6-6c82e0d19410",
   "metadata": {},
   "outputs": [],
   "source": [
    "while numara<5:\n",
    "    if numara==4:\n",
    "        break\n",
    "    print(numara) \n",
    "    numara=numara+1"
   ]
  },
  {
   "cell_type": "code",
   "execution_count": null,
   "id": "75f4c3d8-b7ab-4568-8551-d8d75f1101bd",
   "metadata": {},
   "outputs": [],
   "source": [
    "yeniDegisken=0\n",
    "while yeniDegisken < 15:\n",
    "    print(f\"yeni degisşkenin guncel degeri:{{{yeniDegisken}\")\n",
    "    yeniDegisken=yeniDegisken+1"
   ]
  },
  {
   "cell_type": "code",
   "execution_count": null,
   "id": "0edb2abd-707c-4f0a-82d8-e16c325b8a5e",
   "metadata": {},
   "outputs": [],
   "source": []
  }
 ],
 "metadata": {
  "kernelspec": {
   "display_name": "anaconda-panel-2023.05-py310",
   "language": "python",
   "name": "conda-env-anaconda-panel-2023.05-py310-py"
  },
  "language_info": {
   "codemirror_mode": {
    "name": "ipython",
    "version": 3
   },
   "file_extension": ".py",
   "mimetype": "text/x-python",
   "name": "python",
   "nbconvert_exporter": "python",
   "pygments_lexer": "ipython3",
   "version": "3.11.5"
  }
 },
 "nbformat": 4,
 "nbformat_minor": 5
}
