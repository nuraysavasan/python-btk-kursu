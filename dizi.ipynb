{
 "cells": [
  {
   "cell_type": "code",
   "execution_count": 1,
   "id": "3f8161e8-f890-4b86-b813-5d0962f81218",
   "metadata": {},
   "outputs": [],
   "source": [
    "benimString=\"Nuray Savaşan\""
   ]
  },
  {
   "cell_type": "code",
   "execution_count": 3,
   "id": "50015e20-416e-47a7-8b02-f0293d2a96ab",
   "metadata": {},
   "outputs": [
    {
     "data": {
      "text/plain": [
       "'N'"
      ]
     },
     "execution_count": 3,
     "metadata": {},
     "output_type": "execute_result"
    }
   ],
   "source": [
    "benimString[0]"
   ]
  },
  {
   "cell_type": "code",
   "execution_count": 5,
   "id": "4df991d6-b2e4-4a2d-b094-badd17d3fd42",
   "metadata": {},
   "outputs": [],
   "source": [
    "#benimString[0]=\"B\""
   ]
  },
  {
   "cell_type": "code",
   "execution_count": 7,
   "id": "cab622db-f5c7-4d42-bfa3-2ddb0968d33c",
   "metadata": {},
   "outputs": [],
   "source": [
    "benimListem=[10,20,30,40]"
   ]
  },
  {
   "cell_type": "code",
   "execution_count": 9,
   "id": "dcfa6e9b-ef2c-471f-8b21-3195e4ea2797",
   "metadata": {},
   "outputs": [
    {
     "data": {
      "text/plain": [
       "list"
      ]
     },
     "execution_count": 9,
     "metadata": {},
     "output_type": "execute_result"
    }
   ],
   "source": [
    "type(benimListem)"
   ]
  },
  {
   "cell_type": "code",
   "execution_count": 13,
   "id": "ca0b6a35-9188-45f6-af1d-8613476a7136",
   "metadata": {},
   "outputs": [],
   "source": [
    "benimNumaram=10\n",
    "benimDigerNumaram=20"
   ]
  },
  {
   "cell_type": "code",
   "execution_count": 15,
   "id": "74dd4fe6-ca49-4425-aefe-d5f3b360e240",
   "metadata": {},
   "outputs": [],
   "source": [
    "benimNumaraListem=[benimNumaram,benimDigerNumaram]"
   ]
  },
  {
   "cell_type": "code",
   "execution_count": 17,
   "id": "3f77dbbb-5759-4b4e-a940-54fbcebc227d",
   "metadata": {},
   "outputs": [
    {
     "data": {
      "text/plain": [
       "10"
      ]
     },
     "execution_count": 17,
     "metadata": {},
     "output_type": "execute_result"
    }
   ],
   "source": [
    "benimListem[0]"
   ]
  },
  {
   "cell_type": "code",
   "execution_count": 19,
   "id": "32ed961e-6548-43fa-b678-5b5a7de0d74a",
   "metadata": {},
   "outputs": [
    {
     "data": {
      "text/plain": [
       "10"
      ]
     },
     "execution_count": 19,
     "metadata": {},
     "output_type": "execute_result"
    }
   ],
   "source": [
    "benimNumaraListem[0]"
   ]
  },
  {
   "cell_type": "code",
   "execution_count": 21,
   "id": "d9bff851-0b30-4c27-81cd-39fb2874390a",
   "metadata": {},
   "outputs": [
    {
     "data": {
      "text/plain": [
       "[10, 20, 30, 40]"
      ]
     },
     "execution_count": 21,
     "metadata": {},
     "output_type": "execute_result"
    }
   ],
   "source": [
    "benimListem"
   ]
  },
  {
   "cell_type": "code",
   "execution_count": 23,
   "id": "483b2d69-d9f1-4dcb-8578-5a6076cdd619",
   "metadata": {},
   "outputs": [],
   "source": [
    "benimListem[0]=100"
   ]
  },
  {
   "cell_type": "code",
   "execution_count": 25,
   "id": "fcaba509-306e-4b57-9f30-60cbff3f8c0b",
   "metadata": {},
   "outputs": [
    {
     "data": {
      "text/plain": [
       "[100, 20, 30, 40]"
      ]
     },
     "execution_count": 25,
     "metadata": {},
     "output_type": "execute_result"
    }
   ],
   "source": [
    "benimListem"
   ]
  },
  {
   "cell_type": "code",
   "execution_count": 27,
   "id": "8cabc671-7329-4520-9eb0-b808d14a54ba",
   "metadata": {},
   "outputs": [],
   "source": [
    "benimListem.append(50)"
   ]
  },
  {
   "cell_type": "code",
   "execution_count": 28,
   "id": "69485ab6-6e2f-4aeb-a687-ca304a885c33",
   "metadata": {},
   "outputs": [
    {
     "data": {
      "text/plain": [
       "[100, 20, 30, 40, 50]"
      ]
     },
     "execution_count": 28,
     "metadata": {},
     "output_type": "execute_result"
    }
   ],
   "source": [
    "benimListem"
   ]
  },
  {
   "cell_type": "code",
   "execution_count": 31,
   "id": "e6b1b033-e4bd-4d02-ae27-019d294c291b",
   "metadata": {},
   "outputs": [
    {
     "data": {
      "text/plain": [
       "50"
      ]
     },
     "execution_count": 31,
     "metadata": {},
     "output_type": "execute_result"
    }
   ],
   "source": [
    "benimListem.pop()"
   ]
  },
  {
   "cell_type": "code",
   "execution_count": 32,
   "id": "b8c57424-e319-45e5-8284-c5b93628ec06",
   "metadata": {},
   "outputs": [
    {
     "data": {
      "text/plain": [
       "[100, 20, 30, 40]"
      ]
     },
     "execution_count": 32,
     "metadata": {},
     "output_type": "execute_result"
    }
   ],
   "source": [
    "benimListem"
   ]
  },
  {
   "cell_type": "code",
   "execution_count": 35,
   "id": "77810286-6150-4472-926d-034846e2cfb2",
   "metadata": {},
   "outputs": [],
   "source": [
    "benimListem.remove(40)"
   ]
  },
  {
   "cell_type": "code",
   "execution_count": 37,
   "id": "10ffbf6f-59d0-4ffe-aecf-d590aea03299",
   "metadata": {},
   "outputs": [
    {
     "data": {
      "text/plain": [
       "[100, 20, 30]"
      ]
     },
     "execution_count": 37,
     "metadata": {},
     "output_type": "execute_result"
    }
   ],
   "source": [
    "benimListem"
   ]
  },
  {
   "cell_type": "code",
   "execution_count": 41,
   "id": "6cc240ac-6f86-4454-81b1-fca483bbc0a2",
   "metadata": {},
   "outputs": [
    {
     "data": {
      "text/plain": [
       "1"
      ]
     },
     "execution_count": 41,
     "metadata": {},
     "output_type": "execute_result"
    }
   ],
   "source": [
    "benimListem.count(100)"
   ]
  },
  {
   "cell_type": "code",
   "execution_count": 43,
   "id": "afd365c6-32d3-4038-92bf-f869df63fc93",
   "metadata": {},
   "outputs": [],
   "source": [
    "benimStringListem=[\"nuray\",\"sa\"]"
   ]
  },
  {
   "cell_type": "code",
   "execution_count": 45,
   "id": "8b45ad7c-a026-41a3-9210-380f7bc4252d",
   "metadata": {},
   "outputs": [
    {
     "data": {
      "text/plain": [
       "'sa'"
      ]
     },
     "execution_count": 45,
     "metadata": {},
     "output_type": "execute_result"
    }
   ],
   "source": [
    "benimStringListem[1]"
   ]
  },
  {
   "cell_type": "code",
   "execution_count": 47,
   "id": "9e500f62-9948-4872-894b-dfd68e9bef61",
   "metadata": {},
   "outputs": [],
   "source": [
    "benimDigerListem=[\"n\",\"xx\"]"
   ]
  },
  {
   "cell_type": "code",
   "execution_count": 49,
   "id": "5c952330-0e97-4c49-ad59-a0665358ce24",
   "metadata": {},
   "outputs": [],
   "source": [
    "benimToplamaListem=benimStringListem + benimDigerListem"
   ]
  },
  {
   "cell_type": "code",
   "execution_count": 51,
   "id": "383fdcbd-c2a5-4f25-ae64-31ae1f7252f8",
   "metadata": {},
   "outputs": [
    {
     "data": {
      "text/plain": [
       "['nuray', 'sa', 'n', 'xx']"
      ]
     },
     "execution_count": 51,
     "metadata": {},
     "output_type": "execute_result"
    }
   ],
   "source": [
    "benimToplamaListem"
   ]
  },
  {
   "cell_type": "code",
   "execution_count": 53,
   "id": "73fc1496-36f4-4a90-a50b-420e33b230ea",
   "metadata": {},
   "outputs": [
    {
     "data": {
      "text/plain": [
       "['nuray', 'sa', 'nuray', 'sa', 'nuray', 'sa', 'nuray', 'sa', 'nuray', 'sa']"
      ]
     },
     "execution_count": 53,
     "metadata": {},
     "output_type": "execute_result"
    }
   ],
   "source": [
    "benimStringListem * 5"
   ]
  },
  {
   "cell_type": "code",
   "execution_count": 55,
   "id": "ff96f489-393d-4dc7-a4c8-e196f51c102a",
   "metadata": {},
   "outputs": [],
   "source": [
    "benimToplamaListem.reverse()"
   ]
  },
  {
   "cell_type": "code",
   "execution_count": 57,
   "id": "73597734-9cba-4168-89ed-80c5c06f6e8d",
   "metadata": {},
   "outputs": [
    {
     "data": {
      "text/plain": [
       "['xx', 'n', 'sa', 'nuray']"
      ]
     },
     "execution_count": 57,
     "metadata": {},
     "output_type": "execute_result"
    }
   ],
   "source": [
    "benimToplamaListem"
   ]
  },
  {
   "cell_type": "code",
   "execution_count": 1,
   "id": "f6dd8703-be93-4209-9e47-32ed76fed9b9",
   "metadata": {},
   "outputs": [],
   "source": [
    "karisikliste=[1,2,3,\"nuray\",9]"
   ]
  },
  {
   "cell_type": "code",
   "execution_count": 3,
   "id": "134693c2-c105-47ef-8abb-bfb6b74b84e2",
   "metadata": {},
   "outputs": [
    {
     "data": {
      "text/plain": [
       "list"
      ]
     },
     "execution_count": 3,
     "metadata": {},
     "output_type": "execute_result"
    }
   ],
   "source": [
    "type(karisikliste)"
   ]
  },
  {
   "cell_type": "code",
   "execution_count": 15,
   "id": "038c7d92-5c1d-4990-a475-12a8f50f1bb2",
   "metadata": {},
   "outputs": [
    {
     "data": {
      "text/plain": [
       "'nuray'"
      ]
     },
     "execution_count": 15,
     "metadata": {},
     "output_type": "execute_result"
    }
   ],
   "source": [
    "sonucum=karisikliste[3]\n",
    "karisikliste[3]"
   ]
  },
  {
   "cell_type": "code",
   "execution_count": 17,
   "id": "9b9358a7-409b-44c5-af23-0cf557eee092",
   "metadata": {},
   "outputs": [
    {
     "data": {
      "text/plain": [
       "str"
      ]
     },
     "execution_count": 17,
     "metadata": {},
     "output_type": "execute_result"
    }
   ],
   "source": [
    "type(sonucum)"
   ]
  },
  {
   "cell_type": "code",
   "execution_count": 19,
   "id": "6fcd50c0-cdae-4624-a60e-0a0a4251983c",
   "metadata": {},
   "outputs": [],
   "source": [
    "nestedList=[1,5,\"nuray\",4,[6,\"z\"]]"
   ]
  },
  {
   "cell_type": "code",
   "execution_count": 23,
   "id": "dbd2094b-b123-483d-a989-e7f0e3ba9b79",
   "metadata": {},
   "outputs": [
    {
     "data": {
      "text/plain": [
       "[6, 'z']"
      ]
     },
     "execution_count": 23,
     "metadata": {},
     "output_type": "execute_result"
    }
   ],
   "source": [
    "nestedList[4]"
   ]
  },
  {
   "cell_type": "code",
   "execution_count": 27,
   "id": "c7d9e3d6-11cf-44fb-89c8-a4ab4768a638",
   "metadata": {},
   "outputs": [
    {
     "data": {
      "text/plain": [
       "list"
      ]
     },
     "execution_count": 27,
     "metadata": {},
     "output_type": "execute_result"
    }
   ],
   "source": [
    "type(nestedList[4])"
   ]
  },
  {
   "cell_type": "code",
   "execution_count": 29,
   "id": "f7cfefa8-6ce1-47c2-9a10-fd28b70230ba",
   "metadata": {},
   "outputs": [],
   "source": [
    "zDegiskeni=nestedList[4][1]"
   ]
  },
  {
   "cell_type": "code",
   "execution_count": 31,
   "id": "48350f32-0477-45fb-b8fb-6088823e0763",
   "metadata": {},
   "outputs": [
    {
     "data": {
      "text/plain": [
       "'z'"
      ]
     },
     "execution_count": 31,
     "metadata": {},
     "output_type": "execute_result"
    }
   ],
   "source": [
    "zDegiskeni"
   ]
  },
  {
   "cell_type": "code",
   "execution_count": 33,
   "id": "d9b6102d-71fa-462d-bcd3-3c05a5d1c4c1",
   "metadata": {},
   "outputs": [],
   "source": [
    "karmasikListe=[[1,2,3,[\"a\",\"b\"],50],40,20,[\"z\",5.5],[3,[\"a\"]]]"
   ]
  },
  {
   "cell_type": "code",
   "execution_count": 35,
   "id": "c3e51efa-6a51-4f40-9091-5511d807933a",
   "metadata": {},
   "outputs": [
    {
     "data": {
      "text/plain": [
       "'b'"
      ]
     },
     "execution_count": 35,
     "metadata": {},
     "output_type": "execute_result"
    }
   ],
   "source": [
    "bDegiskeni=karmasikListe[0][3][1]\n",
    "bDegiskeni"
   ]
  },
  {
   "cell_type": "code",
   "execution_count": 37,
   "id": "807f0d6a-f489-4766-9b8a-d82807a45c38",
   "metadata": {},
   "outputs": [
    {
     "data": {
      "text/plain": [
       "[1, 5, 'nuray', 4, [6, 'z']]"
      ]
     },
     "execution_count": 37,
     "metadata": {},
     "output_type": "execute_result"
    }
   ],
   "source": [
    "nestedList"
   ]
  },
  {
   "cell_type": "code",
   "execution_count": 41,
   "id": "4b485571-954c-4ecc-a829-3de910f1f2b5",
   "metadata": {},
   "outputs": [
    {
     "data": {
      "text/plain": [
       "['nuray', 4, [6, 'z']]"
      ]
     },
     "execution_count": 41,
     "metadata": {},
     "output_type": "execute_result"
    }
   ],
   "source": [
    "nestedList[2:]"
   ]
  },
  {
   "cell_type": "code",
   "execution_count": 43,
   "id": "e5b1b313-1a94-49e6-bf9b-c3e3ed0cd134",
   "metadata": {},
   "outputs": [
    {
     "data": {
      "text/plain": [
       "[1, 5]"
      ]
     },
     "execution_count": 43,
     "metadata": {},
     "output_type": "execute_result"
    }
   ],
   "source": [
    "nestedList[:2]"
   ]
  },
  {
   "cell_type": "code",
   "execution_count": null,
   "id": "96940326-fba8-47fa-9b17-586a4a2810a2",
   "metadata": {},
   "outputs": [],
   "source": []
  }
 ],
 "metadata": {
  "kernelspec": {
   "display_name": "anaconda-panel-2023.05-py310",
   "language": "python",
   "name": "conda-env-anaconda-panel-2023.05-py310-py"
  },
  "language_info": {
   "codemirror_mode": {
    "name": "ipython",
    "version": 3
   },
   "file_extension": ".py",
   "mimetype": "text/x-python",
   "name": "python",
   "nbconvert_exporter": "python",
   "pygments_lexer": "ipython3",
   "version": "3.11.5"
  }
 },
 "nbformat": 4,
 "nbformat_minor": 5
}
