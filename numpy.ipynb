{
 "cells": [
  {
   "cell_type": "code",
   "execution_count": 1,
   "id": "1f2e132c-7b01-46c1-a0e1-358462ea058b",
   "metadata": {},
   "outputs": [],
   "source": [
    "import numpy as np"
   ]
  },
  {
   "cell_type": "markdown",
   "id": "e2f5aa7e-f4f5-4f5c-bfa0-bd6a150ceeb8",
   "metadata": {},
   "source": [
    "#numpy array"
   ]
  },
  {
   "cell_type": "code",
   "execution_count": 6,
   "id": "e815a200-ff8a-4095-a651-ac415a9cdff2",
   "metadata": {},
   "outputs": [],
   "source": [
    "benimListem=[20,30,40]"
   ]
  },
  {
   "cell_type": "code",
   "execution_count": 8,
   "id": "2618fd54-fa0e-4c3b-a933-9c0776141e5a",
   "metadata": {},
   "outputs": [
    {
     "data": {
      "text/plain": [
       "list"
      ]
     },
     "execution_count": 8,
     "metadata": {},
     "output_type": "execute_result"
    }
   ],
   "source": [
    "type(benimListem)"
   ]
  },
  {
   "cell_type": "code",
   "execution_count": 12,
   "id": "3cd74563-ba40-4768-91db-0da79bc6a17d",
   "metadata": {},
   "outputs": [
    {
     "data": {
      "text/plain": [
       "array([20, 30, 40])"
      ]
     },
     "execution_count": 12,
     "metadata": {},
     "output_type": "execute_result"
    }
   ],
   "source": [
    "np.array(benimListem)"
   ]
  },
  {
   "cell_type": "code",
   "execution_count": 14,
   "id": "ce0fe421-925c-4f12-a9ac-cf99757d0fbd",
   "metadata": {},
   "outputs": [],
   "source": [
    "matrixListesi=[[10,2,3],[2,3,4]]"
   ]
  },
  {
   "cell_type": "code",
   "execution_count": 16,
   "id": "6945eb8a-28af-461e-9f94-75df1c98deec",
   "metadata": {},
   "outputs": [
    {
     "data": {
      "text/plain": [
       "2"
      ]
     },
     "execution_count": 16,
     "metadata": {},
     "output_type": "execute_result"
    }
   ],
   "source": [
    "matrixListesi[1][0]"
   ]
  },
  {
   "cell_type": "code",
   "execution_count": 18,
   "id": "7ca79fd7-4f64-4cac-a5cd-63f6bcceaba1",
   "metadata": {},
   "outputs": [
    {
     "data": {
      "text/plain": [
       "array([[10,  2,  3],\n",
       "       [ 2,  3,  4]])"
      ]
     },
     "execution_count": 18,
     "metadata": {},
     "output_type": "execute_result"
    }
   ],
   "source": [
    "np.array(matrixListesi)"
   ]
  },
  {
   "cell_type": "markdown",
   "id": "181f2301-8221-410b-90cc-e17c21e49452",
   "metadata": {},
   "source": [
    "arange"
   ]
  },
  {
   "cell_type": "code",
   "execution_count": 21,
   "id": "4470005f-d3c0-4e3d-82c3-f53e91f6476f",
   "metadata": {},
   "outputs": [
    {
     "data": {
      "text/plain": [
       "[0, 1, 2, 3, 4, 5, 6, 7, 8, 9]"
      ]
     },
     "execution_count": 21,
     "metadata": {},
     "output_type": "execute_result"
    }
   ],
   "source": [
    "list(range(0,10))"
   ]
  },
  {
   "cell_type": "code",
   "execution_count": 26,
   "id": "c01acf26-854e-4770-b743-8b4ed3f96243",
   "metadata": {},
   "outputs": [
    {
     "data": {
      "text/plain": [
       "array([0, 1, 2, 3, 4, 5, 6, 7, 8, 9])"
      ]
     },
     "execution_count": 26,
     "metadata": {},
     "output_type": "execute_result"
    }
   ],
   "source": [
    "np.arange(0,10)"
   ]
  },
  {
   "cell_type": "code",
   "execution_count": 30,
   "id": "7a8cf900-062f-4845-8f19-9c8645441846",
   "metadata": {},
   "outputs": [
    {
     "data": {
      "text/plain": [
       "array([0, 2, 4, 6, 8])"
      ]
     },
     "execution_count": 30,
     "metadata": {},
     "output_type": "execute_result"
    }
   ],
   "source": [
    " np.arange(0,10,2)"
   ]
  },
  {
   "cell_type": "markdown",
   "id": "27b54324-b5ff-4be3-a728-437d1e5f4582",
   "metadata": {},
   "source": [
    "#zeros"
   ]
  },
  {
   "cell_type": "code",
   "execution_count": 33,
   "id": "d6a76371-ecff-47aa-b7e2-b96c99aefe41",
   "metadata": {},
   "outputs": [
    {
     "data": {
      "text/plain": [
       "array([0., 0., 0., 0., 0.])"
      ]
     },
     "execution_count": 33,
     "metadata": {},
     "output_type": "execute_result"
    }
   ],
   "source": [
    "np.zeros(5)"
   ]
  },
  {
   "cell_type": "code",
   "execution_count": 35,
   "id": "abdf9c30-ca31-47bf-8a12-698fcf3f5828",
   "metadata": {},
   "outputs": [
    {
     "data": {
      "text/plain": [
       "array([[0., 0.],\n",
       "       [0., 0.]])"
      ]
     },
     "execution_count": 35,
     "metadata": {},
     "output_type": "execute_result"
    }
   ],
   "source": [
    "np.zeros((2,2))"
   ]
  },
  {
   "cell_type": "code",
   "execution_count": 37,
   "id": "93effe4e-d196-4856-85e4-7b25a560419a",
   "metadata": {},
   "outputs": [
    {
     "data": {
      "text/plain": [
       "array([1., 1., 1., 1., 1.])"
      ]
     },
     "execution_count": 37,
     "metadata": {},
     "output_type": "execute_result"
    }
   ],
   "source": [
    "np.ones(5)"
   ]
  },
  {
   "cell_type": "code",
   "execution_count": 39,
   "id": "53823d86-abf4-476d-9bf4-74224c3dd45b",
   "metadata": {},
   "outputs": [
    {
     "data": {
      "text/plain": [
       "array([[1., 1., 1., 1., 1., 1., 1., 1., 1.],\n",
       "       [1., 1., 1., 1., 1., 1., 1., 1., 1.],\n",
       "       [1., 1., 1., 1., 1., 1., 1., 1., 1.],\n",
       "       [1., 1., 1., 1., 1., 1., 1., 1., 1.],\n",
       "       [1., 1., 1., 1., 1., 1., 1., 1., 1.],\n",
       "       [1., 1., 1., 1., 1., 1., 1., 1., 1.],\n",
       "       [1., 1., 1., 1., 1., 1., 1., 1., 1.],\n",
       "       [1., 1., 1., 1., 1., 1., 1., 1., 1.],\n",
       "       [1., 1., 1., 1., 1., 1., 1., 1., 1.]])"
      ]
     },
     "execution_count": 39,
     "metadata": {},
     "output_type": "execute_result"
    }
   ],
   "source": [
    "np.ones((9,9))"
   ]
  },
  {
   "cell_type": "markdown",
   "id": "0c508e16-1615-4c38-a5a5-39269ce3dc8e",
   "metadata": {},
   "source": [
    "##linspace"
   ]
  },
  {
   "cell_type": "code",
   "execution_count": 48,
   "id": "1aef86c7-30e9-4b29-a823-e38bf9b11e98",
   "metadata": {},
   "outputs": [
    {
     "data": {
      "text/plain": [
       "array([ 0., 10., 20.])"
      ]
     },
     "execution_count": 48,
     "metadata": {},
     "output_type": "execute_result"
    }
   ],
   "source": [
    "np.linspace(0,20,3)"
   ]
  },
  {
   "cell_type": "markdown",
   "id": "52e6a545-3dea-4085-a519-68eb7680a866",
   "metadata": {},
   "source": [
    "eye"
   ]
  },
  {
   "cell_type": "code",
   "execution_count": 55,
   "id": "09971cfa-9750-487c-8e25-de0b0ee456a2",
   "metadata": {},
   "outputs": [
    {
     "data": {
      "text/plain": [
       "array([[1., 0., 0., 0.],\n",
       "       [0., 1., 0., 0.],\n",
       "       [0., 0., 1., 0.],\n",
       "       [0., 0., 0., 1.]])"
      ]
     },
     "execution_count": 55,
     "metadata": {},
     "output_type": "execute_result"
    }
   ],
   "source": [
    "np.eye(4)"
   ]
  },
  {
   "cell_type": "markdown",
   "id": "5b496ff2-1cd2-45cc-b37c-7699d255e89f",
   "metadata": {},
   "source": [
    "RANDOM"
   ]
  },
  {
   "cell_type": "code",
   "execution_count": 60,
   "id": "66fadb7a-57c4-45e4-b445-59a3353a4462",
   "metadata": {},
   "outputs": [
    {
     "data": {
      "text/plain": [
       "array([-0.86667987, -0.10435161,  0.15670332,  0.36845287])"
      ]
     },
     "execution_count": 60,
     "metadata": {},
     "output_type": "execute_result"
    }
   ],
   "source": [
    "np.random.randn(4)"
   ]
  },
  {
   "cell_type": "code",
   "execution_count": 62,
   "id": "d7ed2ff9-9033-4e11-88b6-ca07bde30bc3",
   "metadata": {},
   "outputs": [
    {
     "data": {
      "text/plain": [
       "array([[ 1.34764579, -0.92828853, -0.83928023, -1.8237353 ],\n",
       "       [ 2.96110039,  0.28593702,  1.06117126,  1.57082737],\n",
       "       [ 1.32696127, -0.4089317 , -2.21803619,  0.19402043],\n",
       "       [ 0.81817792,  0.17533591,  0.82553469, -0.07416125]])"
      ]
     },
     "execution_count": 62,
     "metadata": {},
     "output_type": "execute_result"
    }
   ],
   "source": [
    "np.random.randn(4,4)"
   ]
  },
  {
   "cell_type": "code",
   "execution_count": 64,
   "id": "7fe916cf-8c0a-4ffe-98ab-7fa46a502170",
   "metadata": {},
   "outputs": [
    {
     "data": {
      "text/plain": [
       "5"
      ]
     },
     "execution_count": 64,
     "metadata": {},
     "output_type": "execute_result"
    }
   ],
   "source": [
    "np.random.randint(1,10)"
   ]
  },
  {
   "cell_type": "code",
   "execution_count": 66,
   "id": "03863ac3-1c88-4956-9f95-3565b5be2faf",
   "metadata": {},
   "outputs": [
    {
     "data": {
      "text/plain": [
       "array([2, 6, 6, 7, 1])"
      ]
     },
     "execution_count": 66,
     "metadata": {},
     "output_type": "execute_result"
    }
   ],
   "source": [
    "np.random.randint(1,10,5)"
   ]
  },
  {
   "cell_type": "code",
   "execution_count": 68,
   "id": "fb72b060-c354-48a8-a9e4-54b6d7113d89",
   "metadata": {},
   "outputs": [],
   "source": [
    "benimNumpyDizim=np.arange(30)"
   ]
  },
  {
   "cell_type": "code",
   "execution_count": 70,
   "id": "090497d3-6c9d-4d48-a922-bd446fa6e959",
   "metadata": {},
   "outputs": [
    {
     "data": {
      "text/plain": [
       "array([ 0,  1,  2,  3,  4,  5,  6,  7,  8,  9, 10, 11, 12, 13, 14, 15, 16,\n",
       "       17, 18, 19, 20, 21, 22, 23, 24, 25, 26, 27, 28, 29])"
      ]
     },
     "execution_count": 70,
     "metadata": {},
     "output_type": "execute_result"
    }
   ],
   "source": [
    "benimNumpyDizim"
   ]
  },
  {
   "cell_type": "code",
   "execution_count": 72,
   "id": "d286e922-7229-4a73-b24d-fb2c78a87225",
   "metadata": {},
   "outputs": [
    {
     "data": {
      "text/plain": [
       "array([66, 17, 56, 83, 55, 35, 97,  2, 10, 93, 55, 27, 43, 95,  3, 33, 28,\n",
       "       45, 35,  4, 53, 63, 87, 35, 86, 44, 74, 52, 58, 53])"
      ]
     },
     "execution_count": 72,
     "metadata": {},
     "output_type": "execute_result"
    }
   ],
   "source": [
    "benimRandomDizim=np.random.randint(0,100,30)\n",
    "benimRandomDizim"
   ]
  },
  {
   "cell_type": "markdown",
   "id": "df6bcaea-ca04-42cb-9705-7937bc7e3803",
   "metadata": {},
   "source": [
    "NUMPY DİZİ METHODLARI"
   ]
  },
  {
   "cell_type": "code",
   "execution_count": 77,
   "id": "514d988e-6ab4-4849-9076-06e3d4a46c8f",
   "metadata": {},
   "outputs": [
    {
     "data": {
      "text/plain": [
       "array([[ 0,  1,  2,  3,  4,  5],\n",
       "       [ 6,  7,  8,  9, 10, 11],\n",
       "       [12, 13, 14, 15, 16, 17],\n",
       "       [18, 19, 20, 21, 22, 23],\n",
       "       [24, 25, 26, 27, 28, 29]])"
      ]
     },
     "execution_count": 77,
     "metadata": {},
     "output_type": "execute_result"
    }
   ],
   "source": [
    "benimNumpyDizim.reshape(5,6)"
   ]
  },
  {
   "cell_type": "code",
   "execution_count": 79,
   "id": "9aca5ae8-61f1-4c45-94cb-f390472d6c03",
   "metadata": {},
   "outputs": [
    {
     "data": {
      "text/plain": [
       "29"
      ]
     },
     "execution_count": 79,
     "metadata": {},
     "output_type": "execute_result"
    }
   ],
   "source": [
    "benimNumpyDizim.max()"
   ]
  },
  {
   "cell_type": "code",
   "execution_count": 81,
   "id": "c156167f-a06a-447e-8506-548324651db9",
   "metadata": {},
   "outputs": [
    {
     "data": {
      "text/plain": [
       "97"
      ]
     },
     "execution_count": 81,
     "metadata": {},
     "output_type": "execute_result"
    }
   ],
   "source": [
    "benimRandomDizim.max()"
   ]
  },
  {
   "cell_type": "code",
   "execution_count": 83,
   "id": "462bdd0c-88d4-4157-b757-4f3834defce9",
   "metadata": {},
   "outputs": [
    {
     "data": {
      "text/plain": [
       "6"
      ]
     },
     "execution_count": 83,
     "metadata": {},
     "output_type": "execute_result"
    }
   ],
   "source": [
    "benimRandomDizim.argmax()"
   ]
  },
  {
   "cell_type": "code",
   "execution_count": 85,
   "id": "d57c8004-b1d0-46d1-b11d-eb5e9dda18e9",
   "metadata": {},
   "outputs": [
    {
     "data": {
      "text/plain": [
       "7"
      ]
     },
     "execution_count": 85,
     "metadata": {},
     "output_type": "execute_result"
    }
   ],
   "source": [
    "benimRandomDizim.argmin()"
   ]
  },
  {
   "cell_type": "code",
   "execution_count": 89,
   "id": "55ba1a6b-8765-43ca-9dcd-50e31bcfcf8f",
   "metadata": {},
   "outputs": [],
   "source": [
    "reshapeDizim=benimNumpyDizim.reshape(5,6)"
   ]
  },
  {
   "cell_type": "code",
   "execution_count": 93,
   "id": "ed139ff3-00a4-4995-a769-255a5203b3ab",
   "metadata": {},
   "outputs": [
    {
     "data": {
      "text/plain": [
       "(5, 6)"
      ]
     },
     "execution_count": 93,
     "metadata": {},
     "output_type": "execute_result"
    }
   ],
   "source": [
    "reshapeDizim.shape"
   ]
  },
  {
   "cell_type": "code",
   "execution_count": 99,
   "id": "c4c81b61-fbe4-4a12-a25d-4c949b8a8620",
   "metadata": {},
   "outputs": [],
   "source": [
    "benimDizim=np.arange(0,15)"
   ]
  },
  {
   "cell_type": "code",
   "execution_count": 101,
   "id": "30f097a8-2ff1-471d-8787-fc4132383187",
   "metadata": {},
   "outputs": [
    {
     "data": {
      "text/plain": [
       "array([ 0,  1,  2,  3,  4,  5,  6,  7,  8,  9, 10, 11, 12, 13, 14])"
      ]
     },
     "execution_count": 101,
     "metadata": {},
     "output_type": "execute_result"
    }
   ],
   "source": [
    "benimDizim"
   ]
  },
  {
   "cell_type": "code",
   "execution_count": 103,
   "id": "3fafd34d-7f54-4964-a754-befa87b4b5d4",
   "metadata": {},
   "outputs": [
    {
     "data": {
      "text/plain": [
       "5"
      ]
     },
     "execution_count": 103,
     "metadata": {},
     "output_type": "execute_result"
    }
   ],
   "source": [
    "benimDizim[5]"
   ]
  },
  {
   "cell_type": "code",
   "execution_count": 107,
   "id": "e600de0a-269a-4e1e-bd3d-79c0a9dbbfb4",
   "metadata": {},
   "outputs": [
    {
     "data": {
      "text/plain": [
       "array([3, 4])"
      ]
     },
     "execution_count": 107,
     "metadata": {},
     "output_type": "execute_result"
    }
   ],
   "source": [
    "benimDizim[3:5]"
   ]
  },
  {
   "cell_type": "code",
   "execution_count": 109,
   "id": "6b542553-77b2-48ad-b20b-af07ca4eb5ac",
   "metadata": {},
   "outputs": [],
   "source": [
    "benimDizim[3:8]=-5"
   ]
  },
  {
   "cell_type": "code",
   "execution_count": 111,
   "id": "5d9675ac-eda9-48bd-8fda-54d4a2b5504f",
   "metadata": {},
   "outputs": [
    {
     "data": {
      "text/plain": [
       "array([ 0,  1,  2, -5, -5, -5, -5, -5,  8,  9, 10, 11, 12, 13, 14])"
      ]
     },
     "execution_count": 111,
     "metadata": {},
     "output_type": "execute_result"
    }
   ],
   "source": [
    "benimDizim"
   ]
  },
  {
   "cell_type": "code",
   "execution_count": 113,
   "id": "bf397508-3bb6-469e-b873-2577b24fb774",
   "metadata": {},
   "outputs": [],
   "source": [
    "baskaDizi=np.arange(0,24)"
   ]
  },
  {
   "cell_type": "code",
   "execution_count": 138,
   "id": "52323946-dda7-4ea5-918d-311f24077261",
   "metadata": {},
   "outputs": [
    {
     "data": {
      "text/plain": [
       "array([ 0,  1,  2,  3,  4,  5,  6,  7,  8,  9, 10, 11, 12, 13, 14, 15, 16,\n",
       "       17, 18, 19, 20, 21, 22, 23])"
      ]
     },
     "execution_count": 138,
     "metadata": {},
     "output_type": "execute_result"
    }
   ],
   "source": [
    "baskaDizi"
   ]
  },
  {
   "cell_type": "code",
   "execution_count": 140,
   "id": "cb69c11b-ffac-48a6-93af-eaec407bd296",
   "metadata": {},
   "outputs": [],
   "source": [
    "slicingDizisi=baskaDizi[4:9]"
   ]
  },
  {
   "cell_type": "code",
   "execution_count": 142,
   "id": "0cc72c23-8356-40dd-9d5e-ec4c7fa21737",
   "metadata": {},
   "outputs": [
    {
     "data": {
      "text/plain": [
       "array([4, 5, 6, 7, 8])"
      ]
     },
     "execution_count": 142,
     "metadata": {},
     "output_type": "execute_result"
    }
   ],
   "source": [
    "slicingDizisi"
   ]
  },
  {
   "cell_type": "code",
   "execution_count": 143,
   "id": "3961007a-27af-4f5a-ba71-de2d3ba9216d",
   "metadata": {},
   "outputs": [],
   "source": [
    "slicingDizisi[:]=700"
   ]
  },
  {
   "cell_type": "code",
   "execution_count": 147,
   "id": "f81f0ebc-1a34-4ea4-951e-fdec522422c9",
   "metadata": {},
   "outputs": [
    {
     "data": {
      "text/plain": [
       "array([700, 700, 700, 700, 700])"
      ]
     },
     "execution_count": 147,
     "metadata": {},
     "output_type": "execute_result"
    }
   ],
   "source": [
    "slicingDizisi"
   ]
  },
  {
   "cell_type": "code",
   "execution_count": 149,
   "id": "75d41f5b-1beb-4fc6-8249-fc5ec0e6fd23",
   "metadata": {},
   "outputs": [
    {
     "data": {
      "text/plain": [
       "array([  0,   1,   2,   3, 700, 700, 700, 700, 700,   9,  10,  11,  12,\n",
       "        13,  14,  15,  16,  17,  18,  19,  20,  21,  22,  23])"
      ]
     },
     "execution_count": 149,
     "metadata": {},
     "output_type": "execute_result"
    }
   ],
   "source": [
    "baskaDizi"
   ]
  },
  {
   "cell_type": "code",
   "execution_count": 151,
   "id": "de47dc43-8d68-491f-8599-1d369510bd75",
   "metadata": {},
   "outputs": [],
   "source": [
    "ornekDizi=np.arange(0,24)"
   ]
  },
  {
   "cell_type": "code",
   "execution_count": 153,
   "id": "93b100a2-87f5-4ffe-ae4d-60c30d5bed77",
   "metadata": {},
   "outputs": [
    {
     "data": {
      "text/plain": [
       "array([ 0,  1,  2,  3,  4,  5,  6,  7,  8,  9, 10, 11, 12, 13, 14, 15, 16,\n",
       "       17, 18, 19, 20, 21, 22, 23])"
      ]
     },
     "execution_count": 153,
     "metadata": {},
     "output_type": "execute_result"
    }
   ],
   "source": [
    "ornekDizi"
   ]
  },
  {
   "cell_type": "code",
   "execution_count": 155,
   "id": "f176e143-a14b-4365-82dc-8c13b5a3fe54",
   "metadata": {},
   "outputs": [],
   "source": [
    "ornekDiziKopyasi=ornekDizi.copy()"
   ]
  },
  {
   "cell_type": "code",
   "execution_count": 157,
   "id": "f707207f-c57d-4388-885e-3db3a061b97e",
   "metadata": {},
   "outputs": [
    {
     "data": {
      "text/plain": [
       "array([ 0,  1,  2,  3,  4,  5,  6,  7,  8,  9, 10, 11, 12, 13, 14, 15, 16,\n",
       "       17, 18, 19, 20, 21, 22, 23])"
      ]
     },
     "execution_count": 157,
     "metadata": {},
     "output_type": "execute_result"
    }
   ],
   "source": [
    "ornekDiziKopyasi"
   ]
  },
  {
   "cell_type": "code",
   "execution_count": 159,
   "id": "8dfedfb1-c95d-4832-836b-4f61bf06e10f",
   "metadata": {},
   "outputs": [
    {
     "data": {
      "text/plain": [
       "array([ 0,  1,  2,  3,  4,  5,  6,  7,  8,  9, 10, 11, 12, 13, 14, 15, 16,\n",
       "       17, 18, 19, 20, 21, 22, 23])"
      ]
     },
     "execution_count": 159,
     "metadata": {},
     "output_type": "execute_result"
    }
   ],
   "source": [
    "ornekDizi"
   ]
  },
  {
   "cell_type": "code",
   "execution_count": 161,
   "id": "79f564e8-45db-45cc-a916-422d818a0402",
   "metadata": {},
   "outputs": [],
   "source": [
    "ornekDiziKopyasiSlicing=ornekDiziKopyasi[3:6]"
   ]
  },
  {
   "cell_type": "code",
   "execution_count": 165,
   "id": "f6fab5ee-75ad-4adc-a1f4-73587e2e754d",
   "metadata": {},
   "outputs": [],
   "source": [
    "ornekDiziKopyasiSlicing[:]=800"
   ]
  },
  {
   "cell_type": "code",
   "execution_count": 167,
   "id": "8e610d5c-51af-4aff-8b1e-8d1c984353cb",
   "metadata": {},
   "outputs": [
    {
     "data": {
      "text/plain": [
       "array([  0,   1,   2, 800, 800, 800,   6,   7,   8,   9,  10,  11,  12,\n",
       "        13,  14,  15,  16,  17,  18,  19,  20,  21,  22,  23])"
      ]
     },
     "execution_count": 167,
     "metadata": {},
     "output_type": "execute_result"
    }
   ],
   "source": [
    "ornekDiziKopyasi"
   ]
  },
  {
   "cell_type": "code",
   "execution_count": 169,
   "id": "6fc6dc40-f926-4ee0-9ab4-dad2c45dd2c8",
   "metadata": {},
   "outputs": [
    {
     "data": {
      "text/plain": [
       "array([ 0,  1,  2,  3,  4,  5,  6,  7,  8,  9, 10, 11, 12, 13, 14, 15, 16,\n",
       "       17, 18, 19, 20, 21, 22, 23])"
      ]
     },
     "execution_count": 169,
     "metadata": {},
     "output_type": "execute_result"
    }
   ],
   "source": [
    "ornekDizi"
   ]
  },
  {
   "cell_type": "markdown",
   "id": "4e3d9008-298e-4188-b472-cccbe3f52b8c",
   "metadata": {},
   "source": [
    "MATRİX"
   ]
  },
  {
   "cell_type": "code",
   "execution_count": 178,
   "id": "c807243f-7ce1-4ef0-860e-eed7d3b08977",
   "metadata": {},
   "outputs": [],
   "source": [
    "benimListem=[[10,20,30],[4,5,6]]"
   ]
  },
  {
   "cell_type": "code",
   "execution_count": 180,
   "id": "ac9d5b16-b2dd-4218-82bb-6caa76a9b86c",
   "metadata": {},
   "outputs": [],
   "source": [
    "benimMatrixDizim=np.array(benimListem)"
   ]
  },
  {
   "cell_type": "code",
   "execution_count": 182,
   "id": "4d65c60a-ca65-4f90-8200-6faad41e369e",
   "metadata": {},
   "outputs": [
    {
     "data": {
      "text/plain": [
       "array([[10, 20, 30],\n",
       "       [ 4,  5,  6]])"
      ]
     },
     "execution_count": 182,
     "metadata": {},
     "output_type": "execute_result"
    }
   ],
   "source": [
    "benimMatrixDizim"
   ]
  },
  {
   "cell_type": "code",
   "execution_count": 184,
   "id": "29e7d956-401d-45a9-8b54-f972978a12f1",
   "metadata": {},
   "outputs": [
    {
     "data": {
      "text/plain": [
       "array([10, 20, 30])"
      ]
     },
     "execution_count": 184,
     "metadata": {},
     "output_type": "execute_result"
    }
   ],
   "source": [
    "benimMatrixDizim[0]"
   ]
  },
  {
   "cell_type": "code",
   "execution_count": 186,
   "id": "ab055810-1a29-4ef5-8fc7-3a6d603f3bdc",
   "metadata": {},
   "outputs": [
    {
     "data": {
      "text/plain": [
       "6"
      ]
     },
     "execution_count": 186,
     "metadata": {},
     "output_type": "execute_result"
    }
   ],
   "source": [
    "benimMatrixDizim[1][2]"
   ]
  },
  {
   "cell_type": "code",
   "execution_count": 188,
   "id": "49dd4e9d-8330-40f6-9121-7f3238291b3e",
   "metadata": {},
   "outputs": [
    {
     "data": {
      "text/plain": [
       "6"
      ]
     },
     "execution_count": 188,
     "metadata": {},
     "output_type": "execute_result"
    }
   ],
   "source": [
    "benimMatrixDizim[1,2]"
   ]
  },
  {
   "cell_type": "code",
   "execution_count": 198,
   "id": "0bfd6587-f1b1-4d4d-b16e-4fb6d95dcfb6",
   "metadata": {},
   "outputs": [
    {
     "data": {
      "text/plain": [
       "array([[5, 6]])"
      ]
     },
     "execution_count": 198,
     "metadata": {},
     "output_type": "execute_result"
    }
   ],
   "source": [
    "benimMatrixDizim[1:,1:]"
   ]
  },
  {
   "cell_type": "code",
   "execution_count": 204,
   "id": "3fc99b54-187b-49bc-b064-4dfb15382190",
   "metadata": {},
   "outputs": [],
   "source": [
    "yeniListe=[[0,1,2,3],[3,4,5]]"
   ]
  },
  {
   "cell_type": "code",
   "execution_count": 210,
   "id": "ec292e60-d02a-4101-985a-f984fb6006ca",
   "metadata": {},
   "outputs": [
    {
     "ename": "ValueError",
     "evalue": "setting an array element with a sequence. The requested array has an inhomogeneous shape after 1 dimensions. The detected shape was (2,) + inhomogeneous part.",
     "output_type": "error",
     "traceback": [
      "\u001b[0;31m---------------------------------------------------------------------------\u001b[0m",
      "\u001b[0;31mValueError\u001b[0m                                Traceback (most recent call last)",
      "Cell \u001b[0;32mIn[210], line 1\u001b[0m\n\u001b[0;32m----> 1\u001b[0m yeniMatrix \u001b[38;5;241m=\u001b[39mnp\u001b[38;5;241m.\u001b[39marray(yeniListe)\n",
      "\u001b[0;31mValueError\u001b[0m: setting an array element with a sequence. The requested array has an inhomogeneous shape after 1 dimensions. The detected shape was (2,) + inhomogeneous part."
     ]
    }
   ],
   "source": [
    "yeniMatrix =np.array(yeniListe)"
   ]
  },
  {
   "cell_type": "code",
   "execution_count": 1,
   "id": "82c70a39-5ae7-4a20-99d2-b565bf8a5355",
   "metadata": {},
   "outputs": [],
   "source": [
    "#OPERASYONLAR"
   ]
  },
  {
   "cell_type": "code",
   "execution_count": 5,
   "id": "67c03aaa-926b-4bc4-b946-a8de373564be",
   "metadata": {},
   "outputs": [],
   "source": [
    "import numpy as np\n",
    "yenibirdizi=np.random.randint(1,100,20)"
   ]
  },
  {
   "cell_type": "code",
   "execution_count": 6,
   "id": "ec71c951-4cf8-475b-9977-77194fbff594",
   "metadata": {},
   "outputs": [
    {
     "data": {
      "text/plain": [
       "array([10, 82,  2, 23, 80, 43, 64, 73, 51, 59, 18,  8, 94, 77, 52, 84, 82,\n",
       "       55, 79, 58])"
      ]
     },
     "execution_count": 6,
     "metadata": {},
     "output_type": "execute_result"
    }
   ],
   "source": [
    "yenibirdizi"
   ]
  },
  {
   "cell_type": "code",
   "execution_count": 8,
   "id": "7a9b77d3-f8ed-497c-803b-a159a7bfdb7b",
   "metadata": {},
   "outputs": [],
   "source": [
    "sonucdizi=yenibirdizi>24"
   ]
  },
  {
   "cell_type": "code",
   "execution_count": 9,
   "id": "02537ee5-32ee-4d8f-9af7-185d49d72e58",
   "metadata": {},
   "outputs": [
    {
     "data": {
      "text/plain": [
       "array([False,  True, False, False,  True,  True,  True,  True,  True,\n",
       "        True, False, False,  True,  True,  True,  True,  True,  True,\n",
       "        True,  True])"
      ]
     },
     "execution_count": 9,
     "metadata": {},
     "output_type": "execute_result"
    }
   ],
   "source": [
    "sonucdizi"
   ]
  },
  {
   "cell_type": "code",
   "execution_count": 10,
   "id": "9c3dfb4a-cc86-40f4-b19b-5917374a6b56",
   "metadata": {},
   "outputs": [
    {
     "data": {
      "text/plain": [
       "array([82, 80, 43, 64, 73, 51, 59, 94, 77, 52, 84, 82, 55, 79, 58])"
      ]
     },
     "execution_count": 10,
     "metadata": {},
     "output_type": "execute_result"
    }
   ],
   "source": [
    "yenibirdizi[sonucdizi]"
   ]
  },
  {
   "cell_type": "code",
   "execution_count": 11,
   "id": "0d2e84cf-449a-45c0-9cdd-c19f1e3535c9",
   "metadata": {},
   "outputs": [
    {
     "data": {
      "text/plain": [
       "array([82, 80, 43, 64, 73, 51, 59, 94, 77, 52, 84, 82, 55, 79, 58])"
      ]
     },
     "execution_count": 11,
     "metadata": {},
     "output_type": "execute_result"
    }
   ],
   "source": [
    "yenibirdizi[yenibirdizi>24]"
   ]
  },
  {
   "cell_type": "code",
   "execution_count": 12,
   "id": "8ba1b50b-d613-495a-b4bd-22970475ea88",
   "metadata": {},
   "outputs": [],
   "source": [
    "sondizi=np.arange(0,24)"
   ]
  },
  {
   "cell_type": "code",
   "execution_count": 13,
   "id": "e2d5e1d3-5eb5-46e9-b40d-f1c3c56a97e6",
   "metadata": {},
   "outputs": [],
   "source": [
    "sondizi=np.arange(0,24)"
   ]
  },
  {
   "cell_type": "code",
   "execution_count": 14,
   "id": "ffeeeadd-f404-4c7b-9246-1ac3209f7644",
   "metadata": {},
   "outputs": [
    {
     "data": {
      "text/plain": [
       "array([ 0,  1,  2,  3,  4,  5,  6,  7,  8,  9, 10, 11, 12, 13, 14, 15, 16,\n",
       "       17, 18, 19, 20, 21, 22, 23])"
      ]
     },
     "execution_count": 14,
     "metadata": {},
     "output_type": "execute_result"
    }
   ],
   "source": [
    "sondizi"
   ]
  },
  {
   "cell_type": "code",
   "execution_count": 15,
   "id": "efcb2766-0e17-42e2-9141-2252c55b2f05",
   "metadata": {},
   "outputs": [
    {
     "data": {
      "text/plain": [
       "array([ 0,  2,  4,  6,  8, 10, 12, 14, 16, 18, 20, 22, 24, 26, 28, 30, 32,\n",
       "       34, 36, 38, 40, 42, 44, 46])"
      ]
     },
     "execution_count": 15,
     "metadata": {},
     "output_type": "execute_result"
    }
   ],
   "source": [
    "sondizi+sondizi"
   ]
  },
  {
   "cell_type": "code",
   "execution_count": 16,
   "id": "86189bb6-2f27-424f-ad59-bc20d2f258c2",
   "metadata": {},
   "outputs": [
    {
     "data": {
      "text/plain": [
       "array([  0,   1,   4,   9,  16,  25,  36,  49,  64,  81, 100, 121, 144,\n",
       "       169, 196, 225, 256, 289, 324, 361, 400, 441, 484, 529])"
      ]
     },
     "execution_count": 16,
     "metadata": {},
     "output_type": "execute_result"
    }
   ],
   "source": [
    "sondizi*sondizi"
   ]
  },
  {
   "cell_type": "code",
   "execution_count": 17,
   "id": "97cb9306-f9e0-4367-af63-8c6d84ddb3d5",
   "metadata": {},
   "outputs": [
    {
     "data": {
      "text/plain": [
       "array([0, 0, 0, 0, 0, 0, 0, 0, 0, 0, 0, 0, 0, 0, 0, 0, 0, 0, 0, 0, 0, 0,\n",
       "       0, 0])"
      ]
     },
     "execution_count": 17,
     "metadata": {},
     "output_type": "execute_result"
    }
   ],
   "source": [
    "sondizi-sondizi"
   ]
  },
  {
   "cell_type": "code",
   "execution_count": 18,
   "id": "86ed9a15-080f-43d7-86ce-d9c033b33a79",
   "metadata": {},
   "outputs": [
    {
     "data": {
      "text/plain": [
       "array([0.        , 1.        , 1.41421356, 1.73205081, 2.        ,\n",
       "       2.23606798, 2.44948974, 2.64575131, 2.82842712, 3.        ,\n",
       "       3.16227766, 3.31662479, 3.46410162, 3.60555128, 3.74165739,\n",
       "       3.87298335, 4.        , 4.12310563, 4.24264069, 4.35889894,\n",
       "       4.47213595, 4.58257569, 4.69041576, 4.79583152])"
      ]
     },
     "execution_count": 18,
     "metadata": {},
     "output_type": "execute_result"
    }
   ],
   "source": [
    "np.sqrt(sondizi)"
   ]
  },
  {
   "cell_type": "code",
   "execution_count": null,
   "id": "0362627b-e454-4e63-8d76-ede68b047b7e",
   "metadata": {},
   "outputs": [],
   "source": []
  }
 ],
 "metadata": {
  "kernelspec": {
   "display_name": "anaconda-panel-2023.05-py310",
   "language": "python",
   "name": "conda-env-anaconda-panel-2023.05-py310-py"
  },
  "language_info": {
   "codemirror_mode": {
    "name": "ipython",
    "version": 3
   },
   "file_extension": ".py",
   "mimetype": "text/x-python",
   "name": "python",
   "nbconvert_exporter": "python",
   "pygments_lexer": "ipython3",
   "version": "3.11.5"
  }
 },
 "nbformat": 4,
 "nbformat_minor": 5
}
