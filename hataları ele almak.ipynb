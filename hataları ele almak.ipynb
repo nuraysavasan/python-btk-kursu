{
 "cells": [
  {
   "cell_type": "code",
   "execution_count": 22,
   "id": "7f3d4f10-c790-408d-87bf-584c60f482f6",
   "metadata": {},
   "outputs": [],
   "source": [
    "def toplama(numara1,numara2):\n",
    "    return numara1 + numara2"
   ]
  },
  {
   "cell_type": "code",
   "execution_count": 24,
   "id": "b6a4c7e4-869c-41ba-967d-61219116674c",
   "metadata": {},
   "outputs": [
    {
     "name": "stdin",
     "output_type": "stream",
     "text": [
      "ilk numarayı giriniz: 7\n",
      "i2. numarayı giriniz: 8\n"
     ]
    },
    {
     "data": {
      "text/plain": [
       "15"
      ]
     },
     "execution_count": 24,
     "metadata": {},
     "output_type": "execute_result"
    }
   ],
   "source": [
    "x=int(input(\"ilk numarayı giriniz:\"))\n",
    "y=int(input(\"i2. numarayı giriniz:\"))\n",
    "toplama(x,y)\n"
   ]
  },
  {
   "cell_type": "markdown",
   "id": "7765c224-9347-4b3d-aa95-ff720278c2a7",
   "metadata": {},
   "source": [
    "##try& except & else& finally"
   ]
  },
  {
   "cell_type": "code",
   "execution_count": 31,
   "id": "219728dc-c318-40d4-83e4-ae54af49d6d9",
   "metadata": {},
   "outputs": [
    {
     "name": "stdin",
     "output_type": "stream",
     "text": [
      "numaranızı girin: e\n"
     ]
    },
    {
     "name": "stdout",
     "output_type": "stream",
     "text": [
      "lütfen gerçek numara giriniz:\n",
      "finally çağırıldı\n"
     ]
    },
    {
     "name": "stdin",
     "output_type": "stream",
     "text": [
      "numaranızı girin: 10\n"
     ]
    },
    {
     "name": "stdout",
     "output_type": "stream",
     "text": [
      "teşekkürler\n",
      "finally çağırıldı\n"
     ]
    }
   ],
   "source": [
    "while True:\n",
    "    try:\n",
    "        benimInt=int(input(\"numaranızı girin:\"))\n",
    "    except:\n",
    "        print(\"lütfen gerçek numara giriniz:\")\n",
    "        continue\n",
    "    else:\n",
    "        print(\"teşekkürler\")\n",
    "        break\n",
    "    finally:print(\"finally çağırıldı\")    "
   ]
  },
  {
   "cell_type": "code",
   "execution_count": null,
   "id": "29e95456-4089-4d20-8a2c-271646bae301",
   "metadata": {},
   "outputs": [],
   "source": []
  }
 ],
 "metadata": {
  "kernelspec": {
   "display_name": "anaconda-panel-2023.05-py310",
   "language": "python",
   "name": "conda-env-anaconda-panel-2023.05-py310-py"
  },
  "language_info": {
   "codemirror_mode": {
    "name": "ipython",
    "version": 3
   },
   "file_extension": ".py",
   "mimetype": "text/x-python",
   "name": "python",
   "nbconvert_exporter": "python",
   "pygments_lexer": "ipython3",
   "version": "3.11.5"
  }
 },
 "nbformat": 4,
 "nbformat_minor": 5
}
